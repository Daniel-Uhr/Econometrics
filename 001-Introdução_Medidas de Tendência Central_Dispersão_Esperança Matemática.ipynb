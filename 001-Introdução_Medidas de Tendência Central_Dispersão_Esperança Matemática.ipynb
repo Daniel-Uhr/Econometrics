{
 "cells": [
  {
   "cell_type": "markdown",
   "metadata": {},
   "source": [
    "# Conceitos Estatística Básica\n",
    "\n",
    "Prof. Daniel de Abreu Pereira Uhr\n",
    "\n",
    "\n",
    "### Conteúdo\n",
    "\n",
    "* Materiais para o estudo e a prática da econometria\n",
    "  \n",
    "* Conceitos de Estatística Básica\n",
    "  * Medidas de Tendência Central\n",
    "    * Média\n",
    "    * Mediana\n",
    "    * Moda\n",
    "  * Medidas de Dispersão\n",
    "    * Amplitude\n",
    "    * Variância\n",
    "    * Desvio Padrão\n",
    "  * Medidas de Forma\n",
    "    * Assimetria\n",
    "    * Curtose\n",
    "  * Esperança Matemática\n",
    "    * Definição \n",
    "    * Covariância\n",
    "    * Correlação\n",
    "    * Esperança Condicional\n",
    "  * Prática em Python: Conceitos de Estatística Básica\n",
    "    * Medidas de Tendência Central\n",
    "    * Medidas de Dispersão\n",
    "    * Media de Forma\n",
    "    * Esperança Matemática\n",
    "  * Teste de Diferença de Médias\n",
    "  * Prática em Python: Teste de Hipóteses\n",
    "    * A regressão linear pode ser vista como um teste de diferença de médias?\n",
    "* Considerações Finais\n",
    "\n",
    "\n",
    "### Referências\n",
    "\n",
    "**Principais:**\n",
    "* Wooldridge, J. M. Introdução à Econometria: uma abordagem moderna. Cengage Learning, 2015.\n",
    "* Gujarati, D. N. Econometria Básica. McGraw Hill; 2011.\n",
    "* Pereda, P. C. e Alves, D. Econometria Aplicada, Elsevier, 2018.\n",
    "* Notas Próprias\n",
    "\n",
    "**Complementares:**\n",
    "* HAYASHI , F. Econometrics, Princeton university press, 2000. \n",
    "* Cattaneo (2010) Journal of Econometrics 155: 138–154"
   ]
  },
  {
   "cell_type": "markdown",
   "metadata": {},
   "source": [
    "---"
   ]
  },
  {
   "cell_type": "markdown",
   "metadata": {},
   "source": [
    "## Materiais para o Estudo e a Prática da Econometria\n",
    "\n",
    "**Livros de Referência**\n",
    "* Wooldridge, J. M. Introdução à Econometria: uma abordagem moderna. Cengage Learning, 2015.\n",
    "* Gujarati, D. N. Econometria Básica. McGraw Hill; 2011.\n",
    "* Pereda, P. C. e Alves, D. Econometria Aplicada, Elsevier, 2018.\n",
    "* Hayashi, F. (2000). Econometrics. Princeton University Press.\n",
    "* Wooldridge, J. M. (2010). Econometric analysis of cross section and panel data. MIT press.\n",
    "* Angrist, J. D., & Pischke, J. S. (2009). Mostly harmless econometrics: An empiricist’s companion. Princeton university press.\n",
    "* Cameron, A. C., & Trivedi, P. K. (2005). Microeconometrics: methods and applications. Cambridge university press.\n",
    "* Avaliação Econômica de Projetos e Programas Sociais. (2017). Itaú Social.\n",
    "* Impact Evaluation in Practice. (2016). The World Bank.\n",
    "* Cunningham, S. W. (2021). Causal Inference: The Mixtape. Yale University Press.\n",
    "* Morgan, S. L., & Winship, C. (2015). Counterfactuals and causal inference: Methods and principles for social research. Cambridge University Press.\n",
    "\n",
    "**Livros Complementares**\n",
    "* Cameron, A. C., & Trivedi, P. K. (2019). Microeconometrics Using Stata (Revised Edition). Stata Press.\n",
    "* Imbens, G. W., & Rubin, D. B. (2015). Causal inference for statistics, social, and biomedical sciences: an introduction. Cambridge University Press.\n",
    "* Angrist, J. D., & Pischke, J. S. (2014). Mastering ‘metrics: The path from cause to effect. Princeton University Press.\n",
    "* Pearl, J. (2009). Causality. Cambridge university press.\n",
    "* Pearl, J., Glymour, M., & Jewell, N. P. (2016). Causal inference in statistics: A primer. John Wiley & Sons.\n",
    "\n",
    "\n",
    "**Linguagem de Programação:** \n",
    "\n",
    "Recomendo a instalação do Visual Studio Code (VSCode), do Python, do R, do Github-Copilot (ter conta no Github), e utilização de arquivos Jupyter Notebook (*.ipynb) para escrita e prática econométrica.\n",
    "\n",
    "https://code.visualstudio.com/download\n",
    "\n",
    "https://www.python.org/downloads/\n",
    "\n",
    "https://github.com/\n",
    "\n",
    "https://github.com/features/copilot\n",
    "\n",
    "https://github.com/Daniel-Uhr\n"
   ]
  },
  {
   "cell_type": "markdown",
   "metadata": {},
   "source": [
    "---"
   ]
  },
  {
   "cell_type": "markdown",
   "metadata": {},
   "source": [
    "## Conceitos de Estatística Básica\n",
    "\n",
    "É importânte revisar os conceitos de estatística básica para a compreensão dos métodos econométricos. Uma diferenciação básica é entendermos a diferença entre **população** e **amostra**. A população é o conjunto de todos os elementos que estamos interessados em estudar, enquanto a amostra é um subconjunto da população. \n",
    "\n",
    "A **estatística descritiva** é a parte da estatística que se preocupa com a **descrição, sumarização e apresentação dos dados**. A **estatística inferencial** é a parte da estatística que se preocupa com a inferência, ou seja, com a **generalização dos resultados obtidos na amostra para a população**.\n",
    "\n",
    "Normalmente, caracterizamos os dados amostrais por **letras** e dados populacionais por **letras gregas** . Por exemplo, a média da população é $\\mu$ e a média da amostra é $\\bar{Y}$. Isso é importante para diferenciar os parâmetros populacionais das estatísticas amostrais. Nosso interesse é, geralmente, nos parâmetros populacionais, mas como não temos acesso a toda a população, utilizamos as estatísticas amostrais para inferir sobre os parâmetros populacionais.\n",
    "\n",
    "Estimação é o processo de inferir sobre um parâmetro populacional a partir de uma amostra. A **estimativa pontual** é uma única estimativa do parâmetro populacional, enquanto o **intervalo de confiança** é uma faixa de valores que, com uma certa probabilidade, contém o parâmetro populacional.\n",
    "\n",
    "Um **estimador** é uma regra que define como estimar um parâmetro populacional a partir de uma amostra (veremos mais profundamente essa questão na próxima aula). \n",
    "* Um estimador é **não viesado** se a média dos valores estimados é igual ao valor do parâmetro populacional. \n",
    "* Um estimador é **consistente** se a variabilidade dos valores estimados diminui à medida que o tamanho da amostra aumenta. \n",
    "* Um estimador é **eficiente** se a variabilidade dos valores estimados é a menor possível.\n",
    "\n",
    "Então, **os parâmetros** representam **características fixas da população**, e são, geralmente, **desconhecidos**. Já os **estimadores** são estatísticas calculadas a partir de uma amostra, e são utilizados para inferir sobre os parâmetros populacionais.\n",
    "\n",
    "Para entendermos como uma variável se comporta, precisamos de **medidas de tendência central**, **medidas de dispersão** e **medidas de forma**.\n",
    "\n",
    "Vamos começar com as medidas de tendência central.\n",
    "\n",
    "### Medidas de Tendência Central\n",
    "\n",
    "As **medidas de tendência central** são fundamentais para a análise estatística, pois fornecem uma representação do \"centro\" de uma distribuição de dados. Em econometria, entender a localização central dos dados é crucial para a construção de modelos econômicos robustos (boa parte da análise empírica se dá na busca sobre o efeito sobre a média da variável de interesse do pesquisador). As medidas de tendência central mais comuns são a **média**, a **mediana** e a **moda**. Vejamso cada uma delas.\n",
    "\n",
    "#### Média amostral (estimador da média populacional)\n",
    "\n",
    "A **média aritmética** é definida como a soma de todos os valores dividida pelo número de observações. Em termos formais, para um conjunto de dados $ Y = \\{y_1, y_2, \\ldots, y_n\\} $.\n",
    "\n",
    "Para dados **discretos**, a média é dada por:\n",
    "\n",
    "$$\n",
    "\\bar{Y} = \\frac{1}{n} \\sum_{i=1}^{n} y_i\n",
    "$$\n",
    "\n",
    "A média é uma medida de tendência central que é sensível a valores extremos, pois é influenciada por todos os valores no conjunto de dados. A média é intuitivamente o \"valor central\" ou o \"valor típico\" de um conjunto de dados. Para obter esse valor central, somamos todos os valores e dividimos pelo número de valores. Essa operação nos dá um ponto de equilíbrio dos dados, refletindo o valor médio.\n",
    "\n",
    "* Para dados **contínuos**, a média é dada por:\n",
    "\n",
    "$$\n",
    "\\bar{Y} = \\int_{-\\infty}^{\\infty} y \\cdot f(y) \\, dy\n",
    "$$\n",
    "\n",
    "Ou seja, a média é a média ponderada dos valores possíveis, onde a ponderação é dada pela função de densidade de probabilidade.\n",
    "\n",
    "**Exemplo:**\n",
    "\n",
    "Considere um estudo que avalia a renda mensal de indivíduos em uma economia. Se as rendas forem $ 1000, 1500, 2000, 2500, 3000 $, a média aritmética da renda seria:\n",
    "\n",
    "$$\n",
    "\\bar{Y} = \\frac{1000 + 1500 + 2000 + 2500 + 3000}{5} = 2000\n",
    "$$\n",
    "\n",
    "\n",
    "#### Mediana\n",
    "\n",
    "A **mediana** é o valor que **divide um conjunto de dados ordenado** em **duas partes iguais** (medida ordinal). Ela é especialmente útil para descrever distribuições assimétricas ou quando existem outliers, pois é menos sensível a valores extremos do que a média. \n",
    "\n",
    "* Para dados **discretos**, a mediana é o valor central quando os dados são ordenados.\n",
    "$$\n",
    "\\text{Mediana} = \n",
    "\\begin{cases} \n",
    "y_{\\left(\\frac{n+1}{2}\\right)}, & \\text{se } n \\text{ é ímpar} \\\\\n",
    "\\frac{y_{\\left(\\frac{n}{2}\\right)} + y_{\\left(\\frac{n}{2} + 1\\right)}}{2}, & \\text{se } n \\text{ é par}\n",
    "\\end{cases}\n",
    "$$\n",
    "\n",
    "* Para dados **contínuos**, a mediana é o valor que divide a área sob a curva de densidade de probabilidade em duas partes iguais. \n",
    "\n",
    "$$\n",
    "P(Y \\leq Mediana) = 0,5\n",
    "$$\n",
    "\n",
    "ou seja,\n",
    "\n",
    "$$\n",
    "\\text{Mediana} = F^{-1}(0.5)\n",
    "$$\n",
    "\n",
    "Aqui, $F^{-1}(0.5)$ é o valor que corresponde ao ponto em que a função de distribuição acumulada atinge 0,5, ou seja, o ponto que deixa 50% da área sob a curva à esquerda.\n",
    "\n",
    "**Exemplo:** \n",
    "\n",
    "Se considerarmos as mesmas rendas anteriores, a mediana seria $ 2000 $, pois é o valor central no conjunto ordenado. Se as rendas fossem $ 1000, 1500, 2000, 2500 $, a mediana seria $ 1750 $, a média dos valores centrais.\n",
    "\n",
    "Comentário: Em uma distribuição de renda, que tipicamente é assimétrica positiva, a mediana fornece uma noção melhor do \"rendimento típico\" do que a média, pois a média pode ser puxada para cima por alguns rendimentos extremamente altos. \n",
    "\n",
    "#### Moda\n",
    "\n",
    "A **moda** é o valor que aparece com mais frequência em um conjunto de dados. Embora seja menos utilizada em análises econométricas formais, pode ser relevante em estudos de distribuições com fortes concentrações em determinados valores.\n",
    "\n",
    "* Para dados discretos, a moda é o valor com a maior frequência. Em termos formais:\n",
    "\n",
    "A moda é o valor $y_{\\text{moda}}$ que maximiza a função de probabilidade $P(Y = y)$. Se $Y$ é uma variável aleatória discreta com função de massa de probabilidade $p(y)$, a moda $y_{\\text{moda}}$ é:\n",
    "$$\n",
    "y_{\\text{moda}} = \\arg\\max_y \\, p(y)\n",
    "$$\n",
    "\n",
    "Isso significa que a moda é o valor $y$ que tem a maior probabilidade $p(y)$ dentre todos os valores possíveis de $Y$.\n",
    "\n",
    "* Para dados contínuos, a moda é o valor $y_{\\text{moda}}$ que maximiza a função densidade de probabilidade $f_Y(y)$. Se $Y$ é uma variável aleatória contínua com função densidade de probabilidade $f_Y(y)$, a moda $y_{\\text{moda}}$ é:\n",
    "$$\n",
    "y_{\\text{moda}} = \\arg\\max_y \\, f_Y(y)\n",
    "$$\n",
    "\n",
    "Isso significa que a moda é o valor $y$ onde a função densidade de probabilidade atinge seu máximo, ou seja, o ponto onde a curva de densidade é mais alta.\n",
    "\n",
    "**Exemplo:** \n",
    "\n",
    "Em uma amostra de salários onde $ 3000 $ aparece três vezes e os demais valores aparecem apenas uma vez, $ 3000 $ seria a moda."
   ]
  },
  {
   "cell_type": "markdown",
   "metadata": {},
   "source": [
    "### Medidas de Dispersão\n",
    "\n",
    "As medidas de dispersão são importante para avaliarmos a variabilidade dos dados em torno das medidas de tendência central. As medidas de dispersão mais comuns são a **amplitude**, a **variância** e o **desvio padrão**. Em econometria, entender a dispersão ajuda muito na análise de risco e incerteza.\n",
    "\n",
    "#### Amplitude\n",
    "\n",
    "A **amplitude** é a diferença entre o maior e o menor valor de um conjunto de dados. Embora simples, essa medida não fornece informação sobre a distribuição interna dos dados.\n",
    "\n",
    "$$\n",
    "\\text{Amplitude} = \\max(y) - \\min(y)\n",
    "$$\n",
    "\n",
    "**Exemplo:** \n",
    "\n",
    "Para a mesma amostra de rendas $ 1000, 1500, 2000, 2500, 3000 $, a amplitude seria $ 3000 - 1000 = 2000 $.\n",
    "\n",
    "\n",
    "#### Variância\n",
    "\n",
    "A **variância** mede a **dispersão dos dados em relação à média**, considerando o quadrado das diferenças entre cada valor e a média:\n",
    "\n",
    "* Para uma população, com dados discretos, a variância é dada por:\n",
    "$$\n",
    "\\sigma^2 = \\frac{1}{n} \\sum_{i=1}^{n} (y_i - \\mu)^2\n",
    "$$\n",
    "\n",
    "* Para uma amostra, com dados discretos, a variância é dada por:\n",
    "\n",
    "$$\n",
    "s^2 = \\frac{1}{n-1} \\sum_{i=1}^{n} (y_i - \\bar{y})^2\n",
    "$$\n",
    "\n",
    "* Para a população com dados contínuos, a variância é dada por:\n",
    "$$\n",
    "\\sigma^2 = \\int_{-\\infty}^{\\infty} (y - \\mu)^2 \\cdot f(y) \\, dy\n",
    "$$\n",
    "\n",
    "* Para a amostra com dados contínuos, a variância é dada por:\n",
    "$$\n",
    "s^2 = \\int_{-\\infty}^{\\infty} (y - \\bar{y})^2 \\cdot f(y) \\, dx\n",
    "$$\n",
    "\n",
    "\n",
    "Onde $\\mu$ é a média populacional e $\\bar{y}$ é a média amostral. E $f(y)$ é a função de densidade de probabilidade.\n",
    "\n",
    "\n",
    "**Exemplo:** \n",
    "\n",
    "Suponha que temos uma amostra de rendas $ 1000, 1500, 2000, 2500, 3000 $. A variância amostral é calculada como:\n",
    "\n",
    "$$\n",
    "s^2 = \\frac{1}{4} [(1000 - 2000)^2 + (1500 - 2000)^2 + (2000 - 2000)^2 + (2500 - 2000)^2 + (3000 - 2000)^2]\n",
    "$$\n",
    "\n",
    "$$\n",
    "s^2 = \\frac{1}{4} [1000000 + 250000 + 0 + 250000 + 1000000] = 625000\n",
    "$$\n",
    "\n",
    "#### Desvio Padrão (Standard Deviation)\n",
    "\n",
    "O **desvio padrão** é a raiz quadrada da variância, representando a dispersão média dos dados em relação à média.\n",
    "\n",
    "* Para uma população:\n",
    "\n",
    "$$\n",
    "\\sigma = \\sqrt{\\sigma^2}\n",
    "$$\n",
    "\n",
    "\n",
    "* Para uma amostra:\n",
    "\n",
    "$$\n",
    "s = \\sqrt{s^2}\n",
    "$$\n",
    "\n",
    "\n",
    "**Exemplo:** Utilizando o exemplo anterior, o desvio padrão seria:\n",
    "\n",
    "$$\n",
    "s = \\sqrt{625000} \\approx 790.57\n",
    "$$\n"
   ]
  },
  {
   "cell_type": "markdown",
   "metadata": {
    "notebookRunGroups": {
     "groupValue": "1"
    }
   },
   "source": [
    "## Medidas de Forma\n",
    "\n",
    "As medidas de forma são importantes para entendermos a simetria e a forma da distribuição dos dados. Vamos começar verificando a simetria da distribuição **normal**. A **distribuição normal** é uma distribuição de probabilidade contínua que é simétrica em torno da média, o que significa que a metade dos valores à esquerda da média é a mesma que a metade dos valores à direita. A **forma da distribuição normal é definida por sua média e desvio padrão**. A **média** determina a **localização do centro da distribuição**, enquanto o **desvio padrão** determina **a altura e a largura da distribuição**. A distribuição normal é simétrica, unimodal e tem uma forma de sino.\n",
    "\n",
    "<div style=\"text-align:center;\">\n",
    "    <img src=\"images\\Dist_Normal.png\" alt=\"Imagem\" style=\"width: 500px;\"/>\n",
    "</div>\n",
    "\n",
    "Ou seja, no caso da distribuição normal, a média, a mediana e a moda são iguais. \n",
    "\n",
    "Para outras distribuições, a simetria e a forma podem ser diferentes. E para entendermos essas diferenças, precisamos de medidas de forma. As medidas de forma mais comuns são a **assimetria** e a **curtose**.\n",
    "\n",
    "### Assimetria (Skewness)\n",
    "\n",
    "A **assimetria** mede a **falta de simetria** de uma distribuição. Uma distribuição é simétrica se a média, a mediana e a moda são iguais. A assimetria é uma medida de quão distante a distribuição é da simetria.\n",
    "\n",
    "* Para uma população, a assimetria é dada por:\n",
    "$$\n",
    "\\gamma_1 = \\frac{1}{\\sigma^3} \\sum_{i=1}^{n} (y_i - \\mu)^3\n",
    "$$\n",
    "\n",
    "* Para uma amostra, a assimetria é dada por:\n",
    "$$\n",
    "g_1 = \\frac{1}{s^3} \\sum_{i=1}^{n} (y_i - \\bar{y})^3\n",
    "$$\n",
    "\n",
    "A assimetria é positiva se a cauda direita da distribuição é mais longa que a cauda esquerda, e negativa se a cauda esquerda é mais longa que a cauda direita. Se a assimetria é zero, a distribuição é simétrica.\n",
    "\n",
    "**Exemplo:**\n",
    "\n",
    "Para a amostra de rendas $ 1000, 1500, 2000, 2500, 3000 $, a assimetria é:\n",
    "$$\n",
    "g_1 = \\frac{1}{625000^{3/2}} [(1000 - 2000)^3 + (1500 - 2000)^3 + (2000 - 2000)^3 + (2500 - 2000)^3 + (3000 - 2000)^3]\n",
    "$$\n",
    "\n",
    "$$\n",
    "g_1 = \\frac{1}{625000^{3/2}} [(-1000)^3 + (-500)^3 + 0 + (500)^3 + (1000)^3] = 0\n",
    "$$\n",
    "\n",
    "### Curtose (Kurtosis)\n",
    "\n",
    "A **curtose** mede a **espessura da cauda** de uma distribuição. A curtose é uma medida de quão \"pesadas\" são as caudas da distribuição em relação à distribuição normal. Em outras palavras, a curtose mede a probabilidade de observar valores extremos.\n",
    "\n",
    "* Para uma população, a curtose é dada por:\n",
    "$$\n",
    "\\gamma_2 = \\frac{1}{\\sigma^4} \\sum_{i=1}^{n} (y_i - \\mu)^4\n",
    "$$\n",
    "\n",
    "* Para uma amostra, a curtose é dada por:\n",
    "$$\n",
    "g_2 = \\frac{1}{s^4} \\sum_{i=1}^{n} (y_i - \\bar{y})^4\n",
    "$$\n",
    "\n",
    "A curtose é positiva se a distribuição tem caudas mais pesadas que a distribuição normal, e negativa se a distribuição tem caudas mais leves que a distribuição normal. Se a curtose é zero, a distribuição tem caudas semelhantes à distribuição normal.\n",
    "\n",
    "**Exemplo:**\n",
    "\n",
    "Para a amostra de rendas $ 1000, 1500, 2000, 2500, 3000 $, a curtose é:\n",
    "$$\n",
    "g_2 = \\frac{1}{625000^2} [(1000 - 2000)^4 + (1500 - 2000)^4 + (2000 - 2000)^4 + (2500 - 2000)^4 + (3000 - 2000)^4]\n",
    "$$\n",
    "\n",
    "$$\n",
    "g_2 = \\frac{1}{625000^2} [(-1000)^4 + (-500)^4 + 0 + (500)^4 + (1000)^4] = 1.2\n",
    "$$\n",
    "\n",
    "Então, a distribuição das rendas é mais pesada nas caudas do que a distribuição normal.\n",
    "\n",
    "**Graficamente:**\n",
    " \n",
    "<div style=\"text-align:center;\">\n",
    "    <img src=\"images\\assimetria.png\" alt=\"Imagem\" style=\"width: 500px;\"/>\n",
    "</div>\n"
   ]
  },
  {
   "cell_type": "markdown",
   "metadata": {
    "notebookRunGroups": {
     "groupValue": "1"
    }
   },
   "source": [
    "## Esperança Matemática\n",
    "\n",
    "A esperança matemática (ou valor esperado) de uma variável aleatória é uma medida do valor médio ponderado que a variável assumiria em média após um número muito grande de repetições de um experimento, ou ao longo de sua distribuição de probabilidade. A **esperança matemática** ou valor esperado de uma variável aleatória **é uma medida do valor médio que a variável assumiria após infinitas repetições do experimento**.\n",
    "\n",
    "* Para uma variável aleatória discreta $Y$ com possíveis valores $y_1, y_2, \\dots, y_n$ e probabilidades associadas $P(Y = y_i)$, a esperança matemática é definida como:\n",
    "$$\n",
    "E[Y] = \\sum_{i=1}^{n} y_i \\cdot P(Y = y_i)\n",
    "$$\n",
    "\n",
    "* Para uma variável aleatória contínua $Y$ com função densidade de probabilidade $f_X(y)$, a esperança matemática é definida como:\n",
    "$$\n",
    "E[Y] = \\int_{-\\infty}^{\\infty} y \\cdot f_Y(y) \\, dy\n",
    "$$\n",
    "\n",
    "A esperança matemática é o valor médio que você esperaria obter se o experimento fosse repetido um número infinito de vezes, ou se considerássemos todos os possíveis resultados da variável ponderados por suas probabilidades.\n",
    "\n",
    "**Exemplo:** Considere um jogo onde você ganha $ 10 $ com probabilidade $ 0.5 $ e perde $ 5 $ com probabilidade $ 0.5 $. O valor esperado do ganho seria:\n",
    "\n",
    "$$\n",
    "E(Y) = 10 \\times 0.5 + (-5) \\times 0.5 = 2.5\n",
    "$$\n",
    "\n",
    "#### Covariância\n",
    "\n",
    "A **covariância** é uma medida que indica **a direção e a intensidade da relação linear entre duas variáveis aleatórias**. Ela nos ajuda a entender como duas variáveis se movem conjuntamente: se uma tende a aumentar quando a outra aumenta, ou se uma tende a diminuir quando a outra aumenta.\n",
    "\n",
    "Para duas variáveis aleatórias $X$ e $Y$ com esperanças matemáticas $E[X] = \\mu_X$ e $E[Y] = \\mu_Y$, a covariância entre $X$ e $Y$ é definida como:\n",
    "\n",
    "$$\n",
    "\\text{Cov}(X, Y) = E\\left[(X - \\mu_X)(Y - \\mu_Y)\\right]\n",
    "$$\n",
    "\n",
    "Ou, expandindo a definição:\n",
    "\n",
    "$$\n",
    "\\text{Cov}(X, Y) = E[XY] - E[X]E[Y]\n",
    "$$\n",
    "\n",
    "* **Covariância Positiva**: Se $\\text{Cov}(X, Y) > 0$, isso indica que, em média, $X$ e $Y$ tendem a aumentar juntos. Ou seja, quando $X$ está acima de sua média, $Y$ também tende a estar acima da sua média, e vice-versa.\n",
    "\n",
    "* **Covariância Negativa**: Se $\\text{Cov}(X, Y) < 0$, isso sugere que, em média, quando $X$ aumenta, $Y$ tende a diminuir. Nesse caso, as variáveis se movem em direções opostas.\n",
    "\n",
    "* **Covariância Zero**: Se $\\text{Cov}(X, Y) = 0$, isso significa que não há uma relação linear direta entre $X$ e $Y$. **No entanto, isso não implica necessariamente que as variáveis sejam independentes; elas podem ter uma relação não linear**.\n",
    "\n",
    "Quando trabalhamos com dados amostrais, a covariância amostral entre duas variáveis $X$ e $Y$ com $n$ observações é dada por:\n",
    "\n",
    "$$\n",
    "\\text{Cov}(X, Y) = \\frac{1}{n-1} \\sum_{i=1}^{n} (X_i - \\bar{X})(Y_i - \\bar{Y})\n",
    "$$\n",
    "\n",
    "Onde: $X_i$ e $Y_i$ são os valores das variáveis $X$ e $Y$ na $i$-ésima observação. $\\bar{X}$ e $\\bar{Y}$ são as médias amostrais de $X$ e $Y$. Ou, de forma equivalente:\n",
    "\n",
    "$$\n",
    "\\text{Cov}(X, Y) = \\frac{1}{n-1} \\sum_{i=1}^{n} X_iY_i - \\frac{1}{n-1} \\left(\\sum_{i=1}^{n} X_i\\right)\\left(\\sum_{i=1}^{n} Y_i\\right)\n",
    "$$\n",
    "\n",
    "Observação: Dividimos por $ n-1 $ em vez de $ n $ ao calcular a variância e a covariância para corrigir o viés amostral. Esses cálculos envolvem desvios em relação à média, o que reduz o número de graus de liberdade — ou seja, a quantidade de informações independentes que temos na amostra. Para ajustar o viés que pode surgir ao estimar a variância ou a covariância a partir de uma amostra, aplicamos a chamada **correção de Bessel**, dividindo por $ n-1 $ em vez de $ n $. Essa correção não é necessária para a média porque, ao calcular a média amostral, a soma dos desvios em relação à média é sempre zero. Como resultado, a média amostral é uma estimativa não viesada da média populacional, e não há necessidade de ajustes adicionais.\n",
    "\n",
    "\n",
    "### Correlação\n",
    "\n",
    "A **correlação** é uma versão padronizada da covariância que mede a força e a direção da relação linear entre duas variáveis em uma escala de $-1$ a $1$. Em termos de esperança matemática, a correlação entre duas variáveis $X$ e $Y$ é dada por:\n",
    "\n",
    "$$\n",
    "\\rho_{X,Y} = \\frac{E\\left[(X - \\mu_X)(Y - \\mu_Y)\\right]}{\\sigma_X \\sigma_Y} = \\frac{\\text{Cov}(X, Y)}{\\sigma_X \\sigma_Y}\n",
    "$$\n",
    "\n",
    "Onde $\\sigma_X$ e $\\sigma_Y$ são os desvios-padrão de $X$ e $Y$. Ou, de forma equivalente:\n",
    "\n",
    "$$\n",
    "\\rho_{X,Y} = \\frac{\\sum_{i=1}^{n} (X_i - \\bar{X})(Y_i - \\bar{Y})}{\\sqrt{\\sum_{i=1}^{n} (X_i - \\bar{X})^2} \\sqrt{\\sum_{i=1}^{n} (Y_i - \\bar{Y})^2}}\n",
    "$$\n",
    "\n",
    "\n",
    "### Esperança Condicional\n",
    "\n",
    "A **Esperança Condicional** (ou **Expectativa Condicional**) é um conceito fundamental em probabilidade e estatística, especialmente em teoria da decisão, econometria, e em várias áreas da matemática aplicada. Em termos formais, a esperança condicional de uma variável aleatória $ Y $ dado uma variável aleatória $ X $, é o valor esperado de $ Y $ levando em consideração a informação de que $ X $ assume um determinado valor.\n",
    "\n",
    "Suponha que temos duas variáveis aleatórias $ X $ e $ Y $, e queremos calcular a expectativa condicional de $ Y $ dado $ X $. A expectativa condicional de $ Y $ dado $ X $ é uma função de $ X $ que nos dá o valor esperado de $ Y $ para cada valor de $ X $.\n",
    "\n",
    "| Y | X |\n",
    "|---|---|\n",
    "| 5 | 1 |\n",
    "| 4 | 1 |\n",
    "| 6 | 1 |\n",
    "| 2 | 0 |\n",
    "| 3 | 0 |\n",
    "| 1 | 0 |\n",
    "\n",
    "Aqui, $ Y $ é a variável de interesse, $ X $ é uma variável que assume valores binários (0 ou 1).\n",
    "\n",
    "* Para $ X = 1 $: As observações correspondentes de $ Y $ são: 5, 4, 6.\n",
    "* Para $ X = 0 $: As observações correspondentes de $ Y $ são: 2, 3, 1.\n",
    "\n",
    "* **$ \\mathbb{E}[Y \\mid X = 1] $**:\n",
    "$$\n",
    "\\mathbb{E}[Y \\mid X = 1] = \\frac{5 + 4 + 6}{3} = \\frac{15}{3} = 5\n",
    "$$\n",
    "\n",
    "* **$ \\mathbb{E}[Y \\mid X = 0] $**:\n",
    "$$\n",
    "\\mathbb{E}[Y \\mid X = 0] = \\frac{2 + 3 + 1}{3} = \\frac{6}{3} = 2\n",
    "$$\n",
    "\n",
    "\n",
    "A expectativa condicional de $ Y $ dado $ X $ é:\n",
    "\n",
    "$$\n",
    "\\mathbb{E}[Y \\mid X] =\n",
    "\\begin{cases}\n",
    "5 & \\text{se } X = 1 \\\\\n",
    "2 & \\text{se } X = 0\n",
    "\\end{cases}\n",
    "$$\n",
    "\n",
    "Isso significa que, com base nos dados observados, o valor esperado de $ Y $ é 5 quando $ X = 1 $ e 2 quando $X = 0 $.\n",
    "\n",
    "\n",
    "**Esperança Incondicional**\n",
    "\n",
    "A esperança incondicional, ou simplesmente a esperança (ou expectativa), de uma variável aleatória $Y$ é o valor médio esperado de $Y$ sem levar em consideração qualquer informação adicional, como o valor de outra variável $X$. Ela é calculada considerando todas as observações de $Y$ na amostra.\n",
    "\n",
    "Considerando o exemplo anterior, a esperança incondicional de $Y$ é:\n",
    "$$\n",
    "\\mathbb{E}[Y] = \\frac{5 + 4 + 6 + 2 + 3 + 1}{6} = \\frac{21}{6} = 3.5\n",
    "$$\n",
    "\n",
    "\n",
    "**Propriedades da Esperança Condicional**\n",
    "\n",
    "* **Linearidade**: \n",
    "   - $ \\mathbb{E}[aY + bZ \\mid X] = a\\mathbb{E}[Y \\mid X] + b\\mathbb{E}[Z \\mid X] $ para quaisquer constantes $ a $ e $ b $, e variáveis aleatórias $ Y $ e $ Z $.\n",
    "  \n",
    "* **Lei das Expectativas Iteradas**:\n",
    "   - $ \\mathbb{E}[Y] = \\mathbb{E}[\\mathbb{E}[Y \\mid X]] $. \n",
    "   - Esta lei é essencial para derivar muitas propriedades estatísticas e para a modelagem de séries temporais e processos estocásticos.\n",
    "\n",
    "* **Independência**:\n",
    "   - Se $ Y $ e $ X $ são independentes, então $ \\mathbb{E}[Y \\mid X] = \\mathbb{E}[Y] $.\n",
    "\n",
    "Vejamos um exemplo de cada uma das propriedades da Esperança Condicional. Primeiramente, a propriedade de linearidade. Suponha os seguintes valores para $ Y $ e $ Z $:\n",
    "\n",
    "| Y | Z | X |\n",
    "|---|---|---|\n",
    "| 1 | 2 | 1 |\n",
    "| 2 | 3 | 1 |\n",
    "| 3 | 4 | 0 |\n",
    "| 4 | 5 | 0 |\n",
    "\n",
    "A esperança condicional de $ Y $ dado $ X $ é:\n",
    "\n",
    "$$\n",
    "\\mathbb{E}[Y \\mid X = 1] = \\frac{1 + 2}{2} = 1.5\n",
    "$$\n",
    "\n",
    "$$\n",
    "\\mathbb{E}[Y \\mid X = 0] = \\frac{3 + 4}{2} = 3.5\n",
    "$$\n",
    "\n",
    "A esperança condicional de $ Z $ dado $ X $ é:\n",
    "\n",
    "$$\n",
    "\\mathbb{E}[Z \\mid X = 1] = \\frac{2 + 3}{2} = 2.5\n",
    "$$\n",
    "\n",
    "$$\n",
    "\\mathbb{E}[Z \\mid X = 0] = \\frac{4 + 5}{2} = 4.5\n",
    "$$\n",
    "\n",
    "Agora, vamos verificar **a propriedade de linearidade**, se $ a = 2 $ e $ b = 3 $, então:\n",
    "\n",
    "$$\n",
    "\\mathbb{E}[aY + bZ \\mid X] = a\\mathbb{E}[Y \\mid X] + b\\mathbb{E}[Z \\mid X]\n",
    "$$\n",
    "\n",
    "$$\n",
    "\\mathbb{E}[2Y + 3Z \\mid X] = 2\\mathbb{E}[Y \\mid X] + 3\\mathbb{E}[Z \\mid X]\n",
    "$$\n",
    "\n",
    "$$\n",
    "\\mathbb{E}[2Y + 3Z \\mid X = 1] = 2 \\times 1.5 + 3 \\times 2.5 = 10\n",
    "$$\n",
    "\n",
    "$$\n",
    "\\mathbb{E}[2Y + 3Z \\mid X = 0] = 2 \\times 3.5 + 3 \\times 4.5 = 22\n",
    "$$\n",
    "\n",
    "Agora, vamos verificar a **Lei das Expectativas Iteradas**. A esperança incondicional de $ Y $ é:\n",
    "\n",
    "$$\n",
    "\\mathbb{E}[Y] = \\frac{1 + 2 + 3 + 4}{4} = 2.5\n",
    "$$\n",
    "\n",
    "A esperança condicional de $ Y $ dado $ X $ é:\n",
    "\n",
    "$$\n",
    "\\mathbb{E}[Y \\mid X = 1] = \\frac{1 + 2}{2} = 1.5\n",
    "$$\n",
    "\n",
    "$$\n",
    "\\mathbb{E}[Y \\mid X = 0] = \\frac{3 + 4}{2} = 3.5\n",
    "$$\n",
    "\n",
    "A esperança incondicional de $ \\mathbb{E}[Y \\mid X] $ é:\n",
    "\n",
    "$$\n",
    "\\mathbb{E}[\\mathbb{E}[Y \\mid X]] = \\frac{1.5 + 3.5}{2} = 2.5\n",
    "$$\n",
    "\n",
    "Como esperado, a esperança incondicional de $ Y $ é igual à esperança da esperança condicional de $ Y $ dado $ X $ (Lei das Expectativas Iteradas).\n",
    "\n",
    "\n",
    "Por fim, vamos verificar a **propriedade de independência**. Assuma agora a seguinte tabela de dados:\n",
    "\n",
    "| Y | X |  \n",
    "|---|---|\n",
    "| 2 | 0 |\n",
    "| 3 | 0 |\n",
    "| 2 | 1 |\n",
    "| 3 | 1 |\n",
    "\n",
    "A esperança incondicional de $ Y $ é:\n",
    "\n",
    "$$\n",
    "\\mathbb{E}[Y] = \\frac{2 + 3 + 2 + 3}{4} = 2.5\n",
    "$$\n",
    "\n",
    "A esperança condicional de $ Y $ dado $ X $ é:\n",
    "\n",
    "$$\n",
    "\\mathbb{E}[Y \\mid X = 0] = \\frac{2 + 3}{2} = 2.5\n",
    "$$\n",
    "\n",
    "$$\n",
    "\\mathbb{E}[Y \\mid X = 1] = \\frac{2 + 3}{2} = 2.5\n",
    "$$\n",
    "\n",
    "Como $ Y $ e $ X $ são independentes, então $ \\mathbb{E}[Y \\mid X] = \\mathbb{E}[Y] $."
   ]
  },
  {
   "cell_type": "markdown",
   "metadata": {
    "notebookRunGroups": {
     "groupValue": "1"
    }
   },
   "source": [
    "---"
   ]
  },
  {
   "cell_type": "markdown",
   "metadata": {},
   "source": [
    "## Prática em Python: Conceitos de Estatística Básica"
   ]
  },
  {
   "cell_type": "markdown",
   "metadata": {},
   "source": [
    "Vamos aplicar alguns conceitos vistos. \n",
    "\n",
    "**Medidas de Tendência Central.**\n",
    "* Média\n",
    "* Mediana\n",
    "* Moda\n",
    "\n",
    "**Medidas de Dispersão**\n",
    "* Amplitude\n",
    "* Variância\n",
    "* Desvio Padrão\n",
    "\n",
    "**Media de Forma**\n",
    "* Assimetria\n",
    "* Curtose\n",
    "\n",
    "**Esperança Matemática**\n",
    "* Covariância\n",
    "* Correlação\n",
    "* Esperança Condicional"
   ]
  },
  {
   "cell_type": "code",
   "execution_count": 1,
   "metadata": {},
   "outputs": [],
   "source": [
    "# Carregando os pacotes necessários para a análise em Python\n",
    "import pandas as pd\n",
    "import numpy as np\n",
    "import seaborn as sns\n",
    "import matplotlib.pyplot as plt\n",
    "import statsmodels.api as sm\n",
    "from scipy.stats import norm"
   ]
  },
  {
   "cell_type": "code",
   "execution_count": 2,
   "metadata": {},
   "outputs": [],
   "source": [
    "# Carregando o data-frame (df) que contém os dados (formato Stata)\n",
    "df = pd.read_stata(\"https://github.com/Daniel-Uhr/data/raw/main/cattaneo2.dta\")"
   ]
  },
  {
   "cell_type": "code",
   "execution_count": 3,
   "metadata": {},
   "outputs": [
    {
     "name": "stdout",
     "output_type": "stream",
     "text": [
      "3361.679879362344\n",
      "3390.0\n",
      "0    3459\n",
      "Name: bweight, dtype: int16\n"
     ]
    }
   ],
   "source": [
    "# Vamos verificar as medidas de tendencia central (Média, Mediana e Moda) da variável 'bweight' (peso dos bebês ao nascer)\n",
    "print(df['bweight'].mean())\n",
    "print(df['bweight'].median())\n",
    "print(df['bweight'].mode())"
   ]
  },
  {
   "cell_type": "code",
   "execution_count": 4,
   "metadata": {},
   "outputs": [
    {
     "name": "stdout",
     "output_type": "stream",
     "text": [
      "5160\n",
      "335032.156065661\n",
      "578.8196230827537\n"
     ]
    }
   ],
   "source": [
    "# Vejamos agora as Medidas de Dispersão: Amplitude, Variância, e Desvio Padrão da variável 'bweight'\n",
    "print(df['bweight'].max() - df['bweight'].min())\n",
    "print(df['bweight'].var())\n",
    "print(df['bweight'].std())"
   ]
  },
  {
   "cell_type": "code",
   "execution_count": 5,
   "metadata": {},
   "outputs": [
    {
     "data": {
      "text/plain": [
       "<Axes: xlabel='bweight', ylabel='Count'>"
      ]
     },
     "execution_count": 5,
     "metadata": {},
     "output_type": "execute_result"
    },
    {
     "data": {
      "image/png": "[encoded data removed]",
      "text/plain": [
       "<Figure size 640x480 with 1 Axes>"
      ]
     },
     "metadata": {},
     "output_type": "display_data"
    }
   ],
   "source": [
    "# Vamos verificar a distribuição da variável 'bweight' (peso dos bebês ao nascer) por meio de um histograma\n",
    "sns.histplot(df['bweight'], kde=True)"
   ]
  },
  {
   "cell_type": "code",
   "execution_count": 6,
   "metadata": {},
   "outputs": [
    {
     "data": {
      "text/plain": [
       "<matplotlib.lines.Line2D at 0x254518c9210>"
      ]
     },
     "execution_count": 6,
     "metadata": {},
     "output_type": "execute_result"
    },
    {
     "data": {
      "image/png": "[encoded data removed]",
      "text/plain": [
       "<Figure size 640x480 with 1 Axes>"
      ]
     },
     "metadata": {},
     "output_type": "display_data"
    }
   ],
   "source": [
    "# Vamos verificar a distribuição da variável 'bweight' (peso dos bebês ao nascer) \n",
    "# por meio de um gráfico de densidade\n",
    "sns.kdeplot(df['bweight'], fill=True, label='Distribuição de bweight')\n",
    "# Vamos adicionar a média, mediana e moda ao gráfico\n",
    "plt.axvline(df['bweight'].mean(), color='red', linestyle='dashed', linewidth=1)\n",
    "plt.axvline(df['bweight'].median(), color='blue', linestyle='dashed', linewidth=1)\n",
    "plt.axvline(df['bweight'].mode()[0], color='green', linestyle='dashed', linewidth=1)"
   ]
  },
  {
   "cell_type": "code",
   "execution_count": 7,
   "metadata": {},
   "outputs": [
    {
     "name": "stdout",
     "output_type": "stream",
     "text": [
      "-0.7852057652901697\n",
      "2.792978120715629\n"
     ]
    }
   ],
   "source": [
    "# Agora vamos avaliar as medidas de forma: Assimetria e Curtose da variável 'bweight'\n",
    "print(df['bweight'].skew())\n",
    "print(df['bweight'].kurt())"
   ]
  },
  {
   "cell_type": "markdown",
   "metadata": {},
   "source": [
    "O valores resultantes da assimetria e curtose, formam, respectivamente, -0.7852057652901697 e 2.792978120715629. Isso significa que a distribuição é assimétrica negativa e tem caudas mais pesadas que a distribuição normal. Com relação às medidas de tendencia central (média, mediana e moda), uma distribuição de dados assimétrica à esquerda, apresenta a média menor que a mediana, e a mediana menor que a moda; e foi o que observamos no exemplo.\n",
    "\n",
    "Assimétrica negativa (à esquerda) quer dizer que a cauda esquerda é mais longa que a cauda direita. A curtose de 2.79 indica que a distribuição tem caudas mais pesadas que a distribuição normal. Vamos comparar com uma distribuição normal.\n",
    "\n"
   ]
  },
  {
   "cell_type": "code",
   "execution_count": 8,
   "metadata": {},
   "outputs": [
    {
     "data": {
      "image/png": "[encoded data removed]",
      "text/plain": [
       "<Figure size 640x480 with 1 Axes>"
      ]
     },
     "metadata": {},
     "output_type": "display_data"
    }
   ],
   "source": [
    "# Plotando a densidade da variável 'bweight'\n",
    "sns.kdeplot(df['bweight'], fill=True, label='Distribuição de bweight')\n",
    "\n",
    "# Calculando a média e o desvio padrão da variável 'bweight'\n",
    "mean = np.mean(df['bweight'])\n",
    "std = np.std(df['bweight'])\n",
    "\n",
    "# Gerando uma sequência de valores para plotar a distribuição normal\n",
    "x_values = np.linspace(df['bweight'].min(), df['bweight'].max(), 1000)\n",
    "normal_dist = norm.pdf(x_values, mean, std)\n",
    "\n",
    "# Plotando a distribuição normal com uma linha pontilhada\n",
    "plt.plot(x_values, normal_dist, 'r--', label='Distribuição Normal')\n",
    "\n",
    "# Exibindo o gráfico\n",
    "plt.show()"
   ]
  },
  {
   "cell_type": "markdown",
   "metadata": {},
   "source": [
    " **Covariância e Correlação**\n",
    " \n",
    " A variável 'mbsmoke´ descreve se a gestante é fumante \"smoker\" ou não \"nonsmoker\". Vamos criar umva variável indicativa (binária) para fumante e não fumante. Vamos chamar ela de X. E, também, vamos criar uma nova variável para o peso dos bebes, chamada de Y. Posteriormente, vamos calcular a covariância e a correlação entre X e Y."
   ]
  },
  {
   "cell_type": "code",
   "execution_count": 9,
   "metadata": {},
   "outputs": [
    {
     "data": {
      "text/html": [
       "<div>\n",
       "<style scoped>\n",
       "    .dataframe tbody tr th:only-of-type {\n",
       "        vertical-align: middle;\n",
       "    }\n",
       "\n",
       "    .dataframe tbody tr th {\n",
       "        vertical-align: top;\n",
       "    }\n",
       "\n",
       "    .dataframe thead th {\n",
       "        text-align: right;\n",
       "    }\n",
       "</style>\n",
       "<table border=\"1\" class=\"dataframe\">\n",
       "  <thead>\n",
       "    <tr style=\"text-align: right;\">\n",
       "      <th></th>\n",
       "      <th>Y</th>\n",
       "      <th>X</th>\n",
       "    </tr>\n",
       "  </thead>\n",
       "  <tbody>\n",
       "    <tr>\n",
       "      <th>Y</th>\n",
       "      <td>335032.156066</td>\n",
       "      <td>-41.705110</td>\n",
       "    </tr>\n",
       "    <tr>\n",
       "      <th>X</th>\n",
       "      <td>-41.705110</td>\n",
       "      <td>0.151516</td>\n",
       "    </tr>\n",
       "  </tbody>\n",
       "</table>\n",
       "</div>"
      ],
      "text/plain": [
       "               Y          X\n",
       "Y  335032.156066 -41.705110\n",
       "X     -41.705110   0.151516"
      ]
     },
     "execution_count": 9,
     "metadata": {},
     "output_type": "execute_result"
    }
   ],
   "source": [
    "# Criar Y e X, Y será igual a variável 'bweight' e X será 1 quando 'mbsmoke' for \"smoker\" e 0 caso contrário\n",
    "df['X'] = (df['mbsmoke'] == 'smoker').astype(int)\n",
    "df['Y'] = df['bweight']\n",
    "\n",
    "# covariância entre Y e X (matriz de variância-covariância)\n",
    "df[['Y', 'X']].cov()"
   ]
  },
  {
   "cell_type": "markdown",
   "metadata": {},
   "source": [
    "* A variância de Y é grande, indicando uma grande dispersão dos valores de Y.\n",
    "* A variância de X é pequena, indicando que X não varia muito.\n",
    "* A covariância negativa entre Y e X sugere uma relação inversa fraca entre essas variáveis. A relação inversa é fraca devido à pequena magnitude da covariância (-41.705110)."
   ]
  },
  {
   "cell_type": "code",
   "execution_count": 10,
   "metadata": {},
   "outputs": [
    {
     "data": {
      "text/html": [
       "<div>\n",
       "<style scoped>\n",
       "    .dataframe tbody tr th:only-of-type {\n",
       "        vertical-align: middle;\n",
       "    }\n",
       "\n",
       "    .dataframe tbody tr th {\n",
       "        vertical-align: top;\n",
       "    }\n",
       "\n",
       "    .dataframe thead th {\n",
       "        text-align: right;\n",
       "    }\n",
       "</style>\n",
       "<table border=\"1\" class=\"dataframe\">\n",
       "  <thead>\n",
       "    <tr style=\"text-align: right;\">\n",
       "      <th></th>\n",
       "      <th>Y</th>\n",
       "      <th>X</th>\n",
       "    </tr>\n",
       "  </thead>\n",
       "  <tbody>\n",
       "    <tr>\n",
       "      <th>Y</th>\n",
       "      <td>1.000000</td>\n",
       "      <td>-0.185104</td>\n",
       "    </tr>\n",
       "    <tr>\n",
       "      <th>X</th>\n",
       "      <td>-0.185104</td>\n",
       "      <td>1.000000</td>\n",
       "    </tr>\n",
       "  </tbody>\n",
       "</table>\n",
       "</div>"
      ],
      "text/plain": [
       "          Y         X\n",
       "Y  1.000000 -0.185104\n",
       "X -0.185104  1.000000"
      ]
     },
     "execution_count": 10,
     "metadata": {},
     "output_type": "execute_result"
    }
   ],
   "source": [
    "# correlação entre Y e X\n",
    "df[['Y', 'X']].corr()"
   ]
  },
  {
   "cell_type": "markdown",
   "metadata": {},
   "source": [
    "A correlação de qualquer variável consigo mesma é sempre 1. O valor de -0.185104 representa a correlação de Pearson entre Y e X. A correlação de Pearson mede a força e a direção da relação linear entre duas variáveis.\n",
    "Sinal negativo (-0.185104): O sinal negativo indica que há uma relação inversa entre Y e X. Quando X aumenta, Y tende a diminuir, e vice-versa. No nosso caso, uma correlação de -0.185104 indica uma relação linear negativa fraca entre Y e X. Ou seja, embora haja uma tendência de que quando uma variável aumenta, a outra diminui, essa relação não é muito forte."
   ]
  },
  {
   "cell_type": "markdown",
   "metadata": {},
   "source": [
    "**Esperança Condicional**\n",
    "\n",
    "E a esperança condicional, entra onde nessa avaliação descritiva dos dados?\n",
    "\n",
    "Vejamos um exemplo com esses mesmos dados. Vamos calcular a esperança condicional de Y dado X."
   ]
  },
  {
   "cell_type": "code",
   "execution_count": 11,
   "metadata": {},
   "outputs": [
    {
     "name": "stdout",
     "output_type": "stream",
     "text": [
      "3412.91159343568\n",
      "3137.659722222222\n"
     ]
    }
   ],
   "source": [
    "# Agora vamos calcular a média do peso dos bebês para fumantes e não fumantes\n",
    "# para não fumantes\n",
    "mean_n_fumantes = np.mean(df[df['X'] == 0]['Y'])\n",
    "# para fumantes\n",
    "mean_fumantes = np.mean(df[df['X'] == 1]['Y'])\n",
    "\n",
    "print(mean_n_fumantes)\n",
    "print(mean_fumantes)\n"
   ]
  },
  {
   "cell_type": "code",
   "execution_count": 12,
   "metadata": {},
   "outputs": [
    {
     "data": {
      "text/plain": [
       "<matplotlib.lines.Line2D at 0x25456b12a50>"
      ]
     },
     "execution_count": 12,
     "metadata": {},
     "output_type": "execute_result"
    },
    {
     "data": {
      "image/png": "[encoded data removed]",
      "text/plain": [
       "<Figure size 640x480 with 1 Axes>"
      ]
     },
     "metadata": {},
     "output_type": "display_data"
    }
   ],
   "source": [
    "# Vejamos a distribuição do peso dos bebês para fumantes e não fumantes, marcando a média de cada grupo\n",
    "sns.kdeplot(df[df['X'] == 0]['Y'], fill=True, label='Não fumantes')\n",
    "sns.kdeplot(df[df['X'] == 1]['Y'], fill=True, label='Fumantes')\n",
    "\n",
    "# Adicionando linhas verticais para as médias\n",
    "plt.axvline(mean_n_fumantes, color='blue', linestyle='--', label='Média Não fumantes')\n",
    "plt.axvline(mean_fumantes, color='orange', linestyle='--', label='Média Fumantes')"
   ]
  },
  {
   "cell_type": "code",
   "execution_count": 13,
   "metadata": {},
   "outputs": [
    {
     "name": "stdout",
     "output_type": "stream",
     "text": [
      "-275.2518712134579\n"
     ]
    }
   ],
   "source": [
    "# Diferença entre as médias\n",
    "diff_means = mean_fumantes - mean_n_fumantes\n",
    "print(diff_means)"
   ]
  },
  {
   "cell_type": "markdown",
   "metadata": {},
   "source": [
    "Repare que o fato da mãe fumar, \"parece que desloca\" a distribuição para a esquerda, ou seja, a média do peso dos bebês é menor quando a mãe fuma. Isso é um exemplo de como a esperança condicional pode ser útil para entender o efeito de uma variável sobre outra (Repare mais uma vez que estamos avaliando uma medida de tendencia centra, a média!). \n",
    "\n",
    "Entretanto, fica a dúvida, será que essas 275,25 gramas a menos são estatisticamente significativos? Ou seja, são estatísticamente diferente de zero? Para responder a essa pergunta, precisamos formular e testar as hipótes."
   ]
  },
  {
   "cell_type": "markdown",
   "metadata": {},
   "source": [
    "## Teste de Hipóteses\n",
    "\n",
    "Um **teste de hipóteses** é um procedimento estatístico usado para avaliar se existe evidência suficiente nos dados de uma amostra para inferir que uma determinada condição é verdadeira para a população inteira. Essencialmente, é uma ferramenta para tomada de decisões que permite comparar uma suposição inicial (hipótese nula) com uma alternativa.\n",
    "\n",
    "Estes testes são importantes para \n",
    "* **Pesquisa Científica:** Em pesquisas científicas, os testes de hipóteses ajudam a validar ou refutar teorias e modelos.\n",
    "* **Tomada de Decisões:** No mundo dos negócios, na medicina e em muitas outras áreas, os testes de hipóteses são fundamentais para decisões baseadas em dados.\n",
    "\n",
    "Os componentes básicos de um teste de hipóteses são:\n",
    "* Hipótese Nula (H0): (É o ponto de partida do teste de hipóteses. É a hipótese que queremos testar.)\n",
    "  * A hipótese nula é uma afirmação que **presume a ausência de efeito ou relação entre variáveis**. \n",
    "\n",
    "* Hipótese Alternativa (H1 ou Ha): é o oposto da hipótese nula.\n",
    "  * ao contrário da hipótese nula, a hipótese alternativa sugere a presença de um efeito ou relação.\n",
    "  \n",
    "No nosso exemplo, a hipótese nula seria que o peso dos bebês não é afetado pelo fato da mãe fumar. A hipótese alternativa seria que o peso dos bebês é afetado pelo fato da mãe fumar.\n",
    "\n",
    "O teste pressupõe um nível de significância, geralmente denotado por α (alfa), que é a probabilidade de rejeitar a hipótese nula quando ela é verdadeira. O valor comum de α é 0.05.\n",
    "\n",
    "* Nível de Significância ($\\alpha$): O nível de significância é a probabilidade de rejeitar a hipótese nula quando ela é verdadeira (**erro tipo I**).\n",
    "  * Define o quão rigoroso será o teste; *um nível de significância menor exige mais evidências para rejeitar a hipótese nula*.\n",
    "\n",
    "Para realizar o teste, precisamos de uma **estatística de teste** e um **valor crítico**. A estatística de teste é um valor calculado a partir dos dados da amostra que, sob a hipótese nula, segue uma distribuição conhecida. Comparamos a estatística de teste com um valor crítico ou usamos o valor-p associado para decidir se rejeitar ou não a hipótese nula.\n",
    "\n",
    "\n",
    "### Testes Paramétricos\n",
    "\n",
    "#### Teste t de Student\n",
    "\n",
    "O teste t de Student é um teste estatístico usado para determinar se há uma diferença significativa entre as médias de dois grupos. Ele é um teste paramétrico que pressupõe que os dados seguem uma distribuição normal.\n",
    "\n",
    "* **One-sample t-test**: Compara a média de uma amostra com um valor específico.\n",
    "  * Exemplo: \n",
    "    * H0: o efeito do fumo é = 0 \n",
    "    * Ha: o efeito do fumo é ≠ 0.\n",
    "\n",
    "* **Independent two-sample t-test**: Compara as médias de duas **amostras independentes** (ambiente experimental, laboratório) \n",
    "  * Exemplo: Vale para o exemplo anterior em um contexto laboratorial, entretanto não é usual em ciências sociais aplicadas.\n",
    "\n",
    "* **Paired t-test**: Compara as médias de duas amostras **relacionadas** (pareadas, variação temporal no mesmo grupo de pessoas) \n",
    "  * Exemplo \n",
    "    * H0: a média do peso dos bebês antes e depois do tratamento é a mesma. \n",
    "    * Ha: a média do peso dos bebês antes e depois do tratamento é diferente.\n",
    "  \n",
    "\n",
    "Para o nosso exemplo, devemos usar o *One-sample t-test*, temos como hipóteses:\n",
    "* H0: O peso dos bebês não é afetado pelo fato da mãe fumar.\n",
    "* Ha: O peso dos bebês é afetado pelo fato da mãe fumar.\n",
    "\n",
    "Então, a estatística de teste é calculada como:\t\n",
    "\n",
    "$$\n",
    "t = \\frac{\\bar{Y}_1 - \\bar{Y}_0}{\\sqrt{\\frac{s_1^2}{n_1} + \\frac{s_0^2}{n_0}}}\n",
    "$$\n",
    "\n",
    "Onde:\n",
    "- $ \\bar{Y}_1 $ é a média do peso dos bebês de mães fumantes.\n",
    "- $ \\bar{Y}_0 $ é a média do peso dos bebês de mães não fumantes.\n",
    "- $ s_1^2$ é a variância do peso dos bebês de mães fumantes.\n",
    "- $ s_0^2$ é a variância do peso dos bebês de mães não fumantes.\n",
    "- $ n_1$ é o número de observações na amostra de mães fumantes.\n",
    "- $ n_0$ é o número de observações na amostra de mães não fumantes.\n",
    "\n",
    "A partir dessa fórmula, podemos calcular o valor da estatística $ t $ e compará-lo com o valor crítico de $ t $ para determinar se rejeitamos ou não a hipótese nula $ H_0 $.\n",
    "\n",
    "Mas, esse teste **pressupõe que os dados seguem uma distribuição normal**, e **possuem variâncias iguais**. E se os dados não seguem uma distribuição normal? Nesse caso, precisamos de uma **alternativa não paramétrica**.\n",
    "\n",
    "Antes de verificar as alternativas não paramétricas, vamos entender o que é a **Análise de Variância (ANOVA)**.\n",
    "\n",
    "#### ANOVA (Análise de Variância)\n",
    "\n",
    "O teste ANOVA é usado para comparar as **médias de três ou mais grupos**. Ele é um teste paramétrico que pressupõe que os dados seguem uma distribuição normal e têm variâncias iguais (homogeneidade de variâncias).\n",
    "\n",
    "**Exemplo**:\n",
    "* Testar se há diferença no rendimento acadêmico entre alunos de diferentes métodos de ensino.\n",
    "\n",
    "Formalmente, a estatística de teste ANOVA é calculada como:\n",
    "\n",
    "$$\n",
    "F = \\frac{MS_{\\text{between}}}{MS_{\\text{within}}}\n",
    "$$\n",
    "\n",
    "onde:\n",
    "- $ MS_{\\text{between}} $ é a média dos quadrados entre grupos ($MS_{\\text{between}} = \\frac{SS_{\\text{between}}}{k-1}$).\n",
    "- $MS_{\\text{within}}$ é a média dos quadrados dentro dos grupos ($MS_{\\text{within}} = \\frac{SS_{\\text{within}}}{n-k}$).\n",
    "- $F$ é a estatística de teste ANOVA.\n",
    "- $k$ é o número de grupos.\n",
    "- $n$ é o número total de observações.\n",
    "- $SS_{\\text{between}}$ é a soma dos quadrados entre grupos.\n",
    "- $SS_{\\text{within}}$ é a soma dos quadrados dentro dos grupos.\n",
    "- $SS_{\\text{total}}$ Y\n",
    " é a soma total dos quadrados ($SS_{\\text{total}} = SS_{\\text{between}} + SS_{\\text{within}}$).\n",
    "\n",
    "\n",
    "\n",
    "## Testes Não Paramétricos\n",
    "\n",
    "Quando os dados não atendem às suposições dos testes paramétricos (como normalidade).\n",
    "\n",
    "* Teste de Mann-Whitney\n",
    "  * Alternativa ao teste **t para duas amostras independentes** quando a normalidade não pode ser assumida.\n",
    "* Teste de Wilcoxon Signed-Rank\n",
    "  * Alternativa ao **t-test pareado**, usado para comparar amostras relacionadas.\n",
    "* Teste de Kruskal-Wallis\n",
    "  * Alternativa não paramétrica ao ANOVA, usado para comparar mais de dois grupos.\n",
    "\n",
    "\n",
    "**Testes de Normalidade**\n",
    "* Teste de Shapiro-Wilk\n",
    "  * Teste para verificar a normalidade em pequenas amostras.\n",
    "\n",
    "* Teste de Anderson-Darling\n",
    "  * Um teste robusto para normalidade, especialmente em amostras maiores.\n",
    "\n",
    "* Teste de Kolmogorov-Smirnov\n",
    "  * Testa se uma amostra segue uma distribuição específica.\n",
    "\n",
    "**Quando escolher um teste paramétrico**\n",
    "\n",
    "* Os testes paramétricos exigem que os dados sigam uma distribuição normal. E homogeneidade das variâncias.\n",
    "\n",
    "**Quando optar por um teste não paramétrico**\n",
    "\n",
    "* **Cenário 1:** Quando a normalidade é violada, como em **dados fortemente enviesados**.\n",
    "* **Cenário 2:** Quando os dados são ordinais ou categóricos, em vez de intervalares ou racionais.\n"
   ]
  },
  {
   "cell_type": "markdown",
   "metadata": {},
   "source": [
    "## Prática em Python: Teste de Hipóteses\n",
    "\n",
    "Voltando ao nosso exemplo, vamos verificar a distribuição dos dados dos pesos dos bebês incondicional e comparar com a distribuição normal."
   ]
  },
  {
   "cell_type": "code",
   "execution_count": 18,
   "metadata": {},
   "outputs": [
    {
     "data": {
      "image/png": "[encoded data removed]",
      "text/plain": [
       "<Figure size 640x480 with 1 Axes>"
      ]
     },
     "metadata": {},
     "output_type": "display_data"
    }
   ],
   "source": [
    "# Plotando a densidade da variável 'bweight'\n",
    "sns.kdeplot(df['bweight'], fill=True, label='Distribuição de bweight')\n",
    "\n",
    "# Calculando a média e o desvio padrão da variável 'bweight'\n",
    "mean = np.mean(df['bweight'])\n",
    "std = np.std(df['bweight'])\n",
    "\n",
    "# Gerando uma sequência de valores para plotar a distribuição normal\n",
    "x_values = np.linspace(df['bweight'].min(), df['bweight'].max(), 1000)\n",
    "normal_dist = norm.pdf(x_values, mean, std)\n",
    "\n",
    "# Plotando a distribuição normal com uma linha pontilhada\n",
    "plt.plot(x_values, normal_dist, 'r--', label='Distribuição Normal')\n",
    "\n",
    "# Exibindo o gráfico\n",
    "plt.show()\n"
   ]
  },
  {
   "cell_type": "markdown",
   "metadata": {},
   "source": [
    "Vamos aplicar o teste de normalidade (Shapiro-Wilk) aos dados:"
   ]
  },
  {
   "cell_type": "code",
   "execution_count": 21,
   "metadata": {},
   "outputs": [
    {
     "name": "stdout",
     "output_type": "stream",
     "text": [
      "Estatística W: 0.9633026567531094\n",
      "Valor p: 8.78507384621076e-33\n",
      "Os dados não seguem uma distribuição normal (rejeita H0).\n"
     ]
    }
   ],
   "source": [
    "import numpy as np\n",
    "from scipy.stats import shapiro\n",
    "\n",
    "stat, p_value = shapiro(df['Y'])\n",
    "\n",
    "print(f'Estatística W: {stat}')\n",
    "print(f'Valor p: {p_value}')\n",
    "# Verificando o resultado\n",
    "if p_value > 0.05:\n",
    "    print(\"Os dados parecem seguir uma distribuição normal (falha em rejeitar H0).\")\n",
    "else:\n",
    "    print(\"Os dados não seguem uma distribuição normal (rejeita H0).\")"
   ]
  },
  {
   "cell_type": "markdown",
   "metadata": {},
   "source": [
    "Vamos aplicar o teste de normalidade Anderson-Darling"
   ]
  },
  {
   "cell_type": "code",
   "execution_count": 22,
   "metadata": {},
   "outputs": [
    {
     "name": "stdout",
     "output_type": "stream",
     "text": [
      "Estatística: 21.01158579800358\n",
      "Valores críticos: [0.576 0.655 0.786 0.917 1.091]\n",
      "Significância: [15.  10.   5.   2.5  1. ]\n"
     ]
    }
   ],
   "source": [
    "import scipy.stats as stats\n",
    "\n",
    "result = stats.anderson(df['Y'], dist='norm')\n",
    "\n",
    "print(f'Estatística: {result.statistic}')\n",
    "print(f'Valores críticos: {result.critical_values}')\n",
    "print(f'Significância: {result.significance_level}')\n",
    "\n"
   ]
  },
  {
   "cell_type": "markdown",
   "metadata": {},
   "source": [
    "Os resultados mostram que a distribuição de Y não é normal em ambos os testes. Vejamos a distribuição dos pesos dos bebês para mães fumantes e não fumantes."
   ]
  },
  {
   "cell_type": "code",
   "execution_count": 19,
   "metadata": {},
   "outputs": [
    {
     "data": {
      "image/png": "[encoded data removed]",
      "text/plain": [
       "<Figure size 640x480 with 1 Axes>"
      ]
     },
     "metadata": {},
     "output_type": "display_data"
    }
   ],
   "source": [
    "# Agora vamos calcular a média do peso dos bebês para fumantes e não fumantes, e comparar a distribuição condicional do peso dos bebês com a distribuição normal.\n",
    "# para não fumantes\n",
    "mean_n_fumantes = np.mean(df[df['X'] == 0]['Y'])\n",
    "std_n_fumantes = np.std(df[df['X'] == 0]['Y'])\n",
    "# para fumantes\n",
    "mean_fumantes = np.mean(df[df['X'] == 1]['Y'])\n",
    "std_fumantes = np.std(df[df['X'] == 1]['Y'])\n",
    "\n",
    "# Gerando uma sequência de valores para plotar a distribuição normal\n",
    "x_values = np.linspace(df['bweight'].min(), df['bweight'].max(), 1000)\n",
    "normal_dist_n_fumantes = norm.pdf(x_values, mean_n_fumantes, std_n_fumantes)\n",
    "normal_dist_fumantes = norm.pdf(x_values, mean_fumantes, std_fumantes)\n",
    "\n",
    "# Plotando a distribuição normal com uma linha pontilhada\n",
    "plt.plot(x_values, normal_dist_n_fumantes, 'b--', label='Distribuição Normal Não fumantes')\n",
    "plt.plot(x_values, normal_dist_fumantes, 'r--', label='Distribuição Normal Fumantes')\n",
    "\n",
    "# Plotando a densidade da variável 'bweight' para fumantes e não fumantes\n",
    "sns.kdeplot(df[df['X'] == 0]['Y'], fill=True, label='Não fumantes')\n",
    "sns.kdeplot(df[df['X'] == 1]['Y'], fill=True, label='Fumantes')\n",
    "\n",
    "# Exibindo o gráfico\n",
    "plt.show()"
   ]
  },
  {
   "cell_type": "code",
   "execution_count": 19,
   "metadata": {},
   "outputs": [
    {
     "name": "stdout",
     "output_type": "stream",
     "text": [
      "Não Fumantes - Estatística W: 0.96098234191414, Valor p: 9.505526443110535e-31\n",
      "Fumantes - Estatística W: 0.9569122297339211, Valor p: 3.067176877528702e-15\n"
     ]
    }
   ],
   "source": [
    "# Teste de normalidade para não fumantes\n",
    "stat_n, p_value_n = shapiro(df[df['X'] == 0]['Y'])\n",
    "print(f'Não Fumantes - Estatística W: {stat_n}, Valor p: {p_value_n}')\n",
    "\n",
    "# Teste de normalidade para fumantes\n",
    "stat_f, p_value_f = shapiro(df[df['X'] == 1]['Y'])\n",
    "print(f'Fumantes - Estatística W: {stat_f}, Valor p: {p_value_f}')\n"
   ]
  },
  {
   "cell_type": "markdown",
   "metadata": {},
   "source": [
    "Também não são normais. Entretanto, essas distribuições não são muito distantes de uma distribuição normal. Portanto, podemos usar o t-test para comparar as médias dos pesos dos bebês de mães fumantes e não fumantes.\n",
    "\n",
    "Em outras palavras, o t-test é relativamente robusto a desvios da normalidade, especialmente quando as amostras são grandes (geralmente n > 30 para cada grupo). Isso significa que, mesmo que Y não siga perfeitamente uma distribuição normal, o t-test ainda pode fornecer resultados válidos, desde que as distribuições não sejam altamente assimétricas ou contenham outliers extremos.\n",
    "\n",
    "Com amostras maiores, o impacto da falta de normalidade é reduzido devido ao **Teorema Central do Limite**, que garante que a distribuição amostral da média tende a ser normal, independentemente da distribuição original da variável. Se o número de observações em cada grupo (bebês de mães fumantes e não fumantes) for grande, o t-test pode ser utilizado com mais confiança."
   ]
  },
  {
   "cell_type": "code",
   "execution_count": 24,
   "metadata": {},
   "outputs": [
    {
     "name": "stdout",
     "output_type": "stream",
     "text": [
      "TtestResult(statistic=-12.830577987447224, pvalue=4.683726413107466e-37, df=4640.0)\n"
     ]
    }
   ],
   "source": [
    "from scipy.stats import ttest_ind\n",
    "\n",
    "# Gerar um teste-t para comparar a média do peso do bebê entre fumantes e não fumantes\n",
    "grupo_fumantes = df[df['X'] == 1]['Y']\n",
    "grupo_nao_fumantes = df[df['X'] == 0]['Y']\n",
    "\n",
    "# Realizar o teste-t\n",
    "teste_t = ttest_ind(grupo_fumantes, grupo_nao_fumantes)\n",
    "print(teste_t)"
   ]
  },
  {
   "cell_type": "markdown",
   "metadata": {},
   "source": [
    "Repare uma coisa, se fizessemos um OLS, onde Y é o peso dos bebês ao nascer, e X é o fato da mãe fumar ou não (Variável identificadora, ou binária, para identificar categorias qualitativamente diferentes). Então, teríamos o seguinte resultado:\t"
   ]
  },
  {
   "cell_type": "code",
   "execution_count": 39,
   "metadata": {},
   "outputs": [
    {
     "name": "stdout",
     "output_type": "stream",
     "text": [
      "                            OLS Regression Results                            \n",
      "==============================================================================\n",
      "Dep. Variable:                      Y   R-squared:                       0.034\n",
      "Model:                            OLS   Adj. R-squared:                  0.034\n",
      "Method:                 Least Squares   F-statistic:                     164.6\n",
      "Date:                ter, 27 ago 2024   Prob (F-statistic):           4.68e-37\n",
      "Time:                        14:48:18   Log-Likelihood:                -36033.\n",
      "No. Observations:                4642   AIC:                         7.207e+04\n",
      "Df Residuals:                    4640   BIC:                         7.208e+04\n",
      "Df Model:                           1                                         \n",
      "Covariance Type:            nonrobust                                         \n",
      "==============================================================================\n",
      "                 coef    std err          t      P>|t|      [0.025      0.975]\n",
      "------------------------------------------------------------------------------\n",
      "Intercept   3412.9116      9.255    368.754      0.000    3394.767    3431.056\n",
      "X           -275.2519     21.453    -12.831      0.000    -317.310    -233.194\n",
      "==============================================================================\n",
      "Omnibus:                      739.371   Durbin-Watson:                   2.007\n",
      "Prob(Omnibus):                  0.000   Jarque-Bera (JB):             2256.717\n",
      "Skew:                          -0.824   Prob(JB):                         0.00\n",
      "Kurtosis:                       5.992   Cond. No.                         2.67\n",
      "==============================================================================\n",
      "\n",
      "Notes:\n",
      "[1] Standard Errors assume that the covariance matrix of the errors is correctly specified.\n"
     ]
    }
   ],
   "source": [
    "import statsmodels.formula.api as smf\n",
    "reg1 = smf.ols('Y ~ X', data=df).fit()\n",
    "print(reg1.summary())"
   ]
  },
  {
   "cell_type": "markdown",
   "metadata": {},
   "source": [
    "Para esse nosso exemplo:\n",
    "* O que é o coeficiente estimado para o intercepto (a constante)?\n",
    "* O que é o coeficiente estimado para X?\n",
    "* o que são as estatísticas associadas à X (estatística t)?"
   ]
  },
  {
   "cell_type": "markdown",
   "metadata": {},
   "source": [
    "### O OLS pode ser visto como um teste de diferença de médias?\n",
    "\n",
    "Na regressão linear OLS, estamos acostumados a modelar a relação de Y com X na seguinte forma linear:\n",
    "\n",
    "$$ Y = \\beta_0 + \\beta_1 X + u$$\n",
    "\n",
    "Considerando nosso exemplo, onde $Y$ é o peso do bebê ao nascer, e $X$ é uma variável binária que indica se a mãe não fumou durante a gravidez (1), ou zero caso constrário (0). Assumindo que $E[u|X] = 0$ (exogeneidade estrita). Ou seja, o erro é não correlacionado com a variável $X$ em nenhuma de suas condições. Vejamos como podemos ver a regressão no contexto de esperança condicional e relacioná-la com o teste t.\n",
    "\n",
    "$$ E[Y|X] = \\beta_0 + \\beta_1 X$$\n",
    "\n",
    "$$ E[Y|X=1] = \\bar{Y}_1 =  \\beta_0 + \\beta_1$$\n",
    "$$ E[Y|X=0] = \\bar{Y}_0 = \\beta_0$$\n",
    "\n",
    "$$ E[Y|X=1] - E[Y|X=0] = \\bar{Y}_1 - \\bar{Y}_0 = \\beta_1$$\n",
    "\n",
    "Ou seja, a diferença entre a média do peso do bebê ao nascer de mães que fumaram e não fumaram durante a gravidez é igual a $\\beta_{1}$.\n",
    "\n",
    "Aqui vemos que, nesse caso, os coeficientes da regressão linear podem ser interpretados como a diferença entre as médias condicionais das variáveis dependentes para diferentes valores das variáveis independentes. E esse coeficiente é significativo? É estatisticamente diferente de zero? Para isso, precisamos montar um teste de hipóteses.\n",
    "\n",
    "E na regressão, estamos testando:\n",
    "\n",
    "* $H_0: \\beta_1 = 0$ (não há efeito do fumo no peso do bebê)\n",
    "* $H_1: \\beta_1 \\neq 0$ (há efeito do fumo no peso do bebê)\n",
    "\n",
    "E o teste t é calculado como:\n",
    "\n",
    "$$ t = \\frac{\\bar{Y}_1 - \\bar{Y}_0}{\\sqrt{\\frac{s_1^2}{n_1} + \\frac{s_2^2}{n_2}}} = \\frac{\\hat{\\beta}_1}{\\sqrt{\\text{var}(\\hat{\\beta}_1)}} = \\frac{\\hat{\\beta}_1}{\\text{S.E.}(\\hat{\\beta}_1)} $$\n"
   ]
  },
  {
   "cell_type": "markdown",
   "metadata": {},
   "source": [
    "**E se tivéssemos mais de duas categorias?**\n",
    "\n",
    "E se separássemos o grupo entre não fumantes, fumantes moderadas e fumantes pesadas? \n",
    "\n",
    "As fumantes moderadas seriam aquelas que fumam entre 1 e 5 cigarros por dia, e as fumantes pesadas seriam aquelas que fumam mais de 5 cigarros por dia. \n"
   ]
  },
  {
   "cell_type": "code",
   "execution_count": 23,
   "metadata": {},
   "outputs": [],
   "source": [
    "# Criar variáveis indicativas para fumantes moderadas (X1) e pesadas (X2) a partir da variável 'msmoke'. \n",
    "# Quando msmoke for \"1-5 daily\", X1 será 1 e X2 será 0. Quando msmoke for \"6-10 daily\" ou \"11+ daily\", X1 será 0 e X2 será 1. \n",
    "\n",
    "df['X1'] = ((df['msmoke'] == '1-5 daily')).astype(int)\n",
    "df['X2'] = ((df['msmoke'] == '6-10 daily') | (df['msmoke'] == '11+ daily')).astype(int)"
   ]
  },
  {
   "cell_type": "markdown",
   "metadata": {},
   "source": [
    "Vamos fazer um teste de diferença de médias individual (t-test) entre esses grupos e o grupo das mães não fumantes."
   ]
  },
  {
   "cell_type": "code",
   "execution_count": 33,
   "metadata": {},
   "outputs": [],
   "source": [
    "from scipy.stats import ttest_ind\n",
    "\n",
    "# Gerar um teste-t para comparar a média do peso do bebê entre fumantes e não fumantes\n",
    "grupo_fumantes2 = df[df['X2'] == 1]['Y']\n",
    "grupo_fumantes1 = df[df['X1'] == 1]['Y']\n",
    "grupo_nao_fumantes = df[df['X'] == 0]['Y']\n"
   ]
  },
  {
   "cell_type": "code",
   "execution_count": 36,
   "metadata": {},
   "outputs": [
    {
     "name": "stdout",
     "output_type": "stream",
     "text": [
      "TtestResult(statistic=-5.3129685864558045, pvalue=1.1376422939360914e-07, df=3976.0)\n"
     ]
    }
   ],
   "source": [
    "# Realizar o teste-t 1\n",
    "teste_t1 = ttest_ind(grupo_fumantes1, grupo_nao_fumantes)\n",
    "print(teste_t1)"
   ]
  },
  {
   "cell_type": "code",
   "execution_count": 29,
   "metadata": {},
   "outputs": [
    {
     "name": "stdout",
     "output_type": "stream",
     "text": [
      "TtestResult(statistic=-12.142843984793044, pvalue=2.108072805026363e-33, df=4440.0)\n"
     ]
    }
   ],
   "source": [
    "# Realizar o teste-t 2\n",
    "teste_t2 = ttest_ind(grupo_fumantes2, grupo_nao_fumantes)\n",
    "print(teste_t2)"
   ]
  },
  {
   "cell_type": "markdown",
   "metadata": {},
   "source": [
    "Os resultados mostram que há diferença entre as médias. E vamos fazer um teste conjunto para verificar se há diferença entre as médias de todos os grupos. Para isso usamos o teste F."
   ]
  },
  {
   "cell_type": "code",
   "execution_count": 24,
   "metadata": {},
   "outputs": [
    {
     "name": "stdout",
     "output_type": "stream",
     "text": [
      "F_onewayResult(statistic=83.63473932296006, pvalue=2.0768451682131772e-36)\n"
     ]
    }
   ],
   "source": [
    "# Fazer um teste F de igualdade das médias do peso dos bebês entre os grupos de fumantes moderados, pesados e não fumantes.\n",
    "# A hipótese nula é que as médias são iguais.\n",
    "from scipy.stats import f_oneway\n",
    "\n",
    "# Realizar o teste F\n",
    "teste_f = f_oneway(df[df['X1'] == 1]['Y'], df[df['X2'] == 1]['Y'], df[df['X'] == 0]['Y'])\n",
    "print(teste_f)"
   ]
  },
  {
   "cell_type": "markdown",
   "metadata": {},
   "source": [
    "Agora, vamos rodar a regressão OLS com essas variáveis indicativas para fumantes moderadas e fumantes pesadas e ver o resultado."
   ]
  },
  {
   "cell_type": "code",
   "execution_count": 38,
   "metadata": {},
   "outputs": [
    {
     "name": "stdout",
     "output_type": "stream",
     "text": [
      "                            OLS Regression Results                            \n",
      "==============================================================================\n",
      "Dep. Variable:                      Y   R-squared:                       0.035\n",
      "Model:                            OLS   Adj. R-squared:                  0.034\n",
      "Method:                 Least Squares   F-statistic:                     83.63\n",
      "Date:                ter, 27 ago 2024   Prob (F-statistic):           2.08e-36\n",
      "Time:                        14:48:08   Log-Likelihood:                -36032.\n",
      "No. Observations:                4642   AIC:                         7.207e+04\n",
      "Df Residuals:                    4639   BIC:                         7.209e+04\n",
      "Df Model:                           2                                         \n",
      "Covariance Type:            nonrobust                                         \n",
      "==============================================================================\n",
      "                 coef    std err          t      P>|t|      [0.025      0.975]\n",
      "------------------------------------------------------------------------------\n",
      "Intercept   3412.9116      9.254    368.817      0.000    3394.770    3431.053\n",
      "X1          -218.5166     41.270     -5.295      0.000    -299.425    -137.608\n",
      "X2          -292.3408     23.934    -12.214      0.000    -339.263    -245.418\n",
      "==============================================================================\n",
      "Omnibus:                      735.878   Durbin-Watson:                   2.007\n",
      "Prob(Omnibus):                  0.000   Jarque-Bera (JB):             2242.442\n",
      "Skew:                          -0.821   Prob(JB):                         0.00\n",
      "Kurtosis:                       5.983   Cond. No.                         5.02\n",
      "==============================================================================\n",
      "\n",
      "Notes:\n",
      "[1] Standard Errors assume that the covariance matrix of the errors is correctly specified.\n"
     ]
    }
   ],
   "source": [
    "reg2 = smf.ols('Y ~ X1 + X2', data=df).fit()\n",
    "print(reg2.summary())"
   ]
  },
  {
   "cell_type": "markdown",
   "metadata": {},
   "source": [
    "Ao colocarmos mais grupos, é possível verificar os testes t´s individuais, e o teste F conjunto. Os resultados são consistentes com os testes realizados anteriormente."
   ]
  },
  {
   "cell_type": "markdown",
   "metadata": {},
   "source": [
    "**Mas o OLS não é um estimador?**\n",
    "\n",
    "**Sim.** \n",
    "\n",
    "Vimos anteriormente que a **regressão linear** (regressão linear é o modelo que descreve a relação entre as variáveis dependente e independente(s)) pode ser usada para comparar médias entre grupos. Mas, além de servir como um teste de diferença de médias, o OLS é, fundamentalmente, um **estimador**.\n",
    "\n",
    "Um **estimador** é uma **função que usamos para inferir o valor de um parâmetro populacional desconhecido** com base em uma amostra de dados. No contexto da regressão linear, estamos interessados em estimar os parâmetros $\\beta_0$ e $\\beta_1$, que representam, respectivamente:\n",
    "\n",
    "- $\\beta_0$: A média de $Y$ quando $X = 0$.\n",
    "- $\\beta_1$: A mudança esperada em $Y$ para cada unidade de aumento em $X$.\n",
    "\n",
    "Quando ajustamos um modelo de regressão linear aos dados, normalmente utilizamos o **Método dos Mínimos Quadrados Ordinários (OLS)** para encontrar os valores de $\\hat{\\beta}_0$ e $\\hat{\\beta}_1$, que são as estimativas dos parâmetros verdadeiros $\\beta_0$ e $\\beta_1$. Esses estimadores são obtidos minimizando a soma dos quadrados dos resíduos. \n",
    "\n",
    "Esses estimadores são úteis porque nos permitem:\n",
    "\n",
    "- **Prever valores** de $Y$ para novos valores de $X$.\n",
    "- **Avaliar o efeito de $X$** sobre $Y$.\n",
    "- **Testar hipóteses** sobre os parâmetros $\\beta_0$ e $\\beta_1$.\n"
   ]
  },
  {
   "cell_type": "markdown",
   "metadata": {},
   "source": [
    "### Considerações Finais\n",
    "\n",
    "Neste notebook, vimos como aplicar conceitos de estatística descritiva e inferencial em Python. Começamos com medidas de tendência central e dispersão, e depois exploramos conceitos mais avançados, como assimetria, curtose, covariância, correlação e esperança condicional.\n",
    "\n",
    "Em seguida, discutimos testes de hipóteses, incluindo testes paramétricos e não paramétricos, e como aplicá-los em Python. Vimos como o teste t de Student pode ser usado para comparar as médias de duas amostras independentes, e como o teste ANOVA pode ser usado para comparar as médias de três ou mais grupos.\n",
    "\n",
    "Por fim, discutimos como a regressão linear OLS pode ser usada para comparar médias entre grupos e como os coeficientes da regressão podem ser interpretados como diferenças nas médias condicionais das variáveis dependentes para diferentes valores das variáveis independentes.\n",
    "\n",
    "Espero que este notebook tenha sido útil para você. Se você tiver alguma dúvida ou sugestão, não hesite em entrar em contato. Obrigado por ler!"
   ]
  }
 ],
 "metadata": {
  "celltoolbar": "Tags",
  "kernelspec": {
   "display_name": "Python 3 (ipykernel)",
   "language": "python",
   "name": "python3"
  },
  "language_info": {
   "codemirror_mode": {
    "name": "ipython",
    "version": 3
   },
   "file_extension": ".py",
   "mimetype": "text/x-python",
   "name": "python",
   "nbconvert_exporter": "python",
   "pygments_lexer": "ipython3",
   "version": "3.11.5"
  },
  "toc": {
   "base_numbering": 1,
   "nav_menu": {},
   "number_sections": true,
   "sideBar": true,
   "skip_h1_title": false,
   "title_cell": "Table of Contents",
   "title_sidebar": "Contents",
   "toc_cell": false,
   "toc_position": {},
   "toc_section_display": true,
   "toc_window_display": false
  },
  "varInspector": {
   "cols": {
    "lenName": 16,
    "lenType": 16,
    "lenVar": 40
   },
   "kernels_config": {
    "python": {
     "delete_cmd_postfix": "",
     "delete_cmd_prefix": "del ",
     "library": "var_list.py",
     "varRefreshCmd": "print(var_dic_list())"
    },
    "r": {
     "delete_cmd_postfix": ") ",
     "delete_cmd_prefix": "rm(",
     "library": "var_list.r",
     "varRefreshCmd": "cat(var_dic_list()) "
    }
   },
   "types_to_exclude": [
    "module",
    "function",
    "builtin_function_or_method",
    "instance",
    "_Feature"
   ],
   "window_display": false
  }
 },
 "nbformat": 4,
 "nbformat_minor": 4
}
