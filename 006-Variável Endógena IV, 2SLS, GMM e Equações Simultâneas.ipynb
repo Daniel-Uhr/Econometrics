{
 "cells": [
  {
   "cell_type": "markdown",
   "id": "a4dc4f20",
   "metadata": {},
   "source": [
    "## Variável Endógena: IV, 2SLS, GMM e Equações Simultâneas\n",
    "\n",
    "Prof. Daniel de Abreu Pereira Uhr\n",
    "\n",
    "\n",
    "### Conteúdo\n",
    "* Regressão com variável endógena\n",
    "  * Variáveis Instrumentais (IV)\n",
    "  * Mínimos Quadrados em Dois Estágios (2SLS)\n",
    "  * Método Generalizado dos Momentos (GMM)\n",
    "\n",
    "* Viés de simultaneidade\n",
    "  * Modelo de Equações Simultâneas\n",
    "  * Identificação Parcial - IV/2SLS"
   ]
  },
  {
   "cell_type": "markdown",
   "id": "76c0fa22-cd7e-4727-9fb2-df9ece1cf899",
   "metadata": {},
   "source": [
    "## Regressão com Variável Endógena\n",
    "\n",
    "\n",
    "### IV - Instrumental Variable estimation\n",
    "\n",
    "#### Aspectos históricos e o problema da endogeneidade\n",
    "A primeira abordagem conhecida do uso de Variáveis Instrumentais aparece no **Apêndice B** de um livro escrito por **Philip G. Wright**, *The Tariff on Animal and Vegetable Oils*, publicado em **1928**. Ele apresenta nesse apêndice, duas derivações separadas e corretas dos estimadores das variáveis instrumentais das elasticidades da oferta e da demanda; e uma aplicação empírica à manteiga e à linhaça. **O grande avanço do Apêndice B** foi mostrar que a regressão de variáveis instrumentais pode ser usada **para estimar o coeficiente em um regressor endógeno**, algo que a regressão de mínimos quadrados comum não pode fazer, o que torna a regressão de variáveis instrumentais uma técnica central da micro e macroeconometria modernas. Curiosidade, o Apêndice B apresenta certa diferença com relação ao restante do livro, então sua autoria foi questionada. O autor alternativo plausível é o **filho mais velho de Philip Wright, Sewall**, que em 1928 já era um **importante estatístico genético**. E a segunda das duas derivações do estimador de variável instrumental no Apêndice B usa o método de **\"Path coeficients\"**, que Sewall havia desenvolvido recentemente (S. Wright, 1921).\n",
    "\n",
    "No caso seminal analisado por Wright, o autor se deparou com **endogeneidade devido a simultaneidade**. Vimos que a existência de **endogeneidade** no modelo econométrico implica que os **coeficientes estimados são enviesados e inconsistentes**. E em termos gerais, essa endogeneidade sempre decorre da quebra da hipótese de **exogeneidade estrita (não-confundimento)**. Logo os termos de erro são sistematicamente correlacionados com uma ou mais variáveis explicativas.\n",
    "\n",
    "#### Hipótese de identificação\n",
    "\n",
    "Vimos que a **endogeneidade** torna o estimador de OLS enviesado e inconsistente, e ela pode ser causada por **simultaneidade**, **erros de medida** ou **variáveis omitidas**. Uma causa importante de viés nas análises empíricas dentro das ciências sociais aplicadas deve-se às **características específicas individuais**. Usualmente essas características individuais não são observáveis pelo pesquisador.\n",
    "\n",
    "Então, como a fonte de endogeneidade é **não observável** ao pesquisador (sabemos que existe essa característica não observável, e não temos como controla-la diretamente na equação), dizemos que o estimador de variáveis instrumentais consegue controlar o viés devido às **características não observáveis** (**viés em características não observáveis**).\n",
    "\n",
    "\n",
    "#### O que é uma variável instrumental?\n",
    "\n",
    "O **estimador de Variável Instrumental (VI)**, também é conhecido como **IV** devido o termo em inglês: *Instrumental Variables estimation*. Este estimador é do tipo **exatamente identificado**; Um estimador IV é dito exatamente identificado quando é baseado em exatamente uma variável instrumental, que afeta $Y$ através de $X$.\n",
    "\n",
    "A Variável Instrumental (ou instrumento, $Z$) é uma **variável exógena** *excuída da equação econométrica*, ou seja, não se relaciona diretamente com a variável $Y$ (nem com o termo de erro). E a única forma de $Z$ afetar $Y$ é, somente, através de $X$. Então, $Z$ é dita uma variável instrumental para $X$.\n",
    "\n",
    "Condições para ser Variável Instrumental:\n",
    "\n",
    "* **Validade/Restrição de exclusão**: $Z$ é dita exógena à equação, isso significa que $Z$ não deve ser correlacionada com as variáveis omitidas.\n",
    "\n",
    "* **Relevância do Instrumento/Força**: $Z$ deve ser correlacionado (ou positivamente, ou negativamente) com a variável explicativa endógena."
   ]
  },
  {
   "cell_type": "code",
   "execution_count": 1,
   "id": "8d249f5c",
   "metadata": {},
   "outputs": [],
   "source": [
    "# Importando o pacote para fazer a visualização do grafo\n",
    "import graphviz as gr"
   ]
  },
  {
   "cell_type": "code",
   "execution_count": 2,
   "id": "9a8cbc80",
   "metadata": {},
   "outputs": [
    {
     "data": {
      "image/svg+xml": [
       "<?xml version=\"1.0\" encoding=\"UTF-8\" standalone=\"no\"?>\n",
       "<!DOCTYPE svg PUBLIC \"-//W3C//DTD SVG 1.1//EN\"\n",
       " \"http://www.w3.org/Graphics/SVG/1.1/DTD/svg11.dtd\">\n",
       "<!-- Generated by graphviz version 11.0.0 (20240428.1522)\n",
       " -->\n",
       "<!-- Pages: 1 -->\n",
       "<svg width=\"134pt\" height=\"116pt\"\n",
       " viewBox=\"0.00 0.00 134.00 116.00\" xmlns=\"http://www.w3.org/2000/svg\" xmlns:xlink=\"http://www.w3.org/1999/xlink\">\n",
       "<g id=\"graph0\" class=\"graph\" transform=\"scale(1 1) rotate(0) translate(4 112)\">\n",
       "<polygon fill=\"white\" stroke=\"none\" points=\"-4,4 -4,-112 130,-112 130,4 -4,4\"/>\n",
       "<!-- X -->\n",
       "<g id=\"node1\" class=\"node\">\n",
       "<title>X</title>\n",
       "<ellipse fill=\"none\" stroke=\"black\" cx=\"27\" cy=\"-90\" rx=\"27\" ry=\"18\"/>\n",
       "<text text-anchor=\"middle\" x=\"27\" y=\"-84.58\" font-family=\"Times New Roman,serif\" font-size=\"14.00\">X</text>\n",
       "</g>\n",
       "<!-- Y -->\n",
       "<g id=\"node2\" class=\"node\">\n",
       "<title>Y</title>\n",
       "<ellipse fill=\"none\" stroke=\"black\" cx=\"63\" cy=\"-18\" rx=\"27\" ry=\"18\"/>\n",
       "<text text-anchor=\"middle\" x=\"63\" y=\"-12.57\" font-family=\"Times New Roman,serif\" font-size=\"14.00\">Y</text>\n",
       "</g>\n",
       "<!-- X&#45;&gt;Y -->\n",
       "<g id=\"edge1\" class=\"edge\">\n",
       "<title>X&#45;&gt;Y</title>\n",
       "<path fill=\"none\" stroke=\"black\" d=\"M35.35,-72.76C39.58,-64.55 44.81,-54.37 49.58,-45.09\"/>\n",
       "<polygon fill=\"black\" stroke=\"black\" points=\"52.54,-46.99 54,-36.49 46.32,-43.79 52.54,-46.99\"/>\n",
       "</g>\n",
       "<!-- U -->\n",
       "<g id=\"node3\" class=\"node\">\n",
       "<title>U</title>\n",
       "<ellipse fill=\"none\" stroke=\"black\" cx=\"99\" cy=\"-90\" rx=\"27\" ry=\"18\"/>\n",
       "<text text-anchor=\"middle\" x=\"99\" y=\"-84.58\" font-family=\"Times New Roman,serif\" font-size=\"14.00\">U</text>\n",
       "</g>\n",
       "<!-- U&#45;&gt;Y -->\n",
       "<g id=\"edge2\" class=\"edge\">\n",
       "<title>U&#45;&gt;Y</title>\n",
       "<path fill=\"none\" stroke=\"black\" stroke-dasharray=\"5,2\" d=\"M90.65,-72.76C86.42,-64.55 81.19,-54.37 76.42,-45.09\"/>\n",
       "<polygon fill=\"black\" stroke=\"black\" points=\"79.68,-43.79 72,-36.49 73.46,-46.99 79.68,-43.79\"/>\n",
       "</g>\n",
       "</g>\n",
       "</svg>\n"
      ],
      "text/plain": [
       "<graphviz.graphs.Digraph at 0x22745524110>"
      ]
     },
     "execution_count": 2,
     "metadata": {},
     "output_type": "execute_result"
    }
   ],
   "source": [
    "# Grafo indicando a variável de tratamento D, e um confounding U, e a variável de resultado Y\n",
    "g = gr.Digraph()\n",
    "g.edge(\"X\", \"Y\")\n",
    "g.edge(\"U\", \"Y\", style=\"dashed\")\n",
    "g"
   ]
  },
  {
   "cell_type": "code",
   "execution_count": 3,
   "id": "429e1174",
   "metadata": {},
   "outputs": [
    {
     "data": {
      "image/svg+xml": [
       "<?xml version=\"1.0\" encoding=\"UTF-8\" standalone=\"no\"?>\n",
       "<!DOCTYPE svg PUBLIC \"-//W3C//DTD SVG 1.1//EN\"\n",
       " \"http://www.w3.org/Graphics/SVG/1.1/DTD/svg11.dtd\">\n",
       "<!-- Generated by graphviz version 11.0.0 (20240428.1522)\n",
       " -->\n",
       "<!-- Pages: 1 -->\n",
       "<svg width=\"89pt\" height=\"188pt\"\n",
       " viewBox=\"0.00 0.00 89.00 188.00\" xmlns=\"http://www.w3.org/2000/svg\" xmlns:xlink=\"http://www.w3.org/1999/xlink\">\n",
       "<g id=\"graph0\" class=\"graph\" transform=\"scale(1 1) rotate(0) translate(4 184)\">\n",
       "<polygon fill=\"white\" stroke=\"none\" points=\"-4,4 -4,-184 85,-184 85,4 -4,4\"/>\n",
       "<!-- X -->\n",
       "<g id=\"node1\" class=\"node\">\n",
       "<title>X</title>\n",
       "<ellipse fill=\"none\" stroke=\"black\" cx=\"27\" cy=\"-90\" rx=\"27\" ry=\"18\"/>\n",
       "<text text-anchor=\"middle\" x=\"27\" y=\"-84.58\" font-family=\"Times New Roman,serif\" font-size=\"14.00\">X</text>\n",
       "</g>\n",
       "<!-- Y -->\n",
       "<g id=\"node2\" class=\"node\">\n",
       "<title>Y</title>\n",
       "<ellipse fill=\"none\" stroke=\"black\" cx=\"54\" cy=\"-18\" rx=\"27\" ry=\"18\"/>\n",
       "<text text-anchor=\"middle\" x=\"54\" y=\"-12.57\" font-family=\"Times New Roman,serif\" font-size=\"14.00\">Y</text>\n",
       "</g>\n",
       "<!-- X&#45;&gt;Y -->\n",
       "<g id=\"edge1\" class=\"edge\">\n",
       "<title>X&#45;&gt;Y</title>\n",
       "<path fill=\"none\" stroke=\"black\" d=\"M33.54,-72.05C36.52,-64.32 40.13,-54.96 43.48,-46.27\"/>\n",
       "<polygon fill=\"black\" stroke=\"black\" points=\"46.65,-47.79 46.98,-37.2 40.12,-45.27 46.65,-47.79\"/>\n",
       "</g>\n",
       "<!-- U -->\n",
       "<g id=\"node3\" class=\"node\">\n",
       "<title>U</title>\n",
       "<ellipse fill=\"none\" stroke=\"black\" cx=\"54\" cy=\"-162\" rx=\"27\" ry=\"18\"/>\n",
       "<text text-anchor=\"middle\" x=\"54\" y=\"-156.57\" font-family=\"Times New Roman,serif\" font-size=\"14.00\">U</text>\n",
       "</g>\n",
       "<!-- U&#45;&gt;X -->\n",
       "<g id=\"edge2\" class=\"edge\">\n",
       "<title>U&#45;&gt;X</title>\n",
       "<path fill=\"none\" stroke=\"black\" stroke-dasharray=\"5,2\" d=\"M47.46,-144.05C44.48,-136.32 40.87,-126.96 37.52,-118.27\"/>\n",
       "<polygon fill=\"black\" stroke=\"black\" points=\"40.88,-117.27 34.02,-109.2 34.35,-119.79 40.88,-117.27\"/>\n",
       "</g>\n",
       "<!-- U&#45;&gt;Y -->\n",
       "<g id=\"edge3\" class=\"edge\">\n",
       "<title>U&#45;&gt;Y</title>\n",
       "<path fill=\"none\" stroke=\"black\" stroke-dasharray=\"5,2\" d=\"M57.65,-143.91C59.68,-133.57 61.98,-120.09 63,-108 64.34,-92.06 64.34,-87.94 63,-72 62.32,-63.97 61.08,-55.33 59.73,-47.4\"/>\n",
       "<polygon fill=\"black\" stroke=\"black\" points=\"63.17,-46.79 57.93,-37.58 56.29,-48.05 63.17,-46.79\"/>\n",
       "</g>\n",
       "</g>\n",
       "</svg>\n"
      ],
      "text/plain": [
       "<graphviz.graphs.Digraph at 0x2274554ca90>"
      ]
     },
     "execution_count": 3,
     "metadata": {},
     "output_type": "execute_result"
    }
   ],
   "source": [
    "# Grafo indicando a variável de tratamento D, e um confounding U, e a variável de resultado Y\n",
    "g = gr.Digraph()\n",
    "g.edge(\"X\", \"Y\")\n",
    "g.edge(\"U\", \"X\", style=\"dashed\")\n",
    "g.edge(\"U\", \"Y\", style=\"dashed\")\n",
    "g"
   ]
  },
  {
   "cell_type": "code",
   "execution_count": 4,
   "id": "a4fa4fc8",
   "metadata": {},
   "outputs": [
    {
     "data": {
      "image/svg+xml": [
       "<?xml version=\"1.0\" encoding=\"UTF-8\" standalone=\"no\"?>\n",
       "<!DOCTYPE svg PUBLIC \"-//W3C//DTD SVG 1.1//EN\"\n",
       " \"http://www.w3.org/Graphics/SVG/1.1/DTD/svg11.dtd\">\n",
       "<!-- Generated by graphviz version 11.0.0 (20240428.1522)\n",
       " -->\n",
       "<!-- Pages: 1 -->\n",
       "<svg width=\"134pt\" height=\"188pt\"\n",
       " viewBox=\"0.00 0.00 134.00 188.00\" xmlns=\"http://www.w3.org/2000/svg\" xmlns:xlink=\"http://www.w3.org/1999/xlink\">\n",
       "<g id=\"graph0\" class=\"graph\" transform=\"scale(1 1) rotate(0) translate(4 184)\">\n",
       "<polygon fill=\"white\" stroke=\"none\" points=\"-4,4 -4,-184 130,-184 130,4 -4,4\"/>\n",
       "<!-- Z -->\n",
       "<g id=\"node1\" class=\"node\">\n",
       "<title>Z</title>\n",
       "<ellipse fill=\"none\" stroke=\"black\" cx=\"27\" cy=\"-162\" rx=\"27\" ry=\"18\"/>\n",
       "<text text-anchor=\"middle\" x=\"27\" y=\"-156.57\" font-family=\"Times New Roman,serif\" font-size=\"14.00\">Z</text>\n",
       "</g>\n",
       "<!-- X -->\n",
       "<g id=\"node2\" class=\"node\">\n",
       "<title>X</title>\n",
       "<ellipse fill=\"none\" stroke=\"black\" cx=\"44\" cy=\"-90\" rx=\"27\" ry=\"18\"/>\n",
       "<text text-anchor=\"middle\" x=\"44\" y=\"-84.58\" font-family=\"Times New Roman,serif\" font-size=\"14.00\">X</text>\n",
       "</g>\n",
       "<!-- Z&#45;&gt;X -->\n",
       "<g id=\"edge1\" class=\"edge\">\n",
       "<title>Z&#45;&gt;X</title>\n",
       "<path fill=\"none\" stroke=\"black\" d=\"M31.12,-144.05C32.93,-136.6 35.1,-127.64 37.15,-119.22\"/>\n",
       "<polygon fill=\"black\" stroke=\"black\" points=\"40.49,-120.29 39.45,-109.75 33.69,-118.64 40.49,-120.29\"/>\n",
       "</g>\n",
       "<!-- Y -->\n",
       "<g id=\"node3\" class=\"node\">\n",
       "<title>Y</title>\n",
       "<ellipse fill=\"none\" stroke=\"black\" cx=\"71\" cy=\"-18\" rx=\"27\" ry=\"18\"/>\n",
       "<text text-anchor=\"middle\" x=\"71\" y=\"-12.57\" font-family=\"Times New Roman,serif\" font-size=\"14.00\">Y</text>\n",
       "</g>\n",
       "<!-- X&#45;&gt;Y -->\n",
       "<g id=\"edge2\" class=\"edge\">\n",
       "<title>X&#45;&gt;Y</title>\n",
       "<path fill=\"none\" stroke=\"black\" d=\"M50.54,-72.05C53.52,-64.32 57.13,-54.96 60.48,-46.27\"/>\n",
       "<polygon fill=\"black\" stroke=\"black\" points=\"63.65,-47.79 63.98,-37.2 57.12,-45.27 63.65,-47.79\"/>\n",
       "</g>\n",
       "<!-- U -->\n",
       "<g id=\"node4\" class=\"node\">\n",
       "<title>U</title>\n",
       "<ellipse fill=\"none\" stroke=\"black\" cx=\"99\" cy=\"-162\" rx=\"27\" ry=\"18\"/>\n",
       "<text text-anchor=\"middle\" x=\"99\" y=\"-156.57\" font-family=\"Times New Roman,serif\" font-size=\"14.00\">U</text>\n",
       "</g>\n",
       "<!-- U&#45;&gt;X -->\n",
       "<g id=\"edge3\" class=\"edge\">\n",
       "<title>U&#45;&gt;X</title>\n",
       "<path fill=\"none\" stroke=\"black\" stroke-dasharray=\"5,2\" d=\"M86.79,-145.46C79.89,-136.67 71.09,-125.48 63.27,-115.53\"/>\n",
       "<polygon fill=\"black\" stroke=\"black\" points=\"66.04,-113.38 57.11,-107.68 60.53,-117.71 66.04,-113.38\"/>\n",
       "</g>\n",
       "<!-- U&#45;&gt;Y -->\n",
       "<g id=\"edge4\" class=\"edge\">\n",
       "<title>U&#45;&gt;Y</title>\n",
       "<path fill=\"none\" stroke=\"black\" stroke-dasharray=\"5,2\" d=\"M95.62,-143.87C90.89,-119.88 82.24,-75.99 76.55,-47.16\"/>\n",
       "<polygon fill=\"black\" stroke=\"black\" points=\"80.05,-46.81 74.68,-37.67 73.18,-48.16 80.05,-46.81\"/>\n",
       "</g>\n",
       "</g>\n",
       "</svg>\n"
      ],
      "text/plain": [
       "<graphviz.graphs.Digraph at 0x22745527dd0>"
      ]
     },
     "execution_count": 4,
     "metadata": {},
     "output_type": "execute_result"
    }
   ],
   "source": [
    "# Grafo indicando a variável de tratamento D, e um confounding U, e a variável de resultado Y\n",
    "g = gr.Digraph()\n",
    "g.edge(\"Z\", \"X\")\n",
    "g.edge(\"X\", \"Y\")\n",
    "g.edge(\"U\", \"X\", style=\"dashed\")\n",
    "g.edge(\"U\", \"Y\", style=\"dashed\")\n",
    "g"
   ]
  },
  {
   "cell_type": "markdown",
   "id": "10aecef9-9e8b-4d9c-a3ff-3e055cd5293a",
   "metadata": {},
   "source": [
    "Retomando, duas condições básicas são necessárias para estimar o modelo econométrico com variável Instrumental para x endógeno.\n",
    "\n",
    "**Primeira condição**, precisamos de um **instrumento Válido** ($Z$), isto é, uma variável que não seja correlacionada com o termo de erro (com variáveis não observáveis contidas no termo de erro) [satisfazer a restrição de exclusão].\n",
    "\n",
    "$$ 𝑪𝒐𝒗(𝒁,𝒖)=𝟎 $$\n",
    "\n",
    "**Segunda condição**, o instrumento ser correlacionado com a variável endógena, ou seja, exista relevância do instrumento (força)\n",
    "\n",
    "$$ 𝑪𝒐𝒗(𝒁,𝒙)  \\neq  𝟎 $$\n",
    "\n",
    "A primeira condição ($ 𝑪𝒐𝒗(𝒁,𝒖)=𝟎 $), não pode ser testada empiricamente. Normalmente essa condição é argumentada teoricamente (para regressões com apenas uma variável instrumental). Assim, nos artigos são apresentadas as possíveis justificativas teóricas para suportar essa hipótese.\n",
    "\n",
    "**Exemplo** \n",
    "\n",
    "Suponha uma equação salarial, em função das variáveis educação e experiência no emprego (**Equação estrutural**). Considere que a medida de educação é uma variável endógena e que a medida de tempo de experiência no trabalho é uma variável exógena.\n",
    "\n",
    "$$ \n",
    "ln(wage) = \\beta_{0} + \\beta_{1}educ + \\beta_{2}expr + \\beta_{3}expr2 + \\epsilon\n",
    "$$\n",
    "\n",
    "O termo de erro contém variáveis não observáveis, como por exemplo, habilidade, motivação, disciplina nos estudos, etc. Ou seja, a variável educação e o termo de erro estão sistematicamente correlacionados. Logo, a variável educação é endógena. Assim, estimativas desconsiderando a endogeneidade geram coeficientes enviesados e inconsistentes. A literatura procurou possíveis variáveis instrumentais válidas para lidar com esse tipo de problema, como por exemplo: Educação da Mãe, Distância do alojamento até a universidade, “Path dependence”, Igrejas no município no passado, relações geográficas, entre outras. Todas apresentavam suas justificativas teóricas para tornar a variável válida.\n",
    "\n",
    "A **segunda condição** pode ser facilmente testada no chamado **\"Primeiro Estágio da Regressão\"** (**Equação de determinação**). Basta rodar uma regressão linear, onde a **variável dependente** torna-se o **$X$ endógeno**, e as **variáveis explicativas** sejam **$Z$** (instrumento excluído) e **exper** (variável exógena/incluída no modelo).\n",
    "\n",
    "$$\n",
    "educ = \\alpha_{0} + \\alpha_{1}expr + \\alpha_{2}expr2 + \\alpha_{3}z + \\epsilon\n",
    "$$\n",
    "\n",
    "onde \n",
    "\n",
    "$$\n",
    "\\alpha_{3}= \\frac{Cov(z,educ)}{Var(z)}\n",
    "$$\n",
    "\n"
   ]
  },
  {
   "cell_type": "markdown",
   "id": "69322a7b-7474-49f7-a3d1-c537a52d969c",
   "metadata": {},
   "source": [
    "Para identificação do coeficiente beta associado à variável endógena, no contexto de variável instrumental, temos que sob a Hipótese de $ 𝑪𝒐𝒗(𝒁,𝒖)=𝟎 $, e se e $ 𝑪𝒐𝒗(𝒁,𝒙)  \\neq  𝟎 $, então algebricamente:\n",
    "\n",
    "$$\n",
    "Y = X\\beta + \\epsilon\n",
    "$$\n",
    "\n",
    "Multiplicando, pela esquerda, a equação pelo vetor de variáveis instrumentais $Z$ (obs, as variáveis exógenas são instrumentos delas mesmas), temos:\n",
    "\n",
    "$$\n",
    "Z'Y = Z'X\\beta + Z'\\epsilon\n",
    "$$\n",
    "\n",
    "Aplicando o operador esperança, temos:\n",
    "\n",
    "$$\n",
    "E(Z'Y) = E(Z'X\\beta) + E(Z'\\epsilon)\n",
    "$$\n",
    "\n",
    "A primeira hipótese é que $ 𝑪𝒐𝒗(𝒁,𝒖)=𝟎 $, então $E(Z'\\epsilon)=0$, logo:\n",
    "\n",
    "$$\n",
    "E(Z'Y) = E(Z'X\\beta)\n",
    "$$\n",
    "\n",
    "Como o operador esperança é linear, então:\n",
    "\n",
    "$$\n",
    "E(Z'Y) = E(Z'X)\\beta\n",
    "$$\n",
    "\n",
    "Analogamente à hipótese de posto completo (Hipótese 3 do OLS), temos que $E(Z'X)$ é uma matriz quadrada de posto completo, logo é inversível. Então:\n",
    "\n",
    "$$\n",
    "\\beta = [E(Z'X)]^{-1}E(Z'Y)\n",
    "$$\n",
    "\n",
    "Ou seja, \n",
    "\n",
    ">$$\n",
    ">\\beta_{IV} = [E(Z'X)]^{-1}E(Z'Y) = \\frac{Cov(Z,Y)}{Cov(Z,X)}\n",
    ">$$\n",
    "\n",
    "Agora, vamos verificar se o estimador IV é não viesado e consistente (propriedades assintóticas). Para isso, vamos substituir $Y$ pelo valor populacional, e reescrever o estimador IV algebricamente, como:\n",
    "\n",
    "$$\n",
    "\\beta_{IV} = (Z´X)^{-1}Z´(X\\beta + \\epsilon)\n",
    "$$\n",
    "\n",
    "$$\n",
    "\\beta_{IV} = (Z´X)^{-1}(Z´X)\\beta + (Z´X)^{-1}(Z´\\epsilon)\n",
    "$$\n",
    "\n",
    "$$\n",
    "\\beta_{IV} = \\beta + (Z´X)^{-1}(Z´\\epsilon)\n",
    "$$\n",
    "\n",
    "Aqui vemos a necessidade de $ 𝑪𝒐𝒗(𝒁,𝒖)=𝟎 $, pois se $Z$ for correlacionado com o termo de erro, então o estimador IV será enviesado. \n",
    "\n",
    "\n",
    "**Para a inferência** do estimador IV, precisamos achar a variância do beta estimado por IV, que é dada por:\n",
    "\n",
    "$$\n",
    "V(\\beta_{IV}) = (Z´X)^{-1}(Z´\\epsilon \\epsilon´ Z)(X´Z)^{-1}\n",
    "$$\n",
    "\n",
    ">$$\n",
    ">V(\\beta_{IV}) = \\sigma^{2}(Z´X)^{-1}(Z´Z)(X´Z)^{-1}\n",
    ">$$\n",
    "\n",
    "Vamos aplicar dois truques nessa relação. Primeiro, multiplicamos por $(X´X)(X´X)^{-1}$ e rearranjamos os termos:\n",
    "\n",
    "$$\n",
    "V(\\beta_{IV}) = \\sigma^{2}\\frac{(Z´Z)}{(Z´X)}\\frac{I}{(X´Z)}(X´X)(X´X)^{-1}\n",
    "$$\n",
    "\n",
    "Segundo truque:\n",
    "\n",
    "$$\n",
    "V(\\beta_{IV}) = \\sigma^{2}\\frac{(Z´Z)^{1/2}}{(Z´X)}\\frac{(Z´Z)^{1/2}}{(X´Z)}(X´X)^{1/2}(X´X)^{1/2}(X´X)^{-1}\n",
    "$$\n",
    "\n",
    "rearanjando os termos:\n",
    "\n",
    "$$\n",
    "V(\\beta_{IV}) = \\sigma^{2}\\frac{(Z´Z)^{1/2}(X´X)^{1/2}}{(Z´X)}\\frac{(Z´Z)^{1/2}(X´X)^{1/2}}{(X´Z)}(X´X)^{-1}\n",
    "$$\n",
    "\n",
    "Lembrando que o coeficiente de correlação ($\\rho$) entre duas variáveis $X$ e $Y$ é dado por:\n",
    "$$\n",
    "\\rho_{xy} = \\frac{Cov(X,Y)}{\\sqrt{V(X)}\\sqrt{V(Y)}}\n",
    "$$\n",
    "\n",
    "Então, voltando à variância do estimador IV, temos que:\n",
    "\n",
    "$$\n",
    "V(\\beta_{IV}) = \\sigma^{2}\\frac{1}{\\rho_{zx}}\\frac{1}{\\rho_{zx}}(X´X)^{-1}\n",
    "$$\n",
    "\n",
    "Como o produto do coeficiente de correlão é o coeficiente de determinação, $R^{2}$, então:\n",
    "\n",
    "$$\n",
    "V(\\beta_{IV}) = \\sigma^{2}(X´X)^{-1} \\frac{1}{\\rho_{zx}^{2}} \n",
    "$$\n",
    "\n",
    "$$\n",
    "V(\\beta_{IV}) = \\sigma^{2}(X´X)^{-1}\\frac{1}{R_{zx}^{2}} \n",
    "$$\n",
    "\n",
    "Isso nos mostra que quanto maior a correlação entre a Variável Instrumental e a Variável Endógena, menor a variância do beta estimado por IV. O limite da correlação é 1, onde a variância do beta estimado pelo estimador IV apresenta a mesma variância do beta estimado pelo estimador de OLS.\n",
    "\n",
    "**Supondo que exista uma pequena correlação entre z e u**, então o estimador apresenta viés assintótico, vimos que:\n",
    "\n",
    "$$\n",
    "\\beta_{IV} = \\beta + (Z´X)^{-1}(Z´\\epsilon)\n",
    "$$\n",
    "\n",
    "Adicionando $(X´X)^{1/2}(X´X)^{-1/2}$, $(\\epsilon´\\epsilon)^{1/2}(\\epsilon´\\epsilon)^{-1/2}$ e $(Z´Z)^{1/2}(Z´Z)^{-1/2}$, temos:\n",
    "\n",
    "$$\n",
    "\\beta_{IV} = \\beta + \\frac{(X´X)^{1/2}(Z´Z)^{1/2}}{(Z´X)}\\frac{(Z´\\epsilon)}{(Z´Z)^{1/2}(\\epsilon´\\epsilon)^{1/2}}\\frac{(\\epsilon´\\epsilon)^{1/2}}{(X´X)^{1/2}}\n",
    "$$\n",
    "\n",
    "$$\n",
    "\\beta_{IV} = \\beta + \\frac{\\rho(z,u)}{\\rho(z,x)}\\frac{\\sigma_{\\epsilon}}{\\sigma_{x}}\n",
    "$$\n",
    "\n",
    "Logo, mesmo que a correlação entre z e u seja pequena, a inconsistência do estimador IV pode ser grande se corr(z,x) também for pequena.\n",
    "Assim, Estimações por IV podem produzir resultados estranhos quando existir alguma correlação entre z e u, e a condição de relevância (Força) do instrumento for fraca (instrumento fraco).\n",
    "\n",
    "Vamos fazer um exemplo no Python."
   ]
  },
  {
   "cell_type": "code",
   "execution_count": 5,
   "id": "3fb386c9",
   "metadata": {},
   "outputs": [],
   "source": [
    "import statsmodels.api as sm\n",
    "import statsmodels.formula.api as smf\n",
    "import statsmodels.stats.api as sms\n",
    "import linearmodels.iv.model as lm\n",
    "import pandas as pd\n",
    "import numpy as np\n",
    "import requests\n",
    "import pyreadstat"
   ]
  },
  {
   "cell_type": "code",
   "execution_count": 6,
   "id": "6b4cc2ef",
   "metadata": {},
   "outputs": [
    {
     "name": "stdout",
     "output_type": "stream",
     "text": [
      "                            OLS Regression Results                            \n",
      "==============================================================================\n",
      "Dep. Variable:                     lw   R-squared:                       0.301\n",
      "Model:                            OLS   Adj. R-squared:                  0.298\n",
      "Method:                 Least Squares   F-statistic:                     108.3\n",
      "Date:                Tue, 06 Aug 2024   Prob (F-statistic):           2.71e-58\n",
      "Time:                        09:30:23   Log-Likelihood:                -297.71\n",
      "No. Observations:                 758   AIC:                             603.4\n",
      "Df Residuals:                     754   BIC:                             621.9\n",
      "Df Model:                           3                                         \n",
      "Covariance Type:            nonrobust                                         \n",
      "==============================================================================\n",
      "                 coef    std err          t      P>|t|      [0.025      0.975]\n",
      "------------------------------------------------------------------------------\n",
      "Intercept      4.1919      0.086     48.991      0.000       4.024       4.360\n",
      "expr           0.0170      0.016      1.052      0.293      -0.015       0.049\n",
      "expr2          0.0040      0.002      1.852      0.064      -0.000       0.008\n",
      "s              0.1071      0.006     17.754      0.000       0.095       0.119\n",
      "==============================================================================\n",
      "Omnibus:                        4.318   Durbin-Watson:                   1.685\n",
      "Prob(Omnibus):                  0.115   Jarque-Bera (JB):                5.246\n",
      "Skew:                          -0.006   Prob(JB):                       0.0726\n",
      "Kurtosis:                       3.407   Cond. No.                         125.\n",
      "==============================================================================\n",
      "\n",
      "Notes:\n",
      "[1] Standard Errors assume that the covariance matrix of the errors is correctly specified.\n"
     ]
    }
   ],
   "source": [
    "# Carregar o arquivo de dados\n",
    "url = \"https://github.com/Daniel-Uhr/data/raw/main/griliches76.dta\"\n",
    "response = requests.get(url)\n",
    "with open('griliches76.dta', 'wb') as f:\n",
    "    f.write(response.content)\n",
    "data, metadata = pyreadstat.read_dta('griliches76.dta')\n",
    "\n",
    "# Criar a coluna 'expr2' com o quadrado da coluna 'expr'\n",
    "data['expr2'] = data['expr'] ** 2\n",
    "\n",
    "mlr1 = smf.ols(\"lw ~ expr + expr2 + s\", data=data).fit()\n",
    "\n",
    "print(mlr1.summary())\n"
   ]
  },
  {
   "cell_type": "code",
   "execution_count": 7,
   "id": "7782f364",
   "metadata": {},
   "outputs": [
    {
     "name": "stdout",
     "output_type": "stream",
     "text": [
      "(4.425385008697046, 0.21904311880427887, 1.4759610307892574, 0.21973533184144928)\n"
     ]
    }
   ],
   "source": [
    "# Breush-Pagan test\n",
    "# Null Hypothesis: Heteroscedasticity is not present\n",
    "name = [\"Lagrange multiplier statistic\", \"p-value\", \"f-value\", \"f p-value\"]\n",
    "test = sms.het_breuschpagan(mlr1.resid, mlr1.model.exog)\n",
    "print(test)"
   ]
  },
  {
   "cell_type": "code",
   "execution_count": 8,
   "id": "b54afbd7",
   "metadata": {},
   "outputs": [
    {
     "name": "stdout",
     "output_type": "stream",
     "text": [
      "(1.1441699259710185, 0.09634420462928885, 'increasing')\n"
     ]
    }
   ],
   "source": [
    "# Goldfeld-Quandt test\n",
    "# Null Hypothesis: Heteroscedasticity is not present\n",
    "name = [\"F statistic\", \"p-value\"]\n",
    "test = sms.het_goldfeldquandt(mlr1.resid, mlr1.model.exog)\n",
    "print(test)"
   ]
  },
  {
   "cell_type": "markdown",
   "id": "ab4a6b03",
   "metadata": {},
   "source": [
    "A regressão ingênua (OLS), mostra que um ano de escolaridade adicional, em média, aumenta em aproximadamente 11,31% os salários ($[exp(0,1071)-1]*100$).\n",
    "\n",
    "Antes de usarmos uma variável $Z$ como um instrumento (Educação da Mãe), precisamos ter certeza de que é válida. Isso implica argumentar a favor das duas hipóteses de Variáveis ​​Instrumentais:\n",
    "\n",
    "* **Primeira condição**, [satisfazer a restrição de exclusão]: $Z$ afeta $Y$ apenas através de $X$, $ 𝑪𝒐𝒗(𝒁,𝒖)=𝟎 $\n",
    "* **Segunda condição**, Devemos ter um primeiro estágio forte, ou seja, o instrumento realmente afeta $X$, $ 𝑪𝒐𝒗(𝒁,𝒙)  \\neq  𝟎 $\n",
    "\n",
    "Lembre que apenas a segunda suposição é verificável."
   ]
  },
  {
   "cell_type": "code",
   "execution_count": 9,
   "id": "b87da3ff-b9ac-49a2-a65d-680f9244b211",
   "metadata": {},
   "outputs": [
    {
     "name": "stdout",
     "output_type": "stream",
     "text": [
      "                          IV-2SLS Estimation Summary                          \n",
      "==============================================================================\n",
      "Dep. Variable:                     lw   R-squared:                      0.2655\n",
      "Estimator:                    IV-2SLS   Adj. R-squared:                 0.2626\n",
      "No. Observations:                 758   F-statistic:                    21.049\n",
      "Date:                Tue, Aug 06 2024   P-value (F-stat)                0.0000\n",
      "Time:                        09:30:47   Distribution:                 F(3,754)\n",
      "Cov. Estimator:         homoskedastic                                         \n",
      "                                                                              \n",
      "                             Parameter Estimates                              \n",
      "==============================================================================\n",
      "            Parameter  Std. Err.     T-stat    P-value    Lower CI    Upper CI\n",
      "------------------------------------------------------------------------------\n",
      "const          3.6762     0.2721     13.510     0.0000      3.1420      4.2103\n",
      "expr           0.0241     0.0170     1.4197     0.1561     -0.0092      0.0574\n",
      "expr2          0.0043     0.0022     1.9647     0.0498   3.459e-06      0.0087\n",
      "s              0.1445     0.0197     7.3494     0.0000      0.1059      0.1831\n",
      "==============================================================================\n",
      "\n",
      "Endogenous: s\n",
      "Instruments: med\n",
      "Unadjusted Covariance (Homoskedastic)\n",
      "Debiased: True\n"
     ]
    }
   ],
   "source": [
    "mdata = sm.add_constant(data=data, prepend=False)\n",
    "mlr2 = lm.IV2SLS(dependent=mdata[\"lw\"], exog=mdata[[\"const\", \"expr\", \"expr2\"]], endog=mdata[\"s\"], instruments=mdata[[\"med\"]]).fit(cov_type=\"homoskedastic\", debiased=True)\n",
    "print(mlr2.summary)"
   ]
  },
  {
   "cell_type": "markdown",
   "id": "e9b78707",
   "metadata": {},
   "source": [
    "Mas será que o instrumento é forte? Para responder a essa pergunta, vamos estimar o primeiro estágio da regressão, onde a variável dependente é a educação, e as variáveis explicativas são a experiência, experiência ao quadrado, e o instrumento (Escolaridade da Mãe)."
   ]
  },
  {
   "cell_type": "code",
   "execution_count": 10,
   "id": "a48c37af",
   "metadata": {},
   "outputs": [
    {
     "name": "stdout",
     "output_type": "stream",
     "text": [
      "    First Stage Estimation Results    \n",
      "======================================\n",
      "                                     s\n",
      "--------------------------------------\n",
      "R-squared                       0.1523\n",
      "Partial R-squared               0.0990\n",
      "Shea's R-squared                0.0990\n",
      "Partial F-statistic             82.834\n",
      "P-value (Partial F-stat)      1.11e-16\n",
      "Partial F-stat Distn          F(1,754)\n",
      "========================== ===========\n",
      "const                           10.966\n",
      "                              (33.074)\n",
      "expr                           -0.1331\n",
      "                             (-1.4345)\n",
      "expr2                          -0.0102\n",
      "                             (-0.8322)\n",
      "med                             0.2517\n",
      "                              (9.1013)\n",
      "--------------------------------------\n",
      "\n",
      "T-stats reported in parentheses\n",
      "T-stats use same covariance type as original model\n"
     ]
    }
   ],
   "source": [
    "print(mlr2.first_stage)"
   ]
  },
  {
   "cell_type": "markdown",
   "id": "581c58bb-6043-4cc6-8158-cffbc5e94d2a",
   "metadata": {},
   "source": [
    "Sim, há correlação forte entre o instrumento e a variável endógena. E no caso de usar erros padrão robustos à heterocedasticidade? "
   ]
  },
  {
   "cell_type": "code",
   "execution_count": 11,
   "id": "3838467c-88c9-4aa5-9373-d2fe5df51dff",
   "metadata": {},
   "outputs": [
    {
     "name": "stdout",
     "output_type": "stream",
     "text": [
      "                          IV-2SLS Estimation Summary                          \n",
      "==============================================================================\n",
      "Dep. Variable:                     lw   R-squared:                      0.2655\n",
      "Estimator:                    IV-2SLS   Adj. R-squared:                 0.2626\n",
      "No. Observations:                 758   F-statistic:                    73.034\n",
      "Date:                Tue, Aug 06 2024   P-value (F-stat)                0.0000\n",
      "Time:                        09:31:15   Distribution:                  chi2(3)\n",
      "Cov. Estimator:                robust                                         \n",
      "                                                                              \n",
      "                             Parameter Estimates                              \n",
      "==============================================================================\n",
      "            Parameter  Std. Err.     T-stat    P-value    Lower CI    Upper CI\n",
      "------------------------------------------------------------------------------\n",
      "const          3.6762     0.2599     14.145     0.0000      3.1668      4.1856\n",
      "expr           0.0241     0.0161     1.5012     0.1333     -0.0074      0.0556\n",
      "expr2          0.0043     0.0019     2.2529     0.0243      0.0006      0.0081\n",
      "s              0.1445     0.0188     7.6998     0.0000      0.1077      0.1812\n",
      "==============================================================================\n",
      "\n",
      "Endogenous: s\n",
      "Instruments: med\n",
      "Robust Covariance (Heteroskedastic)\n",
      "Debiased: False\n"
     ]
    }
   ],
   "source": [
    "# Erros padrão robustos\n",
    "mlr3 = lm.IV2SLS(dependent=mdata[\"lw\"], exog=mdata[[\"const\", \"expr\", \"expr2\"]], endog=mdata[\"s\"], instruments=mdata[[\"med\"]], weights=None).fit(cov_type=\"robust\")\n",
    "print(mlr3.summary)\n"
   ]
  },
  {
   "cell_type": "markdown",
   "id": "01a5d91e-b94a-4a3e-9f58-3eeb15d5ff57",
   "metadata": {},
   "source": [
    "### 2SLS - Two Stage Least Squares\n",
    "\n",
    "**E se nós temos mais de um instrumento?** \n",
    "\n",
    "Os Mínimos Quadrados em Dois Estágios (*Two Stage Least Squares*) é um estimador de **variável instrumental sobreidentificado** (Multiplos Instrumentos), ou seja, utiliza um vetor de instrumentos que afetam $Y$ através do $X$ endógeno.\n",
    "\n",
    "A ideia por trás do estimador é que **utilizar mais instrumentos é melhor que utilizar apenas um** porque mais instrumentos geram mais variação exógena em $X$. Diminuindo a variância do beta estimado.\n"
   ]
  },
  {
   "cell_type": "code",
   "execution_count": 12,
   "id": "20d2e9af",
   "metadata": {},
   "outputs": [
    {
     "data": {
      "image/svg+xml": [
       "<?xml version=\"1.0\" encoding=\"UTF-8\" standalone=\"no\"?>\n",
       "<!DOCTYPE svg PUBLIC \"-//W3C//DTD SVG 1.1//EN\"\n",
       " \"http://www.w3.org/Graphics/SVG/1.1/DTD/svg11.dtd\">\n",
       "<!-- Generated by graphviz version 11.0.0 (20240428.1522)\n",
       " -->\n",
       "<!-- Pages: 1 -->\n",
       "<svg width=\"206pt\" height=\"188pt\"\n",
       " viewBox=\"0.00 0.00 206.00 188.00\" xmlns=\"http://www.w3.org/2000/svg\" xmlns:xlink=\"http://www.w3.org/1999/xlink\">\n",
       "<g id=\"graph0\" class=\"graph\" transform=\"scale(1 1) rotate(0) translate(4 184)\">\n",
       "<polygon fill=\"white\" stroke=\"none\" points=\"-4,4 -4,-184 202,-184 202,4 -4,4\"/>\n",
       "<!-- Z1 -->\n",
       "<g id=\"node1\" class=\"node\">\n",
       "<title>Z1</title>\n",
       "<ellipse fill=\"none\" stroke=\"black\" cx=\"27\" cy=\"-162\" rx=\"27\" ry=\"18\"/>\n",
       "<text text-anchor=\"middle\" x=\"27\" y=\"-156.57\" font-family=\"Times New Roman,serif\" font-size=\"14.00\">Z1</text>\n",
       "</g>\n",
       "<!-- X -->\n",
       "<g id=\"node2\" class=\"node\">\n",
       "<title>X</title>\n",
       "<ellipse fill=\"none\" stroke=\"black\" cx=\"107\" cy=\"-90\" rx=\"27\" ry=\"18\"/>\n",
       "<text text-anchor=\"middle\" x=\"107\" y=\"-84.58\" font-family=\"Times New Roman,serif\" font-size=\"14.00\">X</text>\n",
       "</g>\n",
       "<!-- Z1&#45;&gt;X -->\n",
       "<g id=\"edge1\" class=\"edge\">\n",
       "<title>Z1&#45;&gt;X</title>\n",
       "<path fill=\"none\" stroke=\"black\" d=\"M42.81,-147.17C54.2,-137.2 69.79,-123.56 82.76,-112.21\"/>\n",
       "<polygon fill=\"black\" stroke=\"black\" points=\"84.87,-115.02 90.09,-105.8 80.26,-109.75 84.87,-115.02\"/>\n",
       "</g>\n",
       "<!-- Y -->\n",
       "<g id=\"node4\" class=\"node\">\n",
       "<title>Y</title>\n",
       "<ellipse fill=\"none\" stroke=\"black\" cx=\"134\" cy=\"-18\" rx=\"27\" ry=\"18\"/>\n",
       "<text text-anchor=\"middle\" x=\"134\" y=\"-12.57\" font-family=\"Times New Roman,serif\" font-size=\"14.00\">Y</text>\n",
       "</g>\n",
       "<!-- X&#45;&gt;Y -->\n",
       "<g id=\"edge3\" class=\"edge\">\n",
       "<title>X&#45;&gt;Y</title>\n",
       "<path fill=\"none\" stroke=\"black\" d=\"M113.54,-72.05C116.52,-64.32 120.13,-54.96 123.48,-46.27\"/>\n",
       "<polygon fill=\"black\" stroke=\"black\" points=\"126.65,-47.79 126.98,-37.2 120.12,-45.27 126.65,-47.79\"/>\n",
       "</g>\n",
       "<!-- Z2 -->\n",
       "<g id=\"node3\" class=\"node\">\n",
       "<title>Z2</title>\n",
       "<ellipse fill=\"none\" stroke=\"black\" cx=\"99\" cy=\"-162\" rx=\"27\" ry=\"18\"/>\n",
       "<text text-anchor=\"middle\" x=\"99\" y=\"-156.57\" font-family=\"Times New Roman,serif\" font-size=\"14.00\">Z2</text>\n",
       "</g>\n",
       "<!-- Z2&#45;&gt;X -->\n",
       "<g id=\"edge2\" class=\"edge\">\n",
       "<title>Z2&#45;&gt;X</title>\n",
       "<path fill=\"none\" stroke=\"black\" d=\"M100.98,-143.7C101.81,-136.41 102.8,-127.73 103.74,-119.54\"/>\n",
       "<polygon fill=\"black\" stroke=\"black\" points=\"107.22,-119.94 104.87,-109.61 100.26,-119.15 107.22,-119.94\"/>\n",
       "</g>\n",
       "<!-- U -->\n",
       "<g id=\"node5\" class=\"node\">\n",
       "<title>U</title>\n",
       "<ellipse fill=\"none\" stroke=\"black\" cx=\"171\" cy=\"-162\" rx=\"27\" ry=\"18\"/>\n",
       "<text text-anchor=\"middle\" x=\"171\" y=\"-156.57\" font-family=\"Times New Roman,serif\" font-size=\"14.00\">U</text>\n",
       "</g>\n",
       "<!-- U&#45;&gt;X -->\n",
       "<g id=\"edge4\" class=\"edge\">\n",
       "<title>U&#45;&gt;X</title>\n",
       "<path fill=\"none\" stroke=\"black\" stroke-dasharray=\"5,2\" d=\"M157.43,-146.15C148.94,-136.87 137.83,-124.73 128.2,-114.19\"/>\n",
       "<polygon fill=\"black\" stroke=\"black\" points=\"130.91,-111.96 121.57,-106.94 125.74,-116.68 130.91,-111.96\"/>\n",
       "</g>\n",
       "<!-- U&#45;&gt;Y -->\n",
       "<g id=\"edge5\" class=\"edge\">\n",
       "<title>U&#45;&gt;Y</title>\n",
       "<path fill=\"none\" stroke=\"black\" stroke-dasharray=\"5,2\" d=\"M166.54,-143.87C160.29,-119.88 148.85,-75.99 141.34,-47.16\"/>\n",
       "<polygon fill=\"black\" stroke=\"black\" points=\"144.77,-46.45 138.86,-37.65 138,-48.21 144.77,-46.45\"/>\n",
       "</g>\n",
       "</g>\n",
       "</svg>\n"
      ],
      "text/plain": [
       "<graphviz.graphs.Digraph at 0x2276726f290>"
      ]
     },
     "execution_count": 12,
     "metadata": {},
     "output_type": "execute_result"
    }
   ],
   "source": [
    "# Grafo indicando a variável de tratamento D, e um confounding U, e a variável de resultado Y\n",
    "g = gr.Digraph()\n",
    "g.edge(\"Z1\", \"X\")\n",
    "g.edge(\"Z2\", \"X\")\n",
    "g.edge(\"X\", \"Y\")\n",
    "g.edge(\"U\", \"X\", style=\"dashed\")\n",
    "g.edge(\"U\", \"Y\", style=\"dashed\")\n",
    "g"
   ]
  },
  {
   "cell_type": "markdown",
   "id": "834a1a62-aa88-4ccd-9d09-5361ca5430a8",
   "metadata": {},
   "source": [
    "Considere o modelo:\n",
    "\n",
    "$$\n",
    "y_{i} = \\beta_{0} + \\beta_{1}x_{1} + \\beta_{2}x_{2} + \\epsilon_{i}\n",
    "$$\n",
    "\n",
    "onde $x_{2}$ é **endógena**. Suponha que temos três variáveis exógenas disponíveis. A $x_{1}$, $z_{1}$ e $z_{2}$. Dizemos que $z_{1}$ e $z_{2}$ são **variáveis exógenas excluídas** porque não pertecenm a relação estrutural.\n",
    "\n",
    "Supomos que $z_{1}$ e $z_{2}$ não são correlacionadas com o termo de erro (respeitam a condição de exclusão), então são válidas.\n",
    "\n",
    "Se ambas forem correlacionadas com a variável endógena $x_2$, poderíamos usar apenas uma das duas variáveis, **mas como a combinação das variáveis instrumentais pode gerar maior variação exógena**, utilizamos a seguinte equação de primeiro estágio:\n",
    "\n",
    "$$\n",
    "x_{2i} = \\alpha_{0} + \\alpha_{1}x_{1i} + \\alpha_{2}z_{1i} + \\alpha_{3}z_{2i} + \\eta_{i}\n",
    "$$\n",
    "\n",
    "Supondo que $\\alpha_2 \\neq 0$  e $\\alpha_3 \\neq 0$. Conseguimos estimar a regressão e obter os valores estimados para $\\hat{𝑥}_2$\n",
    "\n",
    "$$\n",
    "\\hat{x}_{2i} = \\hat{\\alpha}_{0} + \\hat{\\alpha}_{1}x_{1i} + \\hat{\\alpha}_{2}z_{1i} + \\hat{\\alpha}_{3}z_{2i}\n",
    "$$\n",
    "\n",
    "Uma vez obtido o ($\\hat{x}_{2i} $) para a variável endógena, **podemos utiliza-lo como IV de $𝑥_2$**.\n",
    "\n",
    "Então com instrumentos múltiplos, o estimador de IV que usa $\\hat{x}_{2i} $ como instrumento é chamado de **Mínimos Quadrados em Dois Estágios**. A ideia é que o primeiro estágio do MQ2E “expurga” de $𝑥_2$ sua correlação com $u$, antes de rodar o MQO de $y$ sobre $𝑥_1$ e $\\hat{x}_{2i} $.\n",
    "\n",
    "\n",
    "**Generalizando o estimador 2SLS**\n",
    "\n",
    "Considere um modelo estrutural com $x_{k}$ endógeno:\n",
    "\n",
    "$$\n",
    "y_{i} = \\beta_{0} + \\beta+{1}x_{1} + \\beta_{2}x_{2} + ... + \\beta_{k}x_{k} + \\epsilon_{i}\n",
    "$$\n",
    "\n",
    "Assuma que possuímos $n$ instrumentos externos: $𝑍_1, 𝑍_2, 𝑍_3, …, 𝑍_𝑛$. E que a restrição de exclusão é satisfeita: $𝑪𝒐𝒗(𝒁,𝒖)=𝟎 $ para todo $𝑍_𝑖$\n",
    "\n",
    "\n",
    "Considere a matriz de instrumentos $𝑍 = (x_{1}, x_{2}, ... x_{k-1}, z_{1}, z_{2}, ..., z_{n})$.\n",
    "\n",
    "A regressão do primeiro estágio (forma reduzida) é dada por:\n",
    "\n",
    "$$\n",
    "x_{ki} = \\alpha_{0} + \\alpha_{1}x_{1i} + \\alpha_{2}x_{2i} + ... + \\alpha_{k-1}x_{k-1i} + \\theta_{1}z_{1i} + \\theta_{2}z_{2i} + ... + \\theta_{n}z_{ni} + \\eta_{i}\n",
    "$$\n",
    "\n",
    "O resultado do Primeiro estágio gera  $\\hat{x}_{ki} $. No segundo estágio utilizamos a matriz $\\hat{X}=(x_{1}, x_{2}, ... x_{k-1}, \\hat{x}_{k})$ e rodamos:\n",
    "\n",
    "$$\n",
    "\\beta_{2SLS} = (\\hat{X}'\\hat{X})^{-1}\\hat{X}'y\n",
    "$$\n",
    "\n",
    "\n",
    "Observação, esse estimador pode ser estimado em um único estágio, utilizando a matriz de instrumentos $Z$:\n",
    "\n",
    "$$\n",
    "\\beta_{2SLS} = (X'Z(Z´Z)^{−1}Z´X)^{-1}X´Z(Z´Z)^{−1}Z'Y\n",
    "$$\n",
    "\n"
   ]
  },
  {
   "cell_type": "markdown",
   "id": "0f4a4117",
   "metadata": {},
   "source": [
    "#### **Considerações gerais sobre IV/2SLS**\n",
    "\n",
    "**Hipótese Fundamental (de identificação)**: O indivíduo na amostra escolhe o *nível/quantidade de $x$* (endógeno) a partir de características não observáveis (no termo de erro).\n",
    "\n",
    "* Os instrumentos, variáveis $Z_{i}´s$ exógenas, **afetam a decisão sobre o nível de escolha (participação)**, e não estão correlacionadas com nenhum fator não observável relacionado ao resultado potencial. [hipóteses de força e validade dos instrumentos].\n",
    "* Normalmente, **supomos que o efeito da variável endógena é homogêneo** entre os indivíduos que decidiram pelo determinado nível de $X$ (endógeneo). Entretanto, os instrumentos disponíveis podem afetar apenas uma porção destes indivíduos, gerando assim betas IV com efeito heterogêneos. Ou seja, os efeitos estimados são especificadamente para aqueles que são realmente afetados/induzidos pelo instrumento a ter uma mudança de comportamento na variável endógena.\n",
    "* Logo, o **IV/2SLS é a identificação dos betas** para aqueles indivíduos influenciados pela variável instrumental.\n",
    "\n",
    "Vamos desenvolver esse método mais a fundo na próxima parte do curso.\n",
    "\n",
    "Voltemos ao nosso exemplo, agora com mais instrumentos (Escolaridade da Mãe, Nota em teste de QI, e Nota).\n"
   ]
  },
  {
   "cell_type": "code",
   "execution_count": 13,
   "id": "cfefc3d5",
   "metadata": {},
   "outputs": [
    {
     "name": "stdout",
     "output_type": "stream",
     "text": [
      "                          IV-2SLS Estimation Summary                          \n",
      "==============================================================================\n",
      "Dep. Variable:                     lw   R-squared:                      0.2560\n",
      "Estimator:                    IV-2SLS   Adj. R-squared:                 0.2531\n",
      "No. Observations:                 758   F-statistic:                    66.770\n",
      "Date:                Tue, Aug 06 2024   P-value (F-stat)                0.0000\n",
      "Time:                        09:31:25   Distribution:                 F(3,754)\n",
      "Cov. Estimator:         homoskedastic                                         \n",
      "                                                                              \n",
      "                             Parameter Estimates                              \n",
      "==============================================================================\n",
      "            Parameter  Std. Err.     T-stat    P-value    Lower CI    Upper CI\n",
      "------------------------------------------------------------------------------\n",
      "const          3.6114     0.1502     24.037     0.0000      3.3165      3.9064\n",
      "expr           0.0250     0.0168     1.4877     0.1372     -0.0080      0.0580\n",
      "expr2          0.0044     0.0022     1.9777     0.0483   3.234e-05      0.0087\n",
      "s              0.1492     0.0108     13.831     0.0000      0.1280      0.1703\n",
      "==============================================================================\n",
      "\n",
      "Endogenous: s\n",
      "Instruments: med, iq, kww\n",
      "Unadjusted Covariance (Homoskedastic)\n",
      "Debiased: True\n"
     ]
    }
   ],
   "source": [
    "# Agora vamos rodar a regressão de 2SLS com 3 instrumentos excluídos\n",
    "mlr4 = lm.IV2SLS(dependent=mdata[\"lw\"], exog=mdata[[\"const\", \"expr\", \"expr2\"]], endog=mdata[\"s\"], instruments=mdata[[\"med\", \"iq\", \"kww\"]]).fit(cov_type=\"homoskedastic\", debiased=True)\n",
    "print(mlr4.summary)"
   ]
  },
  {
   "cell_type": "markdown",
   "id": "45263196",
   "metadata": {},
   "source": [
    "Os resultamos mostram uma melhora na estatística de teste (T-stat) do coeficiente de escolaridade. "
   ]
  },
  {
   "cell_type": "code",
   "execution_count": 14,
   "id": "201f70c5",
   "metadata": {},
   "outputs": [
    {
     "name": "stdout",
     "output_type": "stream",
     "text": [
      "    First Stage Estimation Results    \n",
      "======================================\n",
      "                                     s\n",
      "--------------------------------------\n",
      "R-squared                       0.3725\n",
      "Partial R-squared               0.3331\n",
      "Shea's R-squared                0.3331\n",
      "Partial F-statistic             125.20\n",
      "P-value (Partial F-stat)      1.11e-16\n",
      "Partial F-stat Distn          F(3,752)\n",
      "========================== ===========\n",
      "const                           3.3998\n",
      "                              (6.1400)\n",
      "expr                           -0.1302\n",
      "                             (-1.6214)\n",
      "expr2                          -0.0063\n",
      "                             (-0.5921)\n",
      "med                             0.1412\n",
      "                              (5.7007)\n",
      "iq                              0.0593\n",
      "                              (11.360)\n",
      "kww                             0.0705\n",
      "                              (7.3946)\n",
      "--------------------------------------\n",
      "\n",
      "T-stats reported in parentheses\n",
      "T-stats use same covariance type as original model\n"
     ]
    }
   ],
   "source": [
    "print(mlr4.first_stage)"
   ]
  },
  {
   "cell_type": "markdown",
   "id": "3ae3e334",
   "metadata": {},
   "source": [
    "Agora vamos utilizar erros padrão robustos à heterocedasticidade."
   ]
  },
  {
   "cell_type": "code",
   "execution_count": 15,
   "id": "cc136262",
   "metadata": {},
   "outputs": [
    {
     "name": "stdout",
     "output_type": "stream",
     "text": [
      "                          IV-2SLS Estimation Summary                          \n",
      "==============================================================================\n",
      "Dep. Variable:                     lw   R-squared:                      0.2560\n",
      "Estimator:                    IV-2SLS   Adj. R-squared:                 0.2531\n",
      "No. Observations:                 758   F-statistic:                    64.461\n",
      "Date:                Tue, Aug 06 2024   P-value (F-stat)                0.0000\n",
      "Time:                        09:31:45   Distribution:                 F(3,754)\n",
      "Cov. Estimator:                robust                                         \n",
      "                                                                              \n",
      "                             Parameter Estimates                              \n",
      "==============================================================================\n",
      "            Parameter  Std. Err.     T-stat    P-value    Lower CI    Upper CI\n",
      "------------------------------------------------------------------------------\n",
      "const          3.6114     0.1540     23.452     0.0000      3.3091      3.9137\n",
      "expr           0.0250     0.0159     1.5692     0.1170     -0.0063      0.0562\n",
      "expr2          0.0044     0.0019     2.2583     0.0242      0.0006      0.0082\n",
      "s              0.1492     0.0111     13.422     0.0000      0.1273      0.1710\n",
      "==============================================================================\n",
      "\n",
      "Endogenous: s\n",
      "Instruments: med, iq, kww\n",
      "Robust Covariance (Heteroskedastic)\n",
      "Debiased: True\n"
     ]
    }
   ],
   "source": [
    "mlr5 = lm.IV2SLS(dependent=mdata[\"lw\"], exog=mdata[[\"const\", \"expr\", \"expr2\"]], endog=mdata[\"s\"], instruments=mdata[[\"med\", \"iq\", \"kww\"]]).fit(cov_type=\"robust\", debiased=True)\n",
    "print(mlr5.summary)"
   ]
  },
  {
   "cell_type": "markdown",
   "id": "76646b7d",
   "metadata": {},
   "source": [
    "#### Testes de Endogeneidade\n",
    "\n",
    "**A variável “X” é realmente endógena?**\n",
    "\n",
    "Normalmente a endogeneidade é identificada pelo pesquisador quando a variável “X” é, também, em outros trabalhos, uma variável de resultado. \n",
    "\n",
    "Por exemplo: \n",
    "\n",
    "* Em caso microeconômico, a variável de educação é endógena quando considerada para explicar os níveis salariais. \n",
    "* No caso macroeconômico, ao considerarmos o PIB como medida para explicar o nível de poluição de um país, incorremos no mesmo problema.\n",
    "\n",
    "Entretanto, podemos testa-la formalmente através do Teste de endogeneidade de **Wu-Hausman/Durbin-Wu-Hausman/Hausman** (1978).\n"
   ]
  },
  {
   "cell_type": "markdown",
   "id": "f2451a30",
   "metadata": {},
   "source": [
    "**Teste de Endogeneidade (2SLS) - Wu-Hausman: (verificar se a variável de Xk é endógena)**\n",
    "* $H_0$: O regressor é exógeno.\n",
    "\n",
    "**Passos:**\n",
    "\n",
    "* 1. Regredir $X_{k}$ em $Z$ e outras $X$ exógenas, obter os resíduos $v$ (estes resíduos refletem todas as heterogeneidades não observadas que afetam a variável $X_{k}$ que não foram capturadas pelos instrumentos e variáveis exógenas do modelo).\n",
    "* 2. Regredir $Y$, $X_{exógenas}$, $X_{endogena}$ e $v$. Se o coeficiente relacionado à $v$ é estatisticamente diferente de 0, então as características não observáveis que afetam conjuntamente a variável $X_{k}$ e os resultados $Y$ são significativos, e a hipótese nula de que $X_{k}$ é exógena é rejeitada. Existem efeitos não observáveis.\n",
    "\n",
    "Logo, devemos utilizar a metodologia de variáveis instrumentais!\n",
    "\n",
    "O teste pode ser estendido para múltiplos regressores endógenos ao incluirmos o vetor de resíduos e testar a correlação de cada um...\n"
   ]
  },
  {
   "cell_type": "code",
   "execution_count": 16,
   "id": "3d44e510",
   "metadata": {},
   "outputs": [
    {
     "name": "stdout",
     "output_type": "stream",
     "text": [
      "Wu-Hausman test of exogeneity\n",
      "H0: All endogenous variables are exogenous\n",
      "Statistic: 25.0642\n",
      "P-value: 0.0000\n",
      "Distributed: F(1,753)\n"
     ]
    }
   ],
   "source": [
    "print(mlr4.wu_hausman())"
   ]
  },
  {
   "cell_type": "code",
   "execution_count": 17,
   "id": "a8c30430",
   "metadata": {},
   "outputs": [
    {
     "name": "stdout",
     "output_type": "stream",
     "text": [
      "Wooldridge's regression test of exogeneity\n",
      "H0: Endogenous variables are exogenous\n",
      "Statistic: 25.0426\n",
      "P-value: 0.0000\n",
      "Distributed: chi2(1)\n"
     ]
    }
   ],
   "source": [
    "print(mlr4.wooldridge_regression)"
   ]
  },
  {
   "cell_type": "markdown",
   "id": "43352cb5",
   "metadata": {},
   "source": [
    "Rejeitamos a hipótese nula de que o coeficiente de 's' é exógeno. Logo, realmente devemos utilizar a técnica de 2SLS."
   ]
  },
  {
   "cell_type": "markdown",
   "id": "08547dd3",
   "metadata": {},
   "source": [
    "E o Teste de **Sargan** (1958) é utilizado para testar a validade conjunta dos instrumentos. **Os instrumentos conjuntamente são validos?**"
   ]
  },
  {
   "cell_type": "code",
   "execution_count": 18,
   "id": "27277e39",
   "metadata": {},
   "outputs": [
    {
     "name": "stdout",
     "output_type": "stream",
     "text": [
      "Sargan's test of overidentification\n",
      "H0: The model is not overidentified.\n",
      "Statistic: 0.4248\n",
      "P-value: 0.8086\n",
      "Distributed: chi2(2)\n"
     ]
    }
   ],
   "source": [
    "print(mlr4.sargan)"
   ]
  },
  {
   "cell_type": "markdown",
   "id": "9e5060e7",
   "metadata": {},
   "source": [
    "E os instrumentos são fortes? \n",
    "\n",
    "Para testar isso, fazemos o **Teste F sobre os intrumentos excluídos** (no primeiro estágio da regressão)."
   ]
  },
  {
   "cell_type": "code",
   "execution_count": 20,
   "id": "09aa4949",
   "metadata": {},
   "outputs": [
    {
     "name": "stdout",
     "output_type": "stream",
     "text": [
      "                            OLS Regression Results                            \n",
      "==============================================================================\n",
      "Dep. Variable:                      s   R-squared:                       0.373\n",
      "Model:                            OLS   Adj. R-squared:                  0.368\n",
      "Method:                 Least Squares   F-statistic:                     89.30\n",
      "Date:                Tue, 06 Aug 2024   Prob (F-statistic):           9.79e-74\n",
      "Time:                        09:32:41   Log-Likelihood:                -1506.9\n",
      "No. Observations:                 758   AIC:                             3026.\n",
      "Df Residuals:                     752   BIC:                             3054.\n",
      "Df Model:                           5                                         \n",
      "Covariance Type:            nonrobust                                         \n",
      "==============================================================================\n",
      "                 coef    std err          t      P>|t|      [0.025      0.975]\n",
      "------------------------------------------------------------------------------\n",
      "Intercept      3.3998      0.554      6.140      0.000       2.313       4.487\n",
      "med            0.1412      0.025      5.701      0.000       0.093       0.190\n",
      "iq             0.0593      0.005     11.360      0.000       0.049       0.070\n",
      "kww            0.0705      0.010      7.395      0.000       0.052       0.089\n",
      "expr          -0.1302      0.080     -1.621      0.105      -0.288       0.027\n",
      "expr2         -0.0063      0.011     -0.592      0.554      -0.027       0.014\n",
      "==============================================================================\n",
      "Omnibus:                       15.642   Durbin-Watson:                   1.919\n",
      "Prob(Omnibus):                  0.000   Jarque-Bera (JB):               16.279\n",
      "Skew:                           0.350   Prob(JB):                     0.000292\n",
      "Kurtosis:                       2.844   Cond. No.                         961.\n",
      "==============================================================================\n",
      "\n",
      "Notes:\n",
      "[1] Standard Errors assume that the covariance matrix of the errors is correctly specified.\n"
     ]
    }
   ],
   "source": [
    "first_stage = smf.ols('s ~ med + iq + kww + expr + expr2', data=data).fit()\n",
    "print(first_stage.summary())"
   ]
  },
  {
   "cell_type": "code",
   "execution_count": 23,
   "id": "2c0273c2",
   "metadata": {},
   "outputs": [
    {
     "name": "stdout",
     "output_type": "stream",
     "text": [
      "<F test: F=125.20131017914196, p=8.911498561591175e-66, df_denom=752, df_num=3>\n"
     ]
    }
   ],
   "source": [
    "print(first_stage.f_test(['med','iq','kww']))"
   ]
  },
  {
   "cell_type": "markdown",
   "id": "6a523013",
   "metadata": {},
   "source": [
    "O teste F mostra uma estatística de teste de 124,56. Logo, os instrumentos são conjuntamente diferentes de zero. Ou seja, consideramos os instrumentos fortes (F>10)."
   ]
  },
  {
   "cell_type": "markdown",
   "id": "af916fbe",
   "metadata": {},
   "source": [
    "### GMM\n",
    "\n",
    "**Método Generalizado dos Momentos – GMM; Lars Peter Hansen (1982)**\n",
    "\n",
    "O método GMM é uma generalização do método IV, que permite a utilização de mais instrumentos que o número de variáveis endógenas. \n",
    "\n",
    "Seja $Z$ o conjunto de variáveis exógenas $(nxL)$, onde $Z=[Z_{1} Z_{2}]$\n",
    "\n",
    "* $L_{1}$: instrumentos excluídos ($Z_{1}$)\n",
    "* $L_{2}$: ($L-L_{1}$) são os instrumentos incluídos ($Z_{2}$)\n",
    "\n",
    "A condição de ordem para identificação: L maior ou igual a K\n",
    "* L>k sobreidentificada\n",
    "* L=k equação exatamente identificada.\n",
    "\n",
    "Sob a **Hipótese GMM1** \n",
    "\n",
    "$$ E[Z_{i},u_{i}]=0 $$\n",
    "\n",
    "E seja g(.) uma função (linear ou não linear), então,\n",
    "\n",
    "$$ g(\\beta)= Z_{i}'u_{i} = Z_{i}´(Y-X_{i}\\beta) $$\n",
    "\n",
    "considerando a hipótese,\n",
    "\n",
    "$$ E[g_{i}(\\beta)]= E[Z_{i}´u_{i}]=0 $$\n",
    "\n",
    "Considere a seguinte função objetivo:\n",
    "\n",
    "$$ J(\\hat{\\beta})= n\\hat{g}(\\beta)´W\\hat{g}(\\beta) $$\n",
    "\n",
    "O estimador GMM minimiza a função objetivo $J(\\hat{\\beta})$ em relação a $\\beta$, onde $W$ é uma matriz de pesos simétrica positiva definida.\n",
    "\n",
    "$$ \\hat{\\beta}_{GMM}= argmin_{\\hat{\\beta}} J(\\hat{\\beta}) = n\\hat{g}(\\beta)´W\\hat{g}(\\beta) = [Z´(Y-X\\beta)]´W[Z´(Y-X\\beta)]$$\n",
    "\n",
    "Derivando com relação a $\\beta$, temos:\n",
    "\n",
    "$$ \\beta_{GMM}= (X´ZWZ´X)^{-1}X´ZWZ´Y $$\n",
    "\n",
    "O estimador GMM é consistente para qualquer matriz $W$ simétrica positiva-definida. \n",
    "\n",
    "OBS: O estimador GMM lembra alguns estimadores que vimos anteriormente:\n",
    "\n",
    "$$ \\beta_{2SLS}= (X´Z(Z´Z)^{-1}Z´X)^{-1}X´Z(Z´Z)^{-1}Z´Y $$\n",
    "\n",
    "$$ \\beta_{GLS} = (X´\\Omega^{-1}X)^{-1}X´\\Omega^{-1}Y $$\n",
    "\n",
    "Os $\\hat{\\beta_{GMM}}$ são assintoticamente normais, com matriz de variância-covariância dada por:\n",
    "\n",
    "$$ V(\\hat{\\beta}_{GMM}) = (X´ZWZ´X)^{-1}X´ZW \\hat{S} WZ´X(X´ZWZ´X)^{-1} $$\n",
    "\n",
    "E uma estimativa do tipo robusta de White de S é dada por:\n",
    "\n",
    "$$ \\hat{S}= \\frac{1}{n} \\sum Z_{i}´\\hat{u_{i}}\\hat{u_{i}}´Z_{i} $$\n",
    "\n",
    "Temos dois tipos de GMM:\n",
    "* One-step GMM\n",
    "* Two-step GMM\n",
    "\n",
    "**One-step GMM**\n",
    "\n",
    "$$ \\hat{\\beta}_{GMM}= (X´ZWZ´X)^{-1}X´ZWZ´Y $$\n",
    "\n",
    "Assume-se que a matriz de pesos W é conhecida, e dada por $W = (Z´Z)^{-1}$, então o estimador torna-se o 2SLS:\n",
    "\n",
    "$$ \\hat{\\beta}_{1SGMM} = \\hat{\\beta}_{2SLS} = (X´Z(Z´Z)^{-1}Z´X)^{-1}X´Z(Z´Z)^{-1}Z´Y $$\n",
    "\n",
    "**Two-step GMM**\n",
    "\n",
    "É o estimador GMM mais eficiente (com variância mínima), onde assume-se que $W=(\\hat{S})^{-1}$, onde $\\hat{S}$ é uma estimativa robusta de S. Então, o estimador GMM torna-se:\n",
    "\n",
    "$$ \\hat{\\beta}_{2SGMM} = (X´Z\\hat{S}Z´X)^{-1}X´Z\\hat{S}Z´Y $$\n",
    "\n",
    "$$ \\hat{\\beta}_{2SGMM} = (X´Z(Z´\\Omega Z)Z´X)^{-1}X´Z(Z´\\Omega Z)Z´Y $$\n",
    "\n",
    "$$ \\hat{\\beta}_{2SGMM} = (X´Z(Z´uu´ Z)Z´X)^{-1}X´Z(Z´uu´ Z)Z´Y $$\n",
    "\n",
    "É chamado de Two-step GMM porque no primeiro estágio obtem-se os resíduos por 2SLS e compor $\\hat{S}$, e no segundo estágio utiliza-se $\\hat{S}$ para obter o estimador GMM. Também é conhecido como **Feasible Efficient GMM estimator**."
   ]
  },
  {
   "cell_type": "code",
   "execution_count": 142,
   "id": "43f35679",
   "metadata": {},
   "outputs": [
    {
     "name": "stdout",
     "output_type": "stream",
     "text": [
      "                          IV-GMM Estimation Summary                           \n",
      "==============================================================================\n",
      "Dep. Variable:                     lw   R-squared:                      0.2564\n",
      "Estimator:                     IV-GMM   Adj. R-squared:                 0.2534\n",
      "No. Observations:                 758   F-statistic:                    195.36\n",
      "Date:                Thu, Aug 24 2023   P-value (F-stat)                0.0000\n",
      "Time:                        14:54:40   Distribution:                  chi2(3)\n",
      "Cov. Estimator:                robust                                         \n",
      "                                                                              \n",
      "                             Parameter Estimates                              \n",
      "==============================================================================\n",
      "            Parameter  Std. Err.     T-stat    P-value    Lower CI    Upper CI\n",
      "------------------------------------------------------------------------------\n",
      "const          3.6129     0.1534     23.553     0.0000      3.3122      3.9135\n",
      "expr           0.0250     0.0159     1.5786     0.1144     -0.0061      0.0562\n",
      "expr2          0.0044     0.0019     2.2903     0.0220      0.0006      0.0082\n",
      "s              0.1490     0.0111     13.462     0.0000      0.1273      0.1707\n",
      "==============================================================================\n",
      "\n",
      "Endogenous: s\n",
      "Instruments: med, iq, kww\n",
      "GMM Covariance\n",
      "Debiased: False\n",
      "Robust (Heteroskedastic)\n"
     ]
    }
   ],
   "source": [
    "# GMM\n",
    "mlr6 = lm.IVGMM(dependent=mdata[\"lw\"], exog=mdata[[\"const\", \"expr\", \"expr2\"]], endog=mdata[\"s\"], instruments=mdata[[\"med\", \"iq\", \"kww\"]], weights=None).fit(cov_type=\"robust\")\n",
    "print(mlr6.summary)"
   ]
  },
  {
   "cell_type": "markdown",
   "id": "66fa8e0d",
   "metadata": {},
   "source": [
    "**Por que utilizamos GMM?**\n",
    "\n",
    "* Se $X = Z$, então o estimador converge para o OLS (GMM -> OLS)\n",
    "* Se o modelo é exatamente identificado, o GMM converve para o IV (GMM -> IV)\n",
    "* Para modelos sobreidentificados, o GMM é assintoticamente eficiente, mas se os erros forem homocedásticos, o GMM -> 2SLS.\n",
    "* Se há heterocedasticidade, o GMM é mais eficiente que o 2SLS!\n",
    "* Em séries de tempo, com correlação serial no termo de erro, usar GMM é mais eficiente que 2SLS.\n",
    "* Veremos que os benefícios do GMM serão mais aparentes em modelos dinâmicos de dados em painel.\n"
   ]
  },
  {
   "cell_type": "markdown",
   "id": "c88a4cfd",
   "metadata": {},
   "source": [
    "## Viés de simultaneidade\n",
    "\n",
    "### Modelo de Equações Simultâneas\n",
    "\n",
    "A endogeneidade devido à simultaneidade surge quando uma ou mais das variáveis explicativas são determinadas conjuntamente com a variável dependente, em geral por meio de um mecanismo de equilíbrio. \n",
    "\n",
    "Uma variável explicativa que é determinada simultaneamente com a variável dependente geralmente é correlacionada com o termo de erro ($cov(y_{2}, u_{1}) \\neq 0 $), implicando em endogeneidade (apresenta viés e inconsistência dos coeficientes estimados por MQO).\n",
    "\n",
    "Para entender o problema de endogeneidade que decorre do da simultaneidade entre variáveis vamos analisar o modelo estrutural de duas equações:\n",
    "\n",
    "$$ y_{1} = \\alpha_{1}y_{2} + \\beta_{1}z_{1} + u_{1} $$\n",
    "\n",
    "$$ y_{2} = \\alpha_{2}y_{1} + \\beta_{2}z_{2} + u_{2} $$\n",
    "\n",
    "\n",
    "Vamos substituir uma equação na outra. Substituindo (1) em (2):\n",
    "\n",
    "$$ y_{2} = \\alpha_{2}(\\alpha_{1}y_{2} + \\beta_{1}z_{1} + u_{1}) + \\beta_{2}z_{2} + u_{2} $$\n",
    "\n",
    "Isolando y2\n",
    "\n",
    "$$ (1-\\alpha_{2}\\alpha_{1})y_{2} = \\alpha_{2}\\beta_{1}z_{1} + \\beta_{2}z_{2} + \\alpha_{2}u_{1} + u_{2} $$\n",
    "\n",
    "\n",
    "Supondo $\\alpha_{2}\\alpha_{1} \\neq 1$, dividindo tudo por $(1-\\alpha_{2}\\alpha_{1})$.\n",
    "\n",
    "$$ y_{2} = \\frac{\\alpha_{2}\\beta_{1}}{(1-\\alpha_{2}\\alpha_{1})}z_{1} + \\frac{\\beta_{2}}{(1-\\alpha_{2}\\alpha_{1})}z_{2} + \\frac{\\alpha_{2}}{(1-\\alpha_{2}\\alpha_{1})}u_{1} + \\frac{1}{(1-\\alpha_{2}\\alpha_{1})}u_{2} $$\n",
    "\n",
    "$$ y_{2} = \\gamma_{21}z_{1} +  \\gamma_{22}z_{2} + v_{2} $$\n",
    "\n",
    "A equação expressa y2 em termos das variáveis exógenas e do termo de erro (**equação na forma reduzida de y2**). \n",
    "\n",
    "Os parâmetros $\\gamma_{21}$ e $\\gamma_{21}$ são os parâmetros da forma reduzida. Eles são funções não lineares dos parâmetros estruturais. Assim como o termo de erro na forma reduzida é uma função linear dos termos de erro estruturais.\n",
    "\n",
    "$$ \\gamma_{21} = \\frac{\\alpha_{2}\\beta_{1}}{(1-\\alpha_{2}\\alpha_{1})} $$\n",
    "\n",
    "$$ \\gamma_{22} = \\frac{\\beta_{2}}{(1-\\alpha_{2}\\alpha_{1})} $$\n",
    "\n",
    "$$ v_{2} = \\frac{\\alpha_{2}}{(1-\\alpha_{2}\\alpha_{1})}u_{1} + \\frac{1}{(1-\\alpha_{2}\\alpha_{1})}u_{2} $$\n",
    "\n",
    "\n",
    "$v_{2}$ não é correlacionado com com $z_{1}$ e $z_{2}$, então pode-se estimar consistentemente os parâmetros da forma reduzida por MQO.\n",
    "\n",
    "\n",
    "A forma reduzida de $y1$ segue a mesma lógica de $y2$. Ou seja, A equação expressa y1 em termos das variáveis exógenas e do termo de erro (equação na forma reduzida de $y1$). \n",
    "\n",
    "$$ y_{1} = \\gamma_{11}z_{1} +  \\gamma_{12}z_{2} + v_{1} $$\n",
    "\n",
    "Os parâmetros $\\gamma_{11}$ e $\\gamma_{12}$ são os parâmetros da forma reduzida. Eles são funções não lineares dos parâmetros estruturais. Assim como o termo de erro na forma reduzida é uma função linear dos termos de erro estruturais.\n",
    "\n",
    "$$ \\gamma_{11} = \\frac{\\alpha_{1}\\beta_{2}}{(1-\\alpha_{1}\\alpha_{2})} $$\n",
    "\n",
    "$$ \\gamma_{12} = \\frac{\\beta_{1}}{(1-\\alpha_{1}\\alpha_{2})} $$\n",
    "\n",
    "$$ v_{1} = \\frac{\\alpha_{1}}{(1-\\alpha_{1}\\alpha_{2})}u_{2} + \\frac{1}{(1-\\alpha_{1}\\alpha_{2})}u_{1} $$\n",
    "\n",
    "$v_{1}$ não é correlacionado com com $z_{1}$ e $z_{2}$, então pode-se estimar consistentemente os parâmetros da forma reduzida por MQO.\n",
    "\n",
    "Então, para identificarmos os coeficientes em modelos de equações simultâneas precisamos da **condição de ordem**.\n",
    "\n",
    "A **condição de ordem** estabelece que **pelo menos uma variável exógena seja excluída da equação a ser estimada**.\n",
    "\n",
    "O sistema de equações simultâneas satisfaz a condição de ordem para identificação se o número de variáveis exógenas excluídas da equação for pelo menos tão grande quanto o número de variáveis endógenas existentes no lado direito da equação.\n",
    "\n",
    "\n",
    "### Identificação Parcial - IV/2SLS\n",
    "\n",
    "Então, para identificarmos os coeficientes em modelos de equações simultâneas precisamos da condição de ordem.  A condição de ordem estabelece que pelo menos uma variável exógena seja excluída da equação a ser estimada. O sistema de equações simultâneas satisfaz a condição de ordem para identificação se o número de variáveis exógenas excluídas da equação for pelo menos tão grande quanto o número de variáveis endógenas existentes no lado direito da equação.\n",
    "\n",
    "\n",
    "Suponha um sistema de duas equações em equilíbrio (𝑞_𝑑=𝑞_𝑜=𝑞), com uma função de oferta dada por:\n",
    "\n",
    "$$ q_{o} = \\alpha_{1}p + \\beta_{1}z_{1} + u_{1} $$\n",
    "\n",
    "Uma função de demanda dada por:\n",
    "\n",
    "$$ q_{d} = \\alpha_{2}p + u_{2} $$\n",
    "\n",
    "e a condição de equilíbrio (\"Market Clearing Condition\"):\n",
    "\n",
    "$$ q_{d} = q_{o} $$\n",
    "\n",
    "Onde $q$ é o consumo per capita de leite em nível municipal, $p$ é o preço médio por litro de leite no município, e $z1$ é o preço da alimentação do gado, que consideramos ser exógeno nas equações de oferta e demanda de leite.\n",
    "\n",
    "Na equação (1) o preço da alimentação do gado deslocará a oferta, mas não a demanda.\n",
    "\n",
    "**Considerando uma amostra aleatória, qual equação será estimada? Ou seja, qual delas é uma equação identificada? Qual coeficiente será identificado?**"
   ]
  },
  {
   "cell_type": "code",
   "execution_count": 32,
   "id": "d84faee6",
   "metadata": {},
   "outputs": [
    {
     "data": {
      "image/png": "[encoded data removed]",
      "text/plain": [
       "<Figure size 800x600 with 1 Axes>"
      ]
     },
     "metadata": {},
     "output_type": "display_data"
    }
   ],
   "source": [
    "import matplotlib.pyplot as plt\n",
    "import numpy as np\n",
    "\n",
    "# Definindo as quantidades\n",
    "quantidade = np.linspace(0, 10, 100)\n",
    "\n",
    "# Definindo as funções de oferta\n",
    "oferta1 = 2 + 0.7 * quantidade\n",
    "oferta2 = 3 + 0.7 * quantidade\n",
    "oferta3 = 4 + 0.7 * quantidade\n",
    "\n",
    "# Definindo a função de demanda\n",
    "demanda = 10 - quantidade\n",
    "\n",
    "# Criando o gráfico\n",
    "plt.figure(figsize=(8, 6))\n",
    "plt.plot(quantidade, oferta1, label='oferta 1', color='brown', linestyle=':')\n",
    "plt.plot(quantidade, oferta2, label='oferta 2', color='darkred', linestyle='--')\n",
    "plt.plot(quantidade, oferta3, label='oferta 3', color='red', linestyle='-')\n",
    "plt.plot(quantidade, demanda, label='demanda', color='blue')\n",
    "\n",
    "# Adicionando o título e os eixos\n",
    "plt.xlabel('quantidade')\n",
    "plt.ylabel('Preço')\n",
    "plt.title('Gráfico de Oferta e Demanda')\n",
    "plt.grid(True)\n",
    "plt.legend(loc='upper right')\n",
    "plt.show()\n"
   ]
  },
  {
   "cell_type": "markdown",
   "id": "a00b8d3b",
   "metadata": {},
   "source": [
    "\n",
    "É possível identificar a equação de demanda, mas a equação de oferta não.\n",
    "\n",
    "Isto ocorre porque podemos utilizar a variável z1 (preço da alimentação do gado) como instrumento do preço na equação (2). Porem, não temos um instrumento para o preço na equação (1).\n",
    "\n"
   ]
  },
  {
   "cell_type": "code",
   "execution_count": 23,
   "id": "6045d04c",
   "metadata": {},
   "outputs": [],
   "source": [
    "# DataFrame\n",
    "df = pd.read_stata(\"https://github.com/Daniel-Uhr/data/raw/main/supdem.dta\")\n",
    "df['const'] = 1"
   ]
  },
  {
   "cell_type": "code",
   "execution_count": 47,
   "id": "68898f07",
   "metadata": {},
   "outputs": [
    {
     "name": "stdout",
     "output_type": "stream",
     "text": [
      "                          IV-2SLS Estimation Summary                          \n",
      "==============================================================================\n",
      "Dep. Variable:               quantity   R-squared:                      0.5928\n",
      "Estimator:                    IV-2SLS   Adj. R-squared:                 0.5751\n",
      "No. Observations:                  49   F-statistic:                    29.345\n",
      "Date:                Thu, Jun 27 2024   P-value (F-stat)                0.0000\n",
      "Time:                        17:32:07   Distribution:                  chi2(2)\n",
      "Cov. Estimator:                robust                                         \n",
      "                                                                              \n",
      "                             Parameter Estimates                              \n",
      "==============================================================================\n",
      "            Parameter  Std. Err.     T-stat    P-value    Lower CI    Upper CI\n",
      "------------------------------------------------------------------------------\n",
      "const         -2.5507     5.2647    -0.4845     0.6280     -12.869      7.7679\n",
      "praw          -0.7835     0.1506    -5.2020     0.0000     -1.0788     -0.4883\n",
      "price          0.5773     0.1788     3.2296     0.0012      0.2270      0.9277\n",
      "==============================================================================\n",
      "\n",
      "Endogenous: price\n",
      "Instruments: pcompete, income\n",
      "Robust Covariance (Heteroskedastic)\n",
      "Debiased: False\n"
     ]
    }
   ],
   "source": [
    "# Estimar Oferta por 2SLS\n",
    "simul1 = lm.IV2SLS(dependent=df[\"quantity\"], exog=df[[\"const\", \"praw\"]], endog=df[\"price\"], instruments=df[[\"pcompete\", \"income\"]], weights=None).fit(cov_type=\"robust\")\n",
    "print(simul1.summary)"
   ]
  },
  {
   "cell_type": "code",
   "execution_count": 46,
   "id": "0047ca75",
   "metadata": {},
   "outputs": [
    {
     "name": "stdout",
     "output_type": "stream",
     "text": [
      "    First Stage Estimation Results   \n",
      "=====================================\n",
      "                                price\n",
      "-------------------------------------\n",
      "R-squared                      0.5940\n",
      "Partial R-squared              0.3825\n",
      "Shea's R-squared               0.3825\n",
      "Partial F-statistic            30.019\n",
      "P-value (Partial F-stat)     3.03e-07\n",
      "Partial F-stat Distn          chi2(2)\n",
      "========================== ==========\n",
      "const                          26.748\n",
      "                             (27.248)\n",
      "praw                           0.4922\n",
      "                             (5.7220)\n",
      "pcompete                       0.1783\n",
      "                             (2.2353)\n",
      "income                         0.3291\n",
      "                             (5.4463)\n",
      "-------------------------------------\n",
      "\n",
      "T-stats reported in parentheses\n",
      "T-stats use same covariance type as original model\n"
     ]
    }
   ],
   "source": [
    "print(simul1.first_stage)"
   ]
  },
  {
   "cell_type": "code",
   "execution_count": 34,
   "id": "7bc8ad69",
   "metadata": {},
   "outputs": [
    {
     "name": "stdout",
     "output_type": "stream",
     "text": [
      "Sargan's test of overidentification\n",
      "H0: The model is not overidentified.\n",
      "Statistic: 0.5343\n",
      "P-value: 0.4648\n",
      "Distributed: chi2(1)\n"
     ]
    }
   ],
   "source": [
    "print(simul1.sargan)"
   ]
  },
  {
   "cell_type": "code",
   "execution_count": 25,
   "id": "b5752e5c",
   "metadata": {},
   "outputs": [
    {
     "name": "stdout",
     "output_type": "stream",
     "text": [
      "                          IV-2SLS Estimation Summary                          \n",
      "==============================================================================\n",
      "Dep. Variable:               quantity   R-squared:                     -0.8477\n",
      "Estimator:                    IV-2SLS   Adj. R-squared:                -0.9709\n",
      "No. Observations:                  49   F-statistic:                    7.5722\n",
      "Date:                Thu, Jun 27 2024   P-value (F-stat)                0.0557\n",
      "Time:                        16:36:44   Distribution:                  chi2(3)\n",
      "Cov. Estimator:                robust                                         \n",
      "                                                                              \n",
      "                             Parameter Estimates                              \n",
      "==============================================================================\n",
      "            Parameter  Std. Err.     T-stat    P-value    Lower CI    Upper CI\n",
      "------------------------------------------------------------------------------\n",
      "const          39.900     11.582     3.4451     0.0006      17.200      62.599\n",
      "pcompete       0.3320     0.1887     1.7591     0.0786     -0.0379      0.7018\n",
      "income         0.5091     0.2002     2.5423     0.0110      0.1166      0.9015\n",
      "price         -1.0158     0.4013    -2.5312     0.0114     -1.8024     -0.2292\n",
      "==============================================================================\n",
      "\n",
      "Endogenous: price\n",
      "Instruments: praw\n",
      "Robust Covariance (Heteroskedastic)\n",
      "Debiased: False\n"
     ]
    }
   ],
   "source": [
    "# Estimar a Demanda por IV\n",
    "simul2 = lm.IV2SLS(dependent=df[\"quantity\"], exog=df[[\"const\", \"pcompete\", \"income\"]], endog=df[\"price\"], instruments=df[[\"praw\"]]).fit(cov_type=\"robust\")\n",
    "print(simul2.summary)"
   ]
  }
 ],
 "metadata": {
  "kernelspec": {
   "display_name": "Python 3",
   "language": "python",
   "name": "python3"
  },
  "language_info": {
   "codemirror_mode": {
    "name": "ipython",
    "version": 3
   },
   "file_extension": ".py",
   "mimetype": "text/x-python",
   "name": "python",
   "nbconvert_exporter": "python",
   "pygments_lexer": "ipython3",
   "version": "3.11.5"
  }
 },
 "nbformat": 4,
 "nbformat_minor": 5
}
