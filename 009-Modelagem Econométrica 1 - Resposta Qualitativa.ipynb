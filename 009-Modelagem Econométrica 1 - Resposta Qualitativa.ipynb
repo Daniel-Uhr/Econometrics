{
 "cells": [
  {
   "cell_type": "markdown",
   "id": "63af492e",
   "metadata": {},
   "source": [
    "# Modelos de Resposta Qualitativa\n",
    "\n",
    "Prof. Daniel de Abreu Pereira Uhr\n",
    "\n",
    "### Conteúdo\n",
    "\n",
    "* Modelos de Resposta Qualitativa\n",
    "  * Modelo de resposta binária\n",
    "    * Modelo de Probabilidade Linear\n",
    "    * Modelo Logit\n",
    "    * Pseudo-R² (McFadden)\n",
    "    * Modelo Probit\n",
    "    * Qual escolher? Logit ou Probit?\n",
    "  * Modelos de resposta multinomial\n",
    "    * Modelo Multinomial\n",
    "      * Modelo Multinomial probit/logit\n",
    "    * Modelo Ordenado\n",
    "      * Modelo Ordenado probit/logit\n",
    "* Considerações\n",
    "\n"
   ]
  },
  {
   "cell_type": "markdown",
   "id": "2c57bf28",
   "metadata": {},
   "source": [
    "---"
   ]
  },
  {
   "cell_type": "markdown",
   "id": "e7629ecf",
   "metadata": {},
   "source": [
    "## Modelos de Resposta Qualitativa\n",
    "\n",
    "Modelos de Resposta Qualitativa são usados em econometria para modelar situações em que a variável dependente é qualitativa, ou seja, assume valores discretos. Esses modelos são amplamente aplicados em diversas áreas, como estudos de satisfação do cliente, qualidade de produtos, opinião pública, marketing, saúde, etc. Eles são particularmente úteis quando queremos entender como variáveis independentes ($X$) influenciam a **probabilidade de ocorrência** de um determinado evento representado pela variável dependente ($Y$).\n",
    "\n",
    "### Tipos de Resposta Qualitativa\n",
    "\n",
    "1. **Resposta Binária (0 ou 1):** A variável dependente assume dois valores, indicando a presença ou ausência de uma característica. Exemplo: Sucesso (1) ou Falha (0), Sim (1) ou Não (0).\n",
    "2. **Resposta Multinomial:** A variável dependente pode assumir mais de dois valores discretos. Exemplo: A satisfação com um produto pode ser categorizada como Ruim (1), Regular (2), ou Boa (3).\n",
    "\n",
    "### Modelo de Resposta Binária\n",
    "\n",
    "Quando a variável dependente assume apenas dois valores, como $1$ ou $0$, chamamos isso de **variável binária** ou **dummy**. O modelo de regressão com uma variável dependente binária é denominado **Modelo de Regressão de Resposta Binária**.\n",
    "\n",
    "Alguns modelos de resposta binária incluem:\n",
    "\n",
    "- **Modelo de Probabilidade Linear (LPM)**\n",
    "- **Modelo Logit**\n",
    "- **Modelo Probit**\n",
    "\n",
    "Nosso objetivo é modelar a probabilidade de que o evento de interesse ocorra, dada a informação contida nas variáveis explicativas:\n",
    "\n",
    "$$\n",
    "p(X)=P(Y=1 | X)=P(Y=1 | x_1, x_2, \\ldots, x_k)\n",
    "$$\n",
    "\n",
    "onde $Y$ é uma variável aleatória binária, e $X$ é um vetor de variáveis explicativas. Por exemplo, $Y=1$ pode indicar que uma família possui um imóvel, e $0$ indica que não possui, enquanto $X$ inclui fatores como renda familiar, idade dos moradores, estado civil, entre outros.\n",
    "\n",
    "#### Efeitos Parciais\n",
    "\n",
    "Para uma variável contínua, $x_j$, o efeito parcial sobre $p(X)$ é dado por:\n",
    "\n",
    "$$\n",
    "\\frac{\\partial p(X)}{\\partial x_j}\n",
    "$$\n",
    "\n",
    "Este termo mede como uma pequena variação em $x_j$ afeta a probabilidade do evento $Y=1$, mantendo-se todas as outras variáveis constantes. Se $x_j$ for binário, o interesse recai na diferença na probabilidade de $Y=1$ quando $x_j$ muda de 0 para 1, mantendo as outras variáveis constantes:\n",
    "\n",
    "$$\n",
    "p(x_1, x_2, ..., x_{k-1}, 1) - p(x_1, x_2, ..., x_{k-1}, 0)\n",
    "$$\n",
    "\n",
    "### Modelo de Probabilidade Linear (LPM)\n",
    "\n",
    "O **Modelo de Probabilidade Linear** (LPM) é o modelo mais simples para a resposta binária e é dado por:\n",
    "\n",
    "$$\n",
    "P(Y=1|X)=\\beta_{0}+\\beta_{1}x_1+\\beta_{2}x_2+\\ldots+\\beta_{k}x_k\n",
    "$$\n",
    "\n",
    "Aqui, $\\beta_1$ é a mudança na **probabilidade de sucesso** dado um aumento unitário em $x_1$. Se $x_1$ for uma variável binária, $\\beta_1$ representa a diferença na probabilidade de sucesso quando $x_1$ passa de 0 para 1, mantendo os outros $x_j$ fixos.\n",
    "\n",
    "#### Exemplo Prático\n",
    "\n",
    "Considere um modelo simples de regressão onde:\n",
    "\n",
    "- $Y_i$ indica se uma família possui um imóvel ($Y=1$) ou não ($Y=0$).\n",
    "- $X_i$ representa a renda familiar.\n",
    "\n",
    "O modelo é:\n",
    "\n",
    "$$\n",
    "Y_i = \\beta_1 + \\beta_2 X_i + u_i\n",
    "$$\n",
    "\n",
    "Aqui, $Y_i$ segue uma **Distribuição de Bernoulli**, pois pode tomar dois valores (0 ou 1). O erro $u_i$ também segue uma distribuição de Bernoulli. Subtraindo os valores esperados, temos:\n",
    "\n",
    "$$\n",
    "u_i = Y_i - \\beta_1 - \\beta_2 X_i\n",
    "$$\n",
    "\n",
    "A variância de $u_i$ é dada por:\n",
    "\n",
    "$$\n",
    "Var(Y_i | X_i) = p(X)(1 - p(X))\n",
    "$$\n",
    "\n",
    "onde $p(X)$ é a probabilidade de que $Y_i=1$ dado $X_i$. Como $p(X)$ depende de $X_i$, isso implica que $u_i$ é heterocedástico, ou seja, a variância dos erros não é constante.\n",
    "\n",
    "#### Problemas do LPM\n",
    "\n",
    "- **Predições fora do intervalo [0, 1]:** O LPM pode prever probabilidades que são menores que 0 ou maiores que 1, o que é interpretativamente problemático.\n",
    "- **Heterocedasticidade:** Como mencionado, a variância dos erros não é constante, o que viola uma das suposições básicas dos modelos de regressão linear.\n"
   ]
  },
  {
   "cell_type": "markdown",
   "id": "69322a7b-7474-49f7-a3d1-c537a52d969c",
   "metadata": {},
   "source": [
    "**Exemplo: Propriedade de Imóvel**\n",
    "\n",
    "Aqui está um trecho de dados de uma pesquisa imobiliária em Manchester, Reino Unido. A renda familiar é medida em mil libras."
   ]
  },
  {
   "cell_type": "code",
   "execution_count": 2,
   "id": "445a0ab0-9f82-4655-a3b2-ed9ac4bc6372",
   "metadata": {},
   "outputs": [
    {
     "name": "stdout",
     "output_type": "stream",
     "text": [
      "   Annual_Family_Income  Own_House\n",
      "0                    56          1\n",
      "1                    78          1\n",
      "2                    67          0\n",
      "3                    34          1\n",
      "4                    23          0\n"
     ]
    }
   ],
   "source": [
    "import numpy as np\n",
    "import matplotlib.pyplot as plt\n",
    "import pandas as pd\n",
    "import scipy as sp\n",
    "import scipy.stats\n",
    "import statsmodels.api as sm\n",
    "from sklearn.linear_model import LogisticRegression\n",
    "\n",
    "\n",
    "# URL do arquivo no GitHub\n",
    "url = \"https://github.com/Daniel-Uhr/data/raw/main/Basic_Econometrics_practice_data.xlsx\"\n",
    "\n",
    "# Carregar os dados do arquivo excel para um DataFrame e mostrar as primeiras linhas\n",
    "dados = pd.read_excel(url, sheet_name = 'HouseOwn_Quali_Resp')\n",
    "print(dados.head())"
   ]
  },
  {
   "cell_type": "markdown",
   "id": "6cab4839-412a-4411-9277-5958d6913135",
   "metadata": {},
   "source": [
    "Vamos estimar via OLS o modelo de probabilidade linear, ignorando a heterocedasticidade por enquanto."
   ]
  },
  {
   "cell_type": "code",
   "execution_count": 3,
   "id": "01a2c606-1513-421e-b342-0ca9bc1d5014",
   "metadata": {},
   "outputs": [
    {
     "name": "stdout",
     "output_type": "stream",
     "text": [
      "                            OLS Regression Results                            \n",
      "==============================================================================\n",
      "Dep. Variable:              Own_House   R-squared:                       0.583\n",
      "Model:                            OLS   Adj. R-squared:                  0.571\n",
      "Method:                 Least Squares   F-statistic:                     50.32\n",
      "Date:                Mon, 12 Aug 2024   Prob (F-statistic):           2.47e-08\n",
      "Time:                        15:29:20   Log-Likelihood:                -10.752\n",
      "No. Observations:                  38   AIC:                             25.50\n",
      "Df Residuals:                      36   BIC:                             28.78\n",
      "Df Model:                           1                                         \n",
      "Covariance Type:            nonrobust                                         \n",
      "========================================================================================\n",
      "                           coef    std err          t      P>|t|      [0.025      0.975]\n",
      "----------------------------------------------------------------------------------------\n",
      "const                   -0.1981      0.119     -1.671      0.103      -0.439       0.042\n",
      "Annual_Family_Income     0.0162      0.002      7.094      0.000       0.012       0.021\n",
      "==============================================================================\n",
      "Omnibus:                        0.225   Durbin-Watson:                   2.640\n",
      "Prob(Omnibus):                  0.894   Jarque-Bera (JB):                0.112\n",
      "Skew:                          -0.123   Prob(JB):                        0.945\n",
      "Kurtosis:                       2.900   Cond. No.                         115.\n",
      "==============================================================================\n",
      "\n",
      "Notes:\n",
      "[1] Standard Errors assume that the covariance matrix of the errors is correctly specified.\n"
     ]
    }
   ],
   "source": [
    "X = dados['Annual_Family_Income']\n",
    "Y = dados['Own_House']\n",
    "\n",
    "X = sm.add_constant(X) # adding a constant\n",
    "\n",
    "model = sm.OLS(Y, X).fit() \n",
    "\n",
    "print_model = model.summary()\n",
    "print(print_model)"
   ]
  },
  {
   "cell_type": "markdown",
   "id": "ab4a6b03",
   "metadata": {},
   "source": [
    "Vamos interpretar os resultados, o termo constante é $-0,1981$, mas é estatísticamente nula, portanto, ignoramos o termo constante ou simplesmente o tratamos como $0$. O termo de inclinação $0,0162$ indica que, em média, a cada $1.000$ libras de incremento na renda familiar, a probabilidade de possuir uma casa aumentará $1,6\\%$.\n",
    "\n",
    "Vejamos como se dá essa relação graficamente."
   ]
  },
  {
   "cell_type": "code",
   "execution_count": 4,
   "id": "b87da3ff-b9ac-49a2-a65d-680f9244b211",
   "metadata": {},
   "outputs": [
    {
     "data": {
      "image/png": "[encoded data removed]",
      "text/plain": [
       "<Figure size 1200x700 with 1 Axes>"
      ]
     },
     "metadata": {},
     "output_type": "display_data"
    }
   ],
   "source": [
    "fig, ax = plt.subplots(figsize = (12, 7))\n",
    "ax.scatter(dados['Annual_Family_Income'], dados['Own_House'])\n",
    "ax.plot(dados['Annual_Family_Income'], model.fittedvalues, color = 'tomato')\n",
    "ax.grid()\n",
    "ax.set_xlabel('Income')\n",
    "ax.set_ylabel('Owning a flat = 1, Not Owning = 0')\n",
    "plt.show()"
   ]
  },
  {
   "cell_type": "markdown",
   "id": "bd6ec762",
   "metadata": {},
   "source": [
    "No entanto, você pode estar questionando a validade dessa análise, especialmente porque ela assume que a relação entre renda e a probabilidade de possuir um imóvel é linear.\n",
    "\n",
    "Essa é uma preocupação válida, pois o pressuposto de linearidade pode ser inadequado para muitos problemas econômicos. Por exemplo, embora a probabilidade de uma família possuir uma casa possa aumentar com a renda, essa relação provavelmente não é linear. Na prática, a probabilidade pode aumentar rapidamente para famílias de baixa renda, mas esse crescimento tende a desacelerar à medida que a renda aumenta, e eventualmente se estabilizar.\n",
    "\n",
    "Considere o seguinte exemplo: Será que a probabilidade de uma família com uma renda de £10.000 e uma família com uma renda de £100.000 possuírem um imóvel deveria ser tratada da mesma maneira? O modelo de regressão linear simples prevê que a probabilidade de uma família com uma renda de £100.000 por ano possuir um imóvel seria $100 \\times 0,0162 = 1,62$. Esse resultado é claramente problemático, pois uma probabilidade maior que 1 não faz sentido.\n",
    "\n",
    "Por isso, a lógica nos impõe que as probabilidades estimadas pelo modelo devem estar restritas ao intervalo: $0 \\leq E\\left(Y_{i} \\mid X_{i}\\right) \\leq 1$. Caso contrário, o modelo não estaria capturando corretamente a realidade.\n",
    "\n",
    "Além disso, outro problema importante é que o termo de erro neste modelo depende da variável \\(X\\), o que implica que ele é heterocedástico por construção. Isso significa que a variância dos erros não é constante, violando uma das principais suposições do modelo de regressão linear clássico.\n",
    "\n",
    "Para abordar esse problema de heterocedasticidade, podemos recorrer ao modelo de Mínimos Quadrados Ordinários (OLS) com erros-padrão robustos de White. Essa abordagem ajusta os erros-padrão para lidar com a heterocedasticidade, permitindo que façamos inferências mais confiáveis, mesmo quando a variância dos erros não é constante.\n"
   ]
  },
  {
   "cell_type": "code",
   "execution_count": 5,
   "id": "3764ec23",
   "metadata": {},
   "outputs": [
    {
     "name": "stdout",
     "output_type": "stream",
     "text": [
      "                            OLS Regression Results                            \n",
      "==============================================================================\n",
      "Dep. Variable:              Own_House   R-squared:                       0.583\n",
      "Model:                            OLS   Adj. R-squared:                  0.571\n",
      "Method:                 Least Squares   F-statistic:                     72.41\n",
      "Date:                Mon, 12 Aug 2024   Prob (F-statistic):           3.85e-10\n",
      "Time:                        15:29:26   Log-Likelihood:                -10.752\n",
      "No. Observations:                  38   AIC:                             25.50\n",
      "Df Residuals:                      36   BIC:                             28.78\n",
      "Df Model:                           1                                         \n",
      "Covariance Type:                  HC2                                         \n",
      "========================================================================================\n",
      "                           coef    std err          z      P>|z|      [0.025      0.975]\n",
      "----------------------------------------------------------------------------------------\n",
      "const                   -0.1981      0.090     -2.198      0.028      -0.375      -0.021\n",
      "Annual_Family_Income     0.0162      0.002      8.509      0.000       0.012       0.020\n",
      "==============================================================================\n",
      "Omnibus:                        0.225   Durbin-Watson:                   2.640\n",
      "Prob(Omnibus):                  0.894   Jarque-Bera (JB):                0.112\n",
      "Skew:                          -0.123   Prob(JB):                        0.945\n",
      "Kurtosis:                       2.900   Cond. No.                         115.\n",
      "==============================================================================\n",
      "\n",
      "Notes:\n",
      "[1] Standard Errors are heteroscedasticity robust (HC2)\n"
     ]
    }
   ],
   "source": [
    "# Ajuste o modelo aos dados com erros robustos\n",
    "results2 = sm.OLS(Y, X).fit(cov_type='HC2') \n",
    "\n",
    "# Imprima os resultados da regressão com erros robustos\n",
    "print(results2.summary())"
   ]
  },
  {
   "cell_type": "markdown",
   "id": "c99ab02b",
   "metadata": {},
   "source": [
    "Ao considerar os erros heterocedásticos na análise, observamos que a constante no modelo agora pode ser considerada significativamente diferente de zero com pelo menos 10% de significância. No entanto, em termos gerais, os resultados da análise não mudaram substancialmente. Ainda assim, o modelo apresenta problemas interpretativos. Por exemplo, agora ele prevê que uma família sem renda teria uma probabilidade negativa de possuir um imóvel, o que é claramente inadequado.\n",
    "\n",
    "Se olharmos para a previsão do modelo, ele sugere que a probabilidade de uma família com uma renda de £10.000 por ano possuir uma casa é $-0,1981 + 10 \\times 0,0162 = -0,0361$. Uma probabilidade negativa não faz sentido, pois, por definição, probabilidades devem estar no intervalo de 0 a 1.\n",
    "\n",
    "**Em resumo:**\n",
    "\n",
    "- A suposição de distribuição Normal para os erros não se sustenta no caso do Modelo de Probabilidade Linear (LPM). Assim como $Y_{i}$, o termo de erro $u_i$ também assume dois valores devido à distribuição Bernoulli $[p, p.(1-p)]$. Como a variância dos erros é uma função da média, isso resulta em heterocedasticidade.\n",
    "- A regressão OLS de $X_i$ em $Y_i$ ignora a natureza discreta da variável dependente e não impõe restrições adequadas às probabilidades previstas, permitindo que estas ultrapassem os limites [0, 1].\n",
    "\n",
    "Dado esses problemas, precisamos de um modelo probabilístico que atenda a dois requisitos fundamentais:\n",
    "\n",
    "1. Quando $X_i$ aumenta, a probabilidade prevista $P_i = E(Y=1|X)$ também aumenta, mas sempre permanece dentro do intervalo [0, 1].\n",
    "2. A relação entre $P_i$ e $X_i$ deve ser **não linear**; por exemplo, a probabilidade $P_i$ deve se aproximar de zero a taxas cada vez menores à medida que $X_i$ diminui, e se aproximar de 1 a taxas cada vez menores à medida que $X_i$ aumenta significativamente.\n"
   ]
  },
  {
   "cell_type": "markdown",
   "id": "876f9b88",
   "metadata": {},
   "source": [
    "### Modelo Logit\n",
    "\n",
    "Suponha que a variável de resultado $ y $ possa assumir um dos dois valores:\n",
    "\n",
    "$$\n",
    "\\begin{array}{lc} \n",
    "y = 1 & \\text{com probabilidade } p \\\\\n",
    "y = 0 & \\text{com probabilidade } 1-p \n",
    "\\end{array}\n",
    "$$\n",
    "\n",
    "Nosso objetivo é modelar a probabilidade $ p $ como uma função dos regressores $ x $. Inicialmente, a função de distribuição de probabilidade para a variável $ y $ é dada por:\n",
    "\n",
    "$$\n",
    "p^{y}(1-p)^{1-y}\n",
    "$$\n",
    "\n",
    "Essa expressão captura a probabilidade de observarmos o valor específico de $ y $, dado $ p $.\n",
    "\n",
    "A esperança (média) da variável $ y $ é:\n",
    "\n",
    "$$\n",
    "E(y) = p\n",
    "$$\n",
    "\n",
    "E sua variância é:\n",
    "\n",
    "$$\n",
    "Var(y) = p(1-p)\n",
    "$$\n",
    "\n",
    "No contexto do modelo Logit, a probabilidade $ p $ é parametrizada por uma função índice $ x'\\beta $, onde $ x $ é um vetor de variáveis explicativas (com dimensão $ k \\times 1 $), e $ \\beta $ é um vetor de parâmetros desconhecidos que queremos estimar.\n",
    "\n",
    "O modelo Logit expressa a probabilidade condicional de $ y = 1 $ como uma função de distribuição acumulada (FDA) aplicada à função índice $ x'\\beta $:\n",
    "\n",
    "$$\n",
    "p(x) = P(y=1|x) = F(x'\\beta)\n",
    "$$\n",
    "\n",
    "Aqui, $ F(.) $ é uma função paramétrica específica de $ x'\\beta $. Para garantir que as probabilidades $ p(x) $ estejam sempre entre 0 e 1, $ F(.) $ é escolhida como uma função de distribuição acumulada (FDA) de uma distribuição de probabilidade contínua no intervalo $ (-\\infty, \\infty) $.\n",
    "\n",
    "Quando \\( F(.) \\) é a função de distribuição acumulada da distribuição logística $ \\Lambda $, o modelo é conhecido como **Logit**. A FDA da distribuição logística é definida por:\n",
    "\n",
    "$$\n",
    "\\Lambda (x'\\beta) = \\frac{e^{x'\\beta}}{1 + e^{x'\\beta}} = \\frac{1}{1 + e^{-x'\\beta}}\n",
    "$$\n",
    "\n",
    "Essa função tem a propriedade de mapear qualquer valor real de $ x'\\beta $ para o intervalo $ (0, 1) $, o que faz dela uma escolha ideal para modelar probabilidades.\n",
    "\n",
    "#### Efeito Marginal no Modelo Logit\n",
    "\n",
    "O efeito marginal de uma variável explicativa $ x_j $ sobre a probabilidade $ p(x) $ é dado por:\n",
    "\n",
    "$$\n",
    "\\frac{\\partial p(x)}{\\partial x_j} = \\Lambda (x'\\beta) [1 - \\Lambda(x'\\beta)] \\cdot \\beta_j\n",
    "$$\n",
    "\n",
    "Esse efeito marginal captura como uma pequena variação em $ x_j $ influencia a probabilidade de $ y = 1 $, levando em consideração a função logística.\n",
    "\n",
    "O termo $ \\Lambda (x'\\beta) [1 - \\Lambda(x'\\beta)] $ é conhecido como a função de densidade da distribuição logística e é responsável por tornar a relação entre $ x_j $ e $ p(x) $ não linear.\n",
    "\n"
   ]
  },
  {
   "cell_type": "markdown",
   "id": "8197bde6",
   "metadata": {},
   "source": [
    "\n",
    "#### Exemplo da Distribuição Logística\n",
    "\n",
    "Vamos ilustrar o comportamento da função logística com um exemplo simples. Considere um modelo com uma constante (coeficiente $\\beta_1$) e uma variável explicativa $X_i$ (com coeficiente $\\beta_2$). Vamos assumir que \\$beta_1 = 2 $ e $\\beta_2 = 3$. Vamos visualizar graficamente a função logística para valores de $X_i$ no intervalo de $-3$ a $2$.\n",
    "\n",
    "A função logística é dada por:\n",
    "\n",
    "$$\n",
    "p(x) = \\frac{1}{1+e^{-(\\beta_1+\\beta_2X_i)}}\n",
    "$$\n",
    "\n",
    "Este modelo garante que a probabilidade $p(x)$ esteja sempre entre 0 e 1, resolvendo assim os problemas de intervalo probabilístico que observamos no Modelo de Probabilidade Linear (LPM).\n",
    "\n",
    "A seguir, geramos a visualização gráfica dessa função:\n"
   ]
  },
  {
   "cell_type": "code",
   "execution_count": 6,
   "id": "f85181f4",
   "metadata": {},
   "outputs": [
    {
     "data": {
      "image/png": "[encoded data removed]",
      "text/plain": [
       "<Figure size 1200x700 with 1 Axes>"
      ]
     },
     "metadata": {},
     "output_type": "display_data"
    }
   ],
   "source": [
    "import numpy as np\n",
    "import matplotlib.pyplot as plt\n",
    "\n",
    "beta1, beta2 = 2, 3\n",
    "X = np.linspace(-3, 2, 100)\n",
    "P = 1 / (1 + np.exp(-(beta1 + beta2 * X)))\n",
    "\n",
    "fig, ax = plt.subplots(figsize=(12, 7))\n",
    "ax.plot(X, P)\n",
    "ax.set_title(r'Função Logística: $P(x) = \\frac{1}{1+e^{-(\\beta_1+\\beta_2X_i)}}$', fontsize=16)\n",
    "ax.set_xlabel('X', fontsize=14)\n",
    "ax.set_ylabel('P(X)', fontsize=14)\n",
    "ax.grid(True)\n",
    "plt.show()"
   ]
  },
  {
   "cell_type": "markdown",
   "id": "c9f9f08d",
   "metadata": {},
   "source": [
    "Esse gráfico mostra como a probabilidade $ p(x) $ se comporta conforme $ X_i $ varia. Note que a função logística gera uma curva em forma de \"S\", que se aproxima de 0 conforme $ X_i $ diminui, e de 1 conforme $ X_i $ aumenta, mas nunca ultrapassa esses limites.\n"
   ]
  },
  {
   "cell_type": "markdown",
   "id": "97d38a9e",
   "metadata": {},
   "source": [
    "### Linearização do Modelo Logit\n",
    "\n",
    "Uma característica interessante do modelo Logit é que ele pode ser \"linearizado\", o que facilita a interpretação dos coeficientes.\n",
    "\n",
    "Primeiro, definimos $ Z_i $ como a função índice:\n",
    "\n",
    "$$\n",
    "Z_i = \\beta_1 + \\beta_2X_i\n",
    "$$\n",
    "\n",
    "A função logística pode então ser expressa como:\n",
    "\n",
    "$$\n",
    "p(x) = \\frac{1}{1+e^{-Z_{i}}} = \\frac{e^{Z_i}}{1 + e^{Z_i}}\n",
    "$$\n",
    "\n",
    "A probabilidade de $ Y = 0 $ é:\n",
    "\n",
    "$$\n",
    "1 - p(x) = \\frac{1}{1 + e^{Z_i}}\n",
    "$$\n",
    "\n",
    "Ao combinar essas expressões, obtemos a **razão de chances (odds ratio)**:\n",
    "\n",
    "$$\n",
    "\\frac{p(x)}{1-p(x)} = \\frac{e^{Z_i}}{1 + e^{Z_i}} \\times \\frac{1 + e^{Z_i}}{1} = e^{Z_i}\n",
    "$$\n",
    "\n",
    "Agora, ao aplicar o logaritmo natural na odds ratio, obtemos uma expressão linear que é conhecida como **logit**:\n",
    "\n",
    "$$\n",
    "\\underbrace{\\ln{\\bigg(\\frac{p(x)}{1-p(x)}\\bigg)}}_{\\text{logit}} = Z_i = \\beta_1 + \\beta_2X_i\n",
    "$$\n",
    "\n",
    "Essa transformação mostra que o logaritmo da odds ratio é linear em $ X_i $, o que permite uma interpretação direta dos coeficientes $\\beta_1$ e $\\beta_2$. Em termos práticos:\n",
    "\n",
    "- $\\beta_2$ representa a variação no logaritmo da odds ratio para um aumento unitário em $ X_i $.\n",
    "- O coeficiente \\(\\beta_1\\) é a constante que ajusta o valor base da odds ratio quando $ X_i = 0 $.\n",
    "\n",
    "Essa propriedade torna o modelo Logit extremamente útil e interpretável em aplicações práticas, especialmente quando lidamos com variáveis dependentes binárias.\n"
   ]
  },
  {
   "cell_type": "markdown",
   "id": "01a5d91e-b94a-4a3e-9f58-3eeb15d5ff57",
   "metadata": {},
   "source": [
    "Voltemos ao nosso exemplo anterior. Assumindo o modelo não linear (Logit). Imprima os resultados da estimativa.\n"
   ]
  },
  {
   "cell_type": "code",
   "execution_count": 7,
   "id": "aa14ab17-f25c-498a-b064-f3eb905daaa5",
   "metadata": {},
   "outputs": [
    {
     "name": "stdout",
     "output_type": "stream",
     "text": [
      "Optimization terminated successfully.\n",
      "         Current function value: 0.257124\n",
      "         Iterations 8\n",
      "                           Logit Regression Results                           \n",
      "==============================================================================\n",
      "Dep. Variable:              Own_House   No. Observations:                   38\n",
      "Model:                          Logit   Df Residuals:                       36\n",
      "Method:                           MLE   Df Model:                            1\n",
      "Date:                Mon, 12 Aug 2024   Pseudo R-squ.:                  0.6261\n",
      "Time:                        15:29:41   Log-Likelihood:                -9.7707\n",
      "converged:                       True   LL-Null:                       -26.129\n",
      "Covariance Type:            nonrobust   LLR p-value:                 1.067e-08\n",
      "========================================================================================\n",
      "                           coef    std err          z      P>|z|      [0.025      0.975]\n",
      "----------------------------------------------------------------------------------------\n",
      "const                   -6.7617      2.189     -3.088      0.002     -11.053      -2.471\n",
      "Annual_Family_Income     0.1678      0.053      3.176      0.001       0.064       0.271\n",
      "========================================================================================\n"
     ]
    }
   ],
   "source": [
    "Y = dados[['Own_House']]\n",
    "X = dados[['Annual_Family_Income']]\n",
    "X = sm.add_constant(X)\n",
    "\n",
    "log_reg = sm.Logit(Y, X).fit()\n",
    "print(log_reg.summary())"
   ]
  },
  {
   "cell_type": "markdown",
   "id": "5212ea16-a24d-43d5-95a4-679bfbc291bc",
   "metadata": {},
   "source": [
    "Ou seja, o modelo estimado foi:\n",
    "$$\n",
    "\\hat{P_i} = \\frac{1}{1+e^{6.7617-0.1678 X_i}}\n",
    "$$\n",
    "E a curva ajustada para os resultados encontrados é:"
   ]
  },
  {
   "cell_type": "code",
   "execution_count": 8,
   "id": "43d83892-c8d8-4ebc-a1c2-65b702042b25",
   "metadata": {},
   "outputs": [
    {
     "data": {
      "image/png": "[encoded data removed]",
      "text/plain": [
       "<Figure size 1200x700 with 1 Axes>"
      ]
     },
     "metadata": {},
     "output_type": "display_data"
    }
   ],
   "source": [
    "X = np.linspace(0, 100, 500)\n",
    "P_hat = 1/(1 + np.exp(-log_reg.params[0]-log_reg.params[1]*X))\n",
    "\n",
    "fig, ax = plt.subplots(figsize = (12, 7))\n",
    "ax.scatter(dados['Annual_Family_Income'], dados['Own_House'])\n",
    "ax.plot(X, P_hat, color = 'tomato', lw = 3)\n",
    "ax.grid()\n",
    "ax.set_xlabel('Income')\n",
    "ax.set_ylabel('Owning a flat = 1, Not Owning = 0')\n",
    "plt.show()"
   ]
  },
  {
   "cell_type": "markdown",
   "id": "1b4562a1-d3ec-42f5-b9e5-46005bdefea3",
   "metadata": {},
   "source": [
    "Para interpretar os coeficientes estimados, podemos calcular o efeito marginal tomando a derivada de $\\beta$, neste caso $\\beta_2$.\n",
    "$$\n",
    "\\frac{dP_i}{d X_i} = \\frac{dP_i}{dZ_i}\\frac{dZ_i}{dX_i}=\\frac{e^{-Z_i}}{(1+e^{-Z_i})^2}\\beta_2\n",
    "$$"
   ]
  },
  {
   "cell_type": "markdown",
   "id": "c6a7a81c",
   "metadata": {},
   "source": [
    "**Average Marginal Effect, AME**: o efeito marginal é calculado em cada observação da amostra e, em seguida, a média desses efeitos marginais é reportada."
   ]
  },
  {
   "cell_type": "code",
   "execution_count": 9,
   "id": "fe42a612",
   "metadata": {},
   "outputs": [
    {
     "name": "stdout",
     "output_type": "stream",
     "text": [
      "        Logit Marginal Effects       \n",
      "=====================================\n",
      "Dep. Variable:              Own_House\n",
      "Method:                          dydx\n",
      "At:                           overall\n",
      "========================================================================================\n",
      "                          dy/dx    std err          z      P>|z|      [0.025      0.975]\n",
      "----------------------------------------------------------------------------------------\n",
      "Annual_Family_Income     0.0129      0.001     20.285      0.000       0.012       0.014\n",
      "========================================================================================\n"
     ]
    }
   ],
   "source": [
    "# Calcular os efeitos marginais\n",
    "marginal_effects = log_reg.get_margeff()\n",
    "print(marginal_effects.summary())"
   ]
  },
  {
   "cell_type": "markdown",
   "id": "be711c04",
   "metadata": {},
   "source": [
    "O valor de 0.0129 representa o efeito marginal da renda familiar anual sobre a probabilidade de possuir um imóvel. Em outras palavras, um aumento de uma unidade na renda familiar (por exemplo, um aumento de £1 se a unidade de medida for libras) está associado a um aumento de aproximadamente 1,29% na probabilidade de a família possuir um imóvel, mantendo todas as outras variáveis constantes."
   ]
  },
  {
   "cell_type": "markdown",
   "id": "a8d14908",
   "metadata": {},
   "source": [
    "Vamos plotar os efeitos acumulativos e marginais"
   ]
  },
  {
   "cell_type": "code",
   "execution_count": 15,
   "id": "b3ee1bf7",
   "metadata": {},
   "outputs": [
    {
     "data": {
      "image/png": "[encoded data removed]",
      "text/plain": [
       "<Figure size 1200x700 with 2 Axes>"
      ]
     },
     "metadata": {},
     "output_type": "display_data"
    }
   ],
   "source": [
    "# Coeficientes estimados\n",
    "beta1_hat, beta2_hat = log_reg.params[0], log_reg.params[1]\n",
    "\n",
    "# Geração dos valores para o gráfico\n",
    "X_values = np.linspace(0, 100, 500)\n",
    "Z = beta1_hat + beta2_hat * X_values\n",
    "P_hat = 1 / (1 + np.exp(-Z))  # Probabilidade acumulada\n",
    "dPdX = np.exp(-Z) / (1 + np.exp(-Z))**2 * beta2_hat  # Efeito marginal\n",
    "\n",
    "# Criação do gráfico\n",
    "fig, ax1 = plt.subplots(figsize=(12, 7))\n",
    "\n",
    "# Gráfico do efeito acumulado\n",
    "ax1.scatter(dados['Annual_Family_Income'], dados['Own_House'], alpha=0.5, label='Dados Observados')\n",
    "ax1.plot(X_values, P_hat, color='tomato', lw=3, label='Efeito Acumulado')\n",
    "ax1.set_xlabel('Renda Familiar Anual')\n",
    "ax1.set_ylabel('Probabilidade de Possuir um Imóvel')\n",
    "ax1.legend(loc='center left')\n",
    "\n",
    "# Gráfico do efeito marginal\n",
    "ax2 = ax1.twinx() \n",
    "ax2.plot(X_values, dPdX, lw=3, color='gold', label='Efeito Marginal')\n",
    "ax2.set_ylabel('Efeito Marginal')\n",
    "ax2.legend(loc='center right')\n",
    "\n",
    "# Título e grade\n",
    "ax2.set_title('Efeito Acumulado e Marginal da Renda Familiar na Posse de Imóvel')\n",
    "ax2.grid(True)\n",
    "\n",
    "plt.show()"
   ]
  },
  {
   "cell_type": "markdown",
   "id": "5d22484f-81f9-4c0b-a2e2-ec5f520dcab6",
   "metadata": {},
   "source": [
    "À medida que a renda familiar aumenta, a probabilidade marginal atingirá o máximo em torno de $ 40.000 $ libras. Para resumir o efeito, calculamos o efeito marginal **no valor médio das variáveis independentes**.\n",
    "\n",
    "**Efeito Marginal no Valor Médio (MEM)**:  é o efeito marginal calculado no ponto onde as variáveis explicativas estão em seus valores médios."
   ]
  },
  {
   "cell_type": "code",
   "execution_count": 16,
   "id": "c8b726e6",
   "metadata": {},
   "outputs": [
    {
     "name": "stdout",
     "output_type": "stream",
     "text": [
      "        Logit Marginal Effects       \n",
      "=====================================\n",
      "Dep. Variable:              Own_House\n",
      "Method:                          dydx\n",
      "At:                              mean\n",
      "========================================================================================\n",
      "                          dy/dx    std err          z      P>|z|      [0.025      0.975]\n",
      "----------------------------------------------------------------------------------------\n",
      "Annual_Family_Income     0.0330      0.010      3.181      0.001       0.013       0.053\n",
      "========================================================================================\n"
     ]
    }
   ],
   "source": [
    "# Calcular o efeito marginal no valor médio\n",
    "marginal_effects_mem = log_reg.get_margeff(at='mean')\n",
    "print(marginal_effects_mem.summary())\n"
   ]
  },
  {
   "cell_type": "markdown",
   "id": "9ee4701f-f876-4246-a110-02280df28a81",
   "metadata": {},
   "source": [
    "No ponto médio das variáveis explicativas (ou seja, considerando a renda familiar média na amostra), um aumento de £1.000 na renda familiar está associado a um aumento de 3,3% na probabilidade de uma família possuir uma casa."
   ]
  },
  {
   "cell_type": "markdown",
   "id": "7cc2180c",
   "metadata": {},
   "source": [
    "#### Pseudo-$R^2$ (McFadden)\n",
    "\n",
    "Como os modelos de regressão logística e outros modelos não lineares são estimados por **Máxima Verossimilhança**, e não pelo método dos mínimos quadrados (como no caso da regressão linear), não faz sentido relatar o $R^2$ tradicional. Em vez disso, usamos uma medida chamada **Pseudo-$R^2$**.\n",
    "\n",
    "**Pseudo-$R^2$** compara a log-verossimilhança do modelo completo ($\\ln{L}$) com a log-verossimilhança de um modelo que inclui apenas o intercepto ($\\ln{L_0}$):\n",
    "\n",
    "$$\n",
    "\\text{Pseudo-}R^2 = 1 - \\frac{\\ln{L}}{\\ln{L_0}}\n",
    "$$\n",
    "\n",
    "Esse valor nos dá uma noção de quão bem o modelo se ajusta aos dados, de maneira análoga ao $R^2$ em modelos lineares.\n",
    "\n",
    "- **$\\ln{L}$** (log-verossimilhança do modelo ajustado) é similar ao **RSS** (Soma dos Quadrados dos Resíduos) no contexto de um modelo de regressão linear.\n",
    "- **$\\ln{L_0}$** (log-verossimilhança do modelo com apenas o intercepto) é análogo ao **TSS** (Soma Total dos Quadrados) na regressão linear.\n",
    "\n",
    "Lembrando a fórmula do $R^2$ tradicional em OLS:\n",
    "\n",
    "$$\n",
    "R^2 = 1 - \\frac{RSS}{TSS}\n",
    "$$\n",
    "\n",
    "No caso da pseudo-$R^2$, estamos essencialmente medindo a melhoria no ajuste do modelo completo em relação ao modelo mais simples possível (com apenas o intercepto). Um pseudo-$R^2$ mais próximo de 1 indica que o modelo se ajusta melhor aos dados, embora a interpretação exata desse valor não seja tão direta quanto no caso do $R^2$ tradicional."
   ]
  },
  {
   "cell_type": "markdown",
   "id": "c1f1b23b-9c3f-437a-b53d-da0b7d97fea6",
   "metadata": {},
   "source": [
    "vejamos o resultado do Pseudo R2 para o exemplo anterior."
   ]
  },
  {
   "cell_type": "code",
   "execution_count": 18,
   "id": "52e728c5",
   "metadata": {},
   "outputs": [
    {
     "name": "stdout",
     "output_type": "stream",
     "text": [
      "Optimization terminated successfully.\n",
      "         Current function value: 0.257124\n",
      "         Iterations 8\n",
      "                           Logit Regression Results                           \n",
      "==============================================================================\n",
      "Dep. Variable:              Own_House   No. Observations:                   38\n",
      "Model:                          Logit   Df Residuals:                       36\n",
      "Method:                           MLE   Df Model:                            1\n",
      "Date:                Mon, 12 Aug 2024   Pseudo R-squ.:                  0.6261\n",
      "Time:                        15:55:04   Log-Likelihood:                -9.7707\n",
      "converged:                       True   LL-Null:                       -26.129\n",
      "Covariance Type:            nonrobust   LLR p-value:                 1.067e-08\n",
      "========================================================================================\n",
      "                           coef    std err          z      P>|z|      [0.025      0.975]\n",
      "----------------------------------------------------------------------------------------\n",
      "const                   -6.7617      2.189     -3.088      0.002     -11.053      -2.471\n",
      "Annual_Family_Income     0.1678      0.053      3.176      0.001       0.064       0.271\n",
      "========================================================================================\n"
     ]
    }
   ],
   "source": [
    "Y = dados[['Own_House']]\n",
    "X = dados[['Annual_Family_Income']]\n",
    "X = sm.add_constant(X)\n",
    "\n",
    "log_reg = sm.Logit(Y, X).fit()\n",
    "print(log_reg.summary())"
   ]
  },
  {
   "cell_type": "markdown",
   "id": "cac8edab",
   "metadata": {},
   "source": [
    "O equivalente ao **teste F** da regressão linear é o **teste da razão de verossimilhança (Likelihood Ratio Test - LR)**. O valor do teste da razão de verossimilhança pode ser calculado diretamente a partir dos valores da log-verossimilhança do modelo ajustado (com as variáveis explicativas) e do modelo nulo (com apenas o intercepto).\n",
    "\n",
    "### Passos para Calcular o Teste da Razão de Verossimilhança (LR):\n",
    "\n",
    "1. **Obtenha as log-verossimilhanças:**\n",
    "   - **$\\ln{L_0}$**: Log-verossimilhança do modelo nulo (modelo com apenas o intercepto). No seu resultado, isso é fornecido como `LL-Null`.\n",
    "   - **$\\ln{L}$**: Log-verossimilhança do modelo ajustado (com as variáveis explicativas). No seu resultado, isso é fornecido como `Log-Likelihood`.\n",
    "\n",
    "2. **Calcule a estatística do teste da razão de verossimilhança (LR):**\n",
    "   - A estatística LR é dada por:\n",
    "     $$\n",
    "     \\text{LR} = 2 \\times (\\ln{L} - \\ln{L_0})\n",
    "     $$\n",
    "   - Você pode simplesmente subtrair a log-verossimilhança do modelo nulo da log-verossimilhança do modelo ajustado e multiplicar por 2.\n",
    "\n",
    "3. **Compare com a distribuição qui-quadrado ($\\chi^2$):**\n",
    "   - A estatística LR segue uma distribuição qui-quadrado ($\\chi^2$) com graus de liberdade igual ao número de variáveis explicativas no modelo (neste caso, 1, porque você tem uma variável explicativa: `Annual_Family_Income`).\n",
    "\n",
    "### Cálculo com os Resultados Fornecidos:\n",
    "\n",
    "- **$\\ln{L_0}$** (LL-Null): -26.129\n",
    "- **$\\ln{L}$** (Log-Likelihood): -9.7707\n",
    "\n",
    "Agora, calcule a estatística LR:\n",
    "\n",
    "$$\n",
    "\\text{LR} = 2 \\times (-9.7707 - (-26.129)) = 2 \\times (16.3583) = 32.7166\n",
    "$$\n",
    "\n",
    "### Interpretação:\n",
    "\n",
    "1. **Graus de Liberdade:** O número de graus de liberdade é 1, porque você tem uma variável explicativa (`Annual_Family_Income`).\n",
    "\n",
    "2. **Valor p:** Para determinar o valor p, você pode comparar a estatística LR com uma distribuição qui-quadrado com 1 grau de liberdade. Isso pode ser feito em Python usando a biblioteca `scipy`:"
   ]
  },
  {
   "cell_type": "code",
   "execution_count": 20,
   "id": "2dae4b93",
   "metadata": {},
   "outputs": [
    {
     "name": "stdout",
     "output_type": "stream",
     "text": [
      "Valor p do teste da razão de verossimilhança: 1.0662274421765145e-08\n"
     ]
    }
   ],
   "source": [
    "import scipy.stats as stats\n",
    "\n",
    "# Calcule o valor p\n",
    "p_value = stats.chi2.sf(32.7166, 1)\n",
    "print(f\"Valor p do teste da razão de verossimilhança: {p_value}\")\n"
   ]
  },
  {
   "cell_type": "markdown",
   "id": "54014ecc",
   "metadata": {},
   "source": [
    "Dado o valor p de 1.066e-08, podemos rejeitar a hipótese nula com alto nível de confiança. Isso sugere que a variável Annual_Family_Income tem um efeito estatisticamente significativo na probabilidade de possuir uma casa. O modelo com essa variável explicativa oferece um ajuste significativamente melhor aos dados do que o modelo nulo."
   ]
  },
  {
   "cell_type": "markdown",
   "id": "e5015b7b",
   "metadata": {},
   "source": [
    "#### Modelo Probit\n",
    "\n",
    "O **modelo Probit** é uma abordagem alternativa ao modelo Logit para modelar respostas qualitativas binárias. Assim como no modelo Logit, começamos definindo uma variável latente $Z_i$:\n",
    "\n",
    "$$\n",
    "Z_i = \\beta_1 + \\beta_2x_2 + \\dots + \\beta_k x_k\n",
    "$$\n",
    "\n",
    "No modelo Probit, assumimos que a função sigmoide que mapeia $Z_i$ para uma probabilidade é a função de distribuição cumulativa normal padrão:\n",
    "\n",
    "$$\n",
    "F(z) \\equiv \\Phi(z) \\equiv \\int_{-\\infty}^{z} \\phi(v) \\, dv\n",
    "$$\n",
    "\n",
    "Aqui, $\\Phi(z)$ representa a função de distribuição cumulativa (CDF) da distribuição normal padrão, enquanto $\\phi(z)$ é a função de densidade de probabilidade (PDF) da distribuição normal padrão, dada por:\n",
    "\n",
    "$$\n",
    "\\phi(z) = \\frac{1}{\\sqrt{2\\pi}} e^{-\\frac{1}{2}z^2}\n",
    "$$\n",
    "\n",
    "Se $x_j$ é uma variável contínua, o efeito marginal de $x_j$ sobre a probabilidade pode ser expresso como:\n",
    "\n",
    "$$\n",
    "\\frac{\\partial F(z)}{\\partial X_j} = \\frac{dF(z)}{dZ_i} \\cdot \\frac{\\partial Z_i}{\\partial X_j} = \\phi(z) \\cdot \\beta_j\n",
    "$$\n",
    "\n",
    "Aqui, $\\phi(z)$ é a derivada da função CDF normal padrão, ou seja, a função PDF da distribuição normal padrão.\n",
    "\n",
    "### Interpretação dos Efeitos Marginais no Modelo Probit\n",
    "\n",
    "- **$\\phi(z)$**: Esta é a função de densidade da distribuição normal padrão, que varia ao longo de $Z_i$. Diferente do modelo Logit, onde a função logística é usada, o modelo Probit assume que a distribuição dos erros segue uma normal padrão.\n",
    "- **Efeito Marginal**: O efeito marginal no modelo Probit é dado por $\\phi(z) \\cdot \\beta_j$, onde $\\phi(z)$ é avaliado no valor predito de $Z_i$ para cada observação. Isso significa que o efeito marginal varia dependendo do valor de $Z_i$, ou seja, da combinação linear das variáveis explicativas.\n",
    "\n",
    "### Exercício Prático com o Modelo Probit\n",
    "\n",
    "Agora que entendemos a teoria, vamos praticar a aplicação do modelo Probit usando um conjunto de dados. A prática ajudará a consolidar os conceitos discutidos e permitirá explorar como o modelo Probit estima probabilidades e efeitos marginais.\n"
   ]
  },
  {
   "cell_type": "code",
   "execution_count": 21,
   "id": "c2607a1f-a36f-4523-b260-03013db47459",
   "metadata": {},
   "outputs": [
    {
     "name": "stdout",
     "output_type": "stream",
     "text": [
      "Optimization terminated successfully.\n",
      "         Current function value: 0.243764\n",
      "         Iterations 8\n",
      "                          Probit Regression Results                           \n",
      "==============================================================================\n",
      "Dep. Variable:               admitted   No. Observations:                   30\n",
      "Model:                         Probit   Df Residuals:                       26\n",
      "Method:                           MLE   Df Model:                            3\n",
      "Date:                Mon, 12 Aug 2024   Pseudo R-squ.:                  0.6483\n",
      "Time:                        16:05:13   Log-Likelihood:                -7.3129\n",
      "converged:                       True   LL-Null:                       -20.794\n",
      "Covariance Type:            nonrobust   LLR p-value:                 5.993e-06\n",
      "===================================================================================\n",
      "                      coef    std err          z      P>|z|      [0.025      0.975]\n",
      "-----------------------------------------------------------------------------------\n",
      "const              -9.5939      4.666     -2.056      0.040     -18.739      -0.448\n",
      "gmat                0.0026      0.010      0.266      0.790      -0.017       0.022\n",
      "gpa                 1.7501      1.205      1.452      0.146      -0.612       4.112\n",
      "work_experience     0.5695      0.310      1.840      0.066      -0.037       1.176\n",
      "===================================================================================\n"
     ]
    }
   ],
   "source": [
    "dados = pd.read_excel(url, sheet_name = 'GMAT_Work_Quali_Resp')\n",
    "\n",
    "Y = dados[['admitted']]\n",
    "X = dados[['gmat', 'gpa', 'work_experience']]\n",
    "X = sm.add_constant(X)\n",
    "log_reg_house = sm.Probit(Y, X).fit()\n",
    "print(log_reg_house.summary())"
   ]
  },
  {
   "cell_type": "code",
   "execution_count": 23,
   "id": "613e586e",
   "metadata": {},
   "outputs": [
    {
     "name": "stdout",
     "output_type": "stream",
     "text": [
      "       Probit Marginal Effects       \n",
      "=====================================\n",
      "Dep. Variable:               admitted\n",
      "Method:                          dydx\n",
      "At:                           overall\n",
      "===================================================================================\n",
      "                     dy/dx    std err          z      P>|z|      [0.025      0.975]\n",
      "-----------------------------------------------------------------------------------\n",
      "gmat                0.0003      0.001      0.269      0.788      -0.002       0.003\n",
      "gpa                 0.2271      0.154      1.472      0.141      -0.075       0.530\n",
      "work_experience     0.0739      0.036      2.030      0.042       0.003       0.145\n",
      "===================================================================================\n"
     ]
    }
   ],
   "source": [
    "# Estimar os efeitos marginais\n",
    "marginal_effects = log_reg_house.get_margeff()\n",
    "print(marginal_effects.summary())"
   ]
  },
  {
   "cell_type": "markdown",
   "id": "dd2ba1a8",
   "metadata": {},
   "source": [
    "- **gmat:**\n",
    "  - **dy/dx**: 0.0003\n",
    "  - Um aumento de uma unidade na pontuação GMAT está associado a um aumento de 0,03% na probabilidade de ser admitido, mantendo as outras variáveis constantes. \n",
    "\n",
    "- **gpa:**\n",
    "  - **dy/dx**: 0.2271\n",
    "  - Um aumento de uma unidade no GPA (por exemplo, de 3.0 para 4.0) está associado a um aumento de 22,71% na probabilidade de ser admitido, mantendo as outras variáveis constantes.\n",
    "  \n",
    "- **work_experience:**\n",
    "  - **dy/dx**: 0.0739\n",
    "  - Cada ano adicional de experiência de trabalho está associado a um aumento de 7,39% na probabilidade de ser admitido, mantendo as outras variáveis constantes.\n"
   ]
  },
  {
   "cell_type": "code",
   "execution_count": 24,
   "id": "f9f4e017",
   "metadata": {},
   "outputs": [
    {
     "name": "stdout",
     "output_type": "stream",
     "text": [
      "       Probit Marginal Effects       \n",
      "=====================================\n",
      "Dep. Variable:               admitted\n",
      "Method:                          dydx\n",
      "At:                              mean\n",
      "===================================================================================\n",
      "                     dy/dx    std err          z      P>|z|      [0.025      0.975]\n",
      "-----------------------------------------------------------------------------------\n",
      "gmat                0.0010      0.004      0.264      0.792      -0.006       0.008\n",
      "gpa                 0.6699      0.422      1.586      0.113      -0.158       1.498\n",
      "work_experience     0.2180      0.119      1.832      0.067      -0.015       0.451\n",
      "===================================================================================\n"
     ]
    }
   ],
   "source": [
    "marginal_effects_mem = log_reg_house.get_margeff(at='mean')\n",
    "print(marginal_effects_mem.summary())\n"
   ]
  },
  {
   "cell_type": "markdown",
   "id": "3e7f7988",
   "metadata": {},
   "source": [
    "- **gmat:**\n",
    "  - **dy/dx**: 0.0010\n",
    "  - Quando as variáveis estão em seus valores médios, um aumento de uma unidade na pontuação GMAT está associado a um aumento de 0,1% na probabilidade de ser admitido.\n",
    "\n",
    "- **gpa:**\n",
    "  - **dy/dx**: 0.6699\n",
    "  - Quando as variáveis estão em seus valores médios, um aumento de uma unidade no GPA (por exemplo, de 3.0 para 4.0) está associado a um aumento de 66,99% na probabilidade de ser admitido.\n",
    "\n",
    "- **work_experience:**\n",
    "  - **dy/dx**: 0.2180\n",
    "  - Quando as variáveis estão em seus valores médios, um ano adicional de experiência de trabalho está associado a um aumento de 21,80% na probabilidade de ser admitido.\n",
    " "
   ]
  },
  {
   "cell_type": "markdown",
   "id": "ba9c6be7",
   "metadata": {},
   "source": [
    "### Logit ou Probit?\n",
    "\n",
    "Quando se trata de escolher entre os modelos **Logit** e **Probit**, é comum perceber que ambos os modelos tendem a produzir resultados semelhantes, especialmente em termos de sinais e significância dos coeficientes. No entanto, a escolha entre Logit e Probit pode depender de alguns fatores específicos do problema que você está abordando. Vamos explorar essas diferenças e considerações para ajudá-lo a decidir qual modelo pode ser preferível em diferentes contextos.\n",
    "\n",
    "#### 1. **Distribuição dos Erros:**\n",
    "   - **Logit:** Assume que os erros seguem uma distribuição logística, que tem caudas mais pesadas do que a distribuição normal. Isso significa que o modelo Logit pode ser mais robusto a valores extremos (outliers) na variável dependente.\n",
    "   - **Probit:** Assume que os erros seguem uma distribuição normal padrão. O modelo Probit é particularmente útil se você acredita que o processo subjacente ao seu modelo é mais consistente com uma distribuição normal.\n",
    "\n",
    "#### 2. **Interpretação dos Coeficientes:**\n",
    "   - **Logit:** Os coeficientes do modelo Logit podem ser interpretados em termos de odds ratios, o que pode ser intuitivo em muitos contextos, especialmente na análise de risco e tomada de decisões.\n",
    "   - **Probit:** Os coeficientes do modelo Probit são geralmente mais difíceis de interpretar diretamente, porque estão relacionados a uma função de distribuição acumulada normal. No entanto, os efeitos marginais calculados a partir do modelo Probit podem ser mais intuitivos.\n",
    "\n",
    "#### 3. **Consistência dos Resultados:**\n",
    "   - Na prática, os resultados de ambos os modelos são muitas vezes muito próximos, especialmente em termos de previsões de probabilidade e significância dos coeficientes. Isso ocorre porque a forma da distribuição logística e da distribuição normal padrão são semelhantes.\n",
    "\n",
    "Em muitos casos, a escolha entre Logit e Probit pode ser feita com base na preferência pela interpretação dos coeficientes ou em convenções do campo de estudo. Ambos os modelos são sólidos e oferecem previsões robustas, mas o **Logit** pode ser ligeiramente mais preferido em aplicações práticas devido à facilidade de interpretação dos odds ratios. **Probit**, por outro lado, é frequentemente preferido em modelos econométricos, onde a normalidade dos erros é assumida.\n",
    "\n"
   ]
  },
  {
   "cell_type": "markdown",
   "id": "9c17bbb5",
   "metadata": {},
   "source": [
    "### Relação entre os Modelos Logit e Probit\n",
    "\n",
    "Os modelos **Logit** e **Probit** são bastante semelhantes porque ambos modelam a probabilidade de um evento binário, mas usando diferentes distribuições subjacentes (logística para o Logit e normal padrão para o Probit). "
   ]
  },
  {
   "cell_type": "markdown",
   "id": "60f54934-12e8-4298-941c-61304e5a1c68",
   "metadata": {},
   "source": [
    "Visualmente, também podemos ver a diferença, que o logit é mais plano que o probit. "
   ]
  },
  {
   "cell_type": "code",
   "execution_count": 75,
   "id": "b39d3a16-59fa-4793-b993-78e157a36ee2",
   "metadata": {},
   "outputs": [
    {
     "data": {
      "image/png": "[encoded data removed]",
      "text/plain": [
       "<Figure size 1200x700 with 1 Axes>"
      ]
     },
     "metadata": {},
     "output_type": "display_data"
    }
   ],
   "source": [
    "Z = np.linspace(-5, 5)\n",
    "Y_probit = sp.stats.norm.cdf(Z, loc = 0, scale = 1)\n",
    "Y_logit = 1/(1+np.exp(-Z))\n",
    "fig, ax = plt.subplots(figsize = (12, 7))\n",
    "ax.plot(Z, Y_probit, lw =3, label = 'Probit')\n",
    "ax.plot(Z, Y_logit, lw = 3, label = 'Logit')\n",
    "ax.legend()\n",
    "plt.show()"
   ]
  },
  {
   "cell_type": "markdown",
   "id": "e2a05417",
   "metadata": {},
   "source": [
    "#### Escala dos Coeficientes\n",
    "\n",
    "- **Coeficientes Logit e Probit:** A relação entre os coeficientes estimados pelo modelo Logit e Probit é aproximadamente constante. O coeficiente de um modelo Logit é geralmente cerca de **1.6** vezes maior que o coeficiente correspondente do modelo Probit. Isso ocorre porque a distribuição logística usada no Logit tem uma variação maior que a distribuição normal padrão usada no Probit.\n",
    "  \n",
    "  - **1.6** é aproximadamente **$\\frac{\\pi}{\\sqrt{3}}$**, que é a razão entre as variâncias das distribuições logística e normal padrão.\n",
    "  \n",
    "- **Comparação direta:** Para fazer uma comparação direta entre os coeficientes dos dois modelos, você pode usar o fator de conversão **0.625** (que é aproximadamente **$\\frac{1}{1.6}$** ou **$\\frac{\\sqrt{3}}{\\pi}$**). Portanto, ao multiplicar os coeficientes do Logit por **0.625**, você obtém coeficientes que são aproximadamente comparáveis aos do Probit.\n",
    "\n",
    "#### Comparação com o Modelo de Probabilidade Linear (MPL)\n",
    "\n",
    "- **Coeficientes do Logit:** Para comparar os coeficientes do Logit com os do **Modelo de Probabilidade Linear (MPL)**, uma regra prática é dividir os coeficientes do Logit por **4**.\n",
    "  \n",
    "- **Coeficientes do Probit:** Para comparar os coeficientes do Probit com os do MPL, você pode dividir os coeficientes do Probit por **2.5**. Isso ocorre porque os efeitos marginais nos modelos Logit e Probit são aproximadamente equivalentes ao multiplicar os coeficientes por esses fatores.\n",
    "\n",
    "\n",
    "Essas relações funcionam porque, apesar das distribuições subjacentes diferentes, as formas das curvas sigmoides do Logit e do Probit são muito semelhantes. A diferença é essencialmente uma questão de escala devido à diferença nas variâncias das distribuições subjacentes.\n"
   ]
  },
  {
   "cell_type": "markdown",
   "id": "43166b2d",
   "metadata": {},
   "source": [
    "### Modelo de Resposta Multinomial\n",
    "\n",
    "Agora vamos considerar uma variável dependente que pode assumir múltiplas categorias como resultado. Esses dados categóricos são aqueles em que a variável dependente recai em categorias mutuamente exclusivas.\n",
    "\n",
    "**Exemplos:**\n",
    "- Formas de ir à faculdade (a pé, de carro, de ônibus, de bicicleta).\n",
    "- Categorias de “status” de saúde (péssimo, ruim, médio, bom, excelente).\n",
    "\n",
    "Existem diversos modelos de probabilidade para lidar com distribuições multinomiais, e a escolha do modelo adequado depende de se as categorias são ordenadas ou não.\n",
    "\n",
    "#### Modelo Multinomial (Não Ordenado)\n",
    "\n",
    "O modelo multinomial é usado quando a variável dependente pode assumir mais de duas categorias não ordenadas. \n",
    "\n",
    "**Exemplo:** Suponha que estamos modelando a escolha do meio de transporte de um grupo de pessoas. As categorias possíveis são: andar, dirigir, pegar o ônibus, ou andar de bicicleta.\n",
    "\n",
    "Considere que o resultado $y_i$ para o indivíduo $i$ é uma das $m$ alternativas. Especificamente, $y_i = j$ se o resultado é a $j$-ésima alternativa, onde $j = 1, 2, \\ldots, m$. Os valores numéricos atribuídos às alternativas ($1, 2, \\ldots, m$) são arbitrários, e o ordenamento dessas categorias não tem importância, a menos que estejamos considerando um modelo ordenado.\n",
    "\n",
    "A probabilidade de que o resultado para o indivíduo $i$ seja a alternativa $j$, dado os regressores $x_i$, é dada por:\n",
    "\n",
    "$$\n",
    "p_{ij} \\equiv \\Pr(y_i = j) = F_i(x_i, \\theta), \\quad j = 1, 2, \\ldots, m; \\quad i = 1, \\ldots, N\n",
    "$$\n",
    "\n",
    "#### Normalização e Interpretação dos Parâmetros\n",
    "\n",
    "Os modelos multinomiais requerem normalização porque, sem ela, os parâmetros estimados não são identificáveis. Normalmente, uma das categorias é escolhida como a categoria de referência, e as probabilidades das outras categorias são estimadas em relação a essa categoria. Isso significa que os parâmetros associados às categorias não são diretamente interpretáveis, nem mesmo o sinal dos coeficientes.\n",
    "\n",
    "Por isso, é **essencial** calcular os **efeitos marginais** (ME) para interpretar corretamente os resultados.\n",
    "\n",
    "Para um indivíduo $i$, o efeito marginal (ME) de uma mudança no $k$-ésimo regressor sobre a probabilidade de que a alternativa $j$ seja escolhida é dado por:\n",
    "\n",
    "$$\n",
    "ME_{ijk} = \\frac{\\partial \\Pr(y_i = j)}{\\partial x_{ik}} = \\frac{\\partial F_j(x_i, \\theta)}{\\partial x_{ik}}\n",
    "$$\n",
    "\n",
    "Cada regressor terá um efeito marginal correspondente para cada uma das $m$ categorias, e a soma desses efeitos marginais sobre todas as categorias será zero, pois as probabilidades somam a um.\n",
    "\n",
    "**Exemplo Prático:**\n",
    "Imagine um modelo que estima as probabilidades de escolha entre diferentes meios de transporte (andar, dirigir, pegar o ônibus, ou andar de bicicleta) com base em variáveis como distância, tempo de viagem, e custo. Os efeitos marginais nos diriam como uma mudança na distância, por exemplo, altera a probabilidade de escolher cada meio de transporte."
   ]
  },
  {
   "cell_type": "code",
   "execution_count": 33,
   "id": "2193cf67",
   "metadata": {},
   "outputs": [],
   "source": [
    "import pandas as pd\n",
    "import statsmodels.api as sm\n",
    "\n",
    "# Carregar os dados\n",
    "df2 = pd.read_stata(\"https://github.com/Daniel-Uhr/data/raw/main/sysdsn3.dta\")"
   ]
  },
  {
   "cell_type": "code",
   "execution_count": 37,
   "id": "60daee7a",
   "metadata": {},
   "outputs": [
    {
     "name": "stdout",
     "output_type": "stream",
     "text": [
      "Optimization terminated successfully.\n",
      "         Current function value: 0.868881\n",
      "         Iterations 7\n",
      "                          MNLogit Regression Results                          \n",
      "==============================================================================\n",
      "Dep. Variable:                 insure   No. Observations:                  615\n",
      "Model:                        MNLogit   Df Residuals:                      603\n",
      "Method:                           MLE   Df Model:                           10\n",
      "Date:                seg, 12 ago 2024   Pseudo R-squ.:                 0.03867\n",
      "Time:                        17:20:27   Log-Likelihood:                -534.36\n",
      "converged:                       True   LL-Null:                       -555.85\n",
      "Covariance Type:            nonrobust   LLR p-value:                 5.003e-06\n",
      "===================================================================================\n",
      " insure=Prepaid       coef    std err          z      P>|z|      [0.025      0.975]\n",
      "-----------------------------------------------------------------------------------\n",
      "const               0.2697      0.328      0.821      0.412      -0.374       0.913\n",
      "age                -0.0117      0.006     -1.896      0.058      -0.024       0.000\n",
      "male                0.5617      0.203      2.770      0.006       0.164       0.959\n",
      "nonwhite            0.9748      0.236      4.125      0.000       0.512       1.438\n",
      "site2               0.1130      0.210      0.538      0.591      -0.299       0.525\n",
      "site3              -0.5880      0.228     -2.580      0.010      -1.035      -0.141\n",
      "-----------------------------------------------------------------------------------\n",
      "insure=Uninsure       coef    std err          z      P>|z|      [0.025      0.975]\n",
      "-----------------------------------------------------------------------------------\n",
      "const              -1.2869      0.592     -2.173      0.030      -2.448      -0.126\n",
      "age                -0.0078      0.011     -0.681      0.496      -0.030       0.015\n",
      "male                0.4518      0.367      1.230      0.219      -0.268       1.172\n",
      "nonwhite            0.2171      0.426      0.510      0.610      -0.617       1.051\n",
      "site2              -1.2116      0.471     -2.575      0.010      -2.134      -0.289\n",
      "site3              -0.2078      0.366     -0.567      0.570      -0.926       0.510\n",
      "===================================================================================\n"
     ]
    }
   ],
   "source": [
    "# Definir as variáveis de interesse\n",
    "X = df2[['age', 'male', 'nonwhite', 'site2', 'site3']]\n",
    "y = df2['insure']\n",
    "\n",
    "# Concatenar X e y em um único DataFrame para dropar as linhas com missing\n",
    "data = pd.concat([X, y], axis=1)\n",
    "\n",
    "# Dropar as linhas onde qualquer variável é \"missing\"\n",
    "data_clean = data.dropna()\n",
    "\n",
    "# Separar novamente X e y após a limpeza\n",
    "X_clean = data_clean[['age', 'male', 'nonwhite', 'site2', 'site3']]\n",
    "y_clean = data_clean['insure']\n",
    "\n",
    "# Adicionar a constante ao modelo\n",
    "X_clean = sm.add_constant(X_clean)\n",
    "\n",
    "# Estimar o modelo multinomial logit\n",
    "mlogit_model = sm.MNLogit(y_clean, X_clean).fit()\n",
    "\n",
    "# Exibir o resumo do modelo\n",
    "print(mlogit_model.summary())\n"
   ]
  },
  {
   "cell_type": "code",
   "execution_count": 38,
   "id": "68151c01",
   "metadata": {},
   "outputs": [
    {
     "name": "stdout",
     "output_type": "stream",
     "text": [
      "       MNLogit Marginal Effects      \n",
      "=====================================\n",
      "Dep. Variable:                 insure\n",
      "Method:                          dydx\n",
      "At:                           overall\n",
      "===================================================================================\n",
      "insure=Indemnity      dy/dx    std err          z      P>|z|      [0.025      0.975]\n",
      "------------------------------------------------------------------------------------\n",
      "age                  0.0027      0.001      1.905      0.057   -7.65e-05       0.005\n",
      "male                -0.1303      0.046     -2.862      0.004      -0.219      -0.041\n",
      "nonwhite            -0.2061      0.052     -3.965      0.000      -0.308      -0.104\n",
      "site2                0.0197      0.049      0.403      0.687      -0.076       0.116\n",
      "site3                0.1270      0.051      2.511      0.012       0.028       0.226\n",
      "------------------------------------------------------------------------------------\n",
      "insure=Prepaid      dy/dx    std err          z      P>|z|      [0.025      0.975]\n",
      "----------------------------------------------------------------------------------\n",
      "age               -0.0025      0.001     -1.801      0.072      -0.005       0.000\n",
      "male               0.1178      0.045      2.637      0.008       0.030       0.205\n",
      "nonwhite           0.2222      0.050      4.438      0.000       0.124       0.320\n",
      "site2              0.0645      0.048      1.354      0.176      -0.029       0.158\n",
      "site3             -0.1316      0.050     -2.607      0.009      -0.231      -0.033\n",
      "----------------------------------------------------------------------------------\n",
      "insure=Uninsure      dy/dx    std err          z      P>|z|      [0.025      0.975]\n",
      "-----------------------------------------------------------------------------------\n",
      "age                -0.0002      0.001     -0.206      0.837      -0.002       0.001\n",
      "male                0.0125      0.023      0.539      0.590      -0.033       0.058\n",
      "nonwhite           -0.0161      0.026     -0.612      0.541      -0.068       0.035\n",
      "site2              -0.0843      0.032     -2.650      0.008      -0.147      -0.022\n",
      "site3               0.0046      0.023      0.199      0.843      -0.041       0.050\n",
      "===================================================================================\n"
     ]
    }
   ],
   "source": [
    "# Calcular os efeitos marginais\n",
    "marginal_effects = mlogit_model.get_margeff()\n",
    "\n",
    "# Exibir o resumo dos efeitos marginais\n",
    "print(marginal_effects.summary())\n"
   ]
  },
  {
   "cell_type": "code",
   "execution_count": 39,
   "id": "ba74bf26",
   "metadata": {},
   "outputs": [
    {
     "name": "stdout",
     "output_type": "stream",
     "text": [
      "       MNLogit Marginal Effects      \n",
      "=====================================\n",
      "Dep. Variable:                 insure\n",
      "Method:                          dydx\n",
      "At:                              mean\n",
      "===================================================================================\n",
      "insure=Indemnity      dy/dx    std err          z      P>|z|      [0.025      0.975]\n",
      "------------------------------------------------------------------------------------\n",
      "age                  0.0028      0.001      1.895      0.058   -9.61e-05       0.006\n",
      "male                -0.1368      0.049     -2.801      0.005      -0.232      -0.041\n",
      "nonwhite            -0.2194      0.057     -3.850      0.000      -0.331      -0.108\n",
      "site2                0.0137      0.051      0.270      0.787      -0.086       0.113\n",
      "site3                0.1348      0.054      2.491      0.013       0.029       0.241\n",
      "------------------------------------------------------------------------------------\n",
      "insure=Prepaid      dy/dx    std err          z      P>|z|      [0.025      0.975]\n",
      "----------------------------------------------------------------------------------\n",
      "age               -0.0027      0.001     -1.800      0.072      -0.006       0.000\n",
      "male               0.1257      0.048      2.608      0.009       0.031       0.220\n",
      "nonwhite           0.2350      0.056      4.196      0.000       0.125       0.345\n",
      "site2              0.0640      0.050      1.270      0.204      -0.035       0.163\n",
      "site3             -0.1395      0.054     -2.565      0.010      -0.246      -0.033\n",
      "----------------------------------------------------------------------------------\n",
      "insure=Uninsure      dy/dx    std err          z      P>|z|      [0.025      0.975]\n",
      "-----------------------------------------------------------------------------------\n",
      "age                -0.0001      0.001     -0.190      0.849      -0.001       0.001\n",
      "male                0.0110      0.022      0.511      0.609      -0.031       0.053\n",
      "nonwhite           -0.0157      0.025     -0.630      0.528      -0.064       0.033\n",
      "site2              -0.0777      0.025     -3.086      0.002      -0.127      -0.028\n",
      "site3               0.0047      0.022      0.219      0.827      -0.038       0.047\n",
      "===================================================================================\n"
     ]
    }
   ],
   "source": [
    "# Calcular os efeitos marginais na média das variáveis explicativas\n",
    "marginal_effects_mem = mlogit_model.get_margeff(at='mean')\n",
    "\n",
    "# Exibir o resumo dos efeitos marginais na média\n",
    "print(marginal_effects_mem.summary())\n"
   ]
  },
  {
   "cell_type": "markdown",
   "id": "8dcabf88",
   "metadata": {},
   "source": [
    "AME vs. MEM: Ambos os métodos fornecem resultados muito semelhantes, o que indica que o modelo é estável e as variáveis explicativas têm impactos consistentes em todas as observações, bem como na \"observação média\". O MEM fornece uma visão sobre uma \"observação típica\", enquanto o AME fornece uma visão geral de como as variáveis influenciam em toda a amostra."
   ]
  },
  {
   "cell_type": "markdown",
   "id": "b028c79c",
   "metadata": {},
   "source": [
    "### Modelos Ordenados\n",
    "\n",
    "Quando as categorias da variável dependente possuem uma ordem natural, devemos considerar essa ordenação no modelo. \n",
    "\n",
    "**Exemplo:** Suponha que estamos modelando o status de saúde de indivíduos, onde as categorias são: péssimo, ruim, médio, bom, excelente.\n",
    "\n",
    "Nesse caso, a variável precisa ser tratada de forma que as categorias cresçam sequencialmente, refletindo uma variável latente $y^*$, que cruza progressivamente níveis superiores à medida que a saúde melhora. Para o indivíduo $i$, especificamos:\n",
    "\n",
    "$$\n",
    "y^* = x_i' \\beta + u_i\n",
    "$$\n",
    "\n",
    "Aqui, $y^*$ é uma variável latente contínua que determina o estado de saúde observado.\n",
    "\n",
    "#### Interpretação dos Limiares\n",
    "\n",
    "O modelo ordenado supõe que existem limiares $\\alpha_j$ que separam as diferentes categorias observadas de $y_i$. Se o valor de $y^*$ para o indivíduo $i$ estiver entre dois limiares, a categoria correspondente é escolhida.\n",
    "\n",
    "Para um modelo ordenado com $m$ categorias, definimos:\n",
    "\n",
    "$$\n",
    "y_i = j \\quad \\text{se} \\quad \\alpha_{j-1} < y_i^* \\leq \\alpha_j, \\quad j = 1, \\ldots, m\n",
    "$$\n",
    "\n",
    "Aqui, $\\alpha_0 = -\\infty$ e $\\alpha_m = \\infty$. Então, a probabilidade de que o indivíduo $i$ caia na categoria $j$ é:\n",
    "\n",
    "$$\n",
    "\\Pr(y_i = j) = \\Pr(\\alpha_{j-1} < y_i^* \\leq \\alpha_j)\n",
    "$$\n",
    "\n",
    "Substituindo $y^*$ pela sua expressão:\n",
    "\n",
    "$$\n",
    "\\Pr(\\alpha_{j-1} < x_i' \\beta + u_i \\leq \\alpha_j) = F(\\alpha_{j-1} - x_i' \\beta) - F(\\alpha_j - x_i' \\beta)\n",
    "$$\n",
    "\n",
    "Onde $F(\\cdot)$ é a função de distribuição acumulada do erro $u_i$. Nesse modelo, os sinais dos coeficientes $\\beta$ podem ser interpretados diretamente: um $\\beta_k$ positivo indica que um aumento na variável $x_{ik}$ aumenta a probabilidade de estar em uma categoria superior.\n",
    "\n",
    "**Exemplo Prático:**\n",
    "Considere um modelo que avalia o efeito da idade, renda, e estilo de vida sobre o status de saúde (péssimo, ruim, médio, bom, excelente). Um coeficiente $\\beta_k$ positivo para a renda indicaria que indivíduos com renda mais alta têm maior probabilidade de estar em melhores categorias de saúde.\n"
   ]
  },
  {
   "cell_type": "markdown",
   "id": "3d9aad8b",
   "metadata": {},
   "source": [
    "Vamos assumir que a ordem importa: Uninsure < Prepaid < Indemnity"
   ]
  },
  {
   "cell_type": "code",
   "execution_count": 71,
   "id": "a87e12b7",
   "metadata": {},
   "outputs": [],
   "source": [
    "import pandas as pd\n",
    "import statsmodels.api as sm\n",
    "from statsmodels.miscmodels.ordinal_model import OrderedModel\n",
    "\n",
    "# Carregar os dados\n",
    "df2 = pd.read_stata(\"https://github.com/Daniel-Uhr/data/raw/main/sysdsn3.dta\")"
   ]
  },
  {
   "cell_type": "code",
   "execution_count": 72,
   "id": "5f6c403a",
   "metadata": {},
   "outputs": [
    {
     "name": "stdout",
     "output_type": "stream",
     "text": [
      "                             OrderedModel Results                             \n",
      "==============================================================================\n",
      "Dep. Variable:                 insure   Log-Likelihood:                -664.41\n",
      "Model:                   OrderedModel   AIC:                             1345.\n",
      "Method:            Maximum Likelihood   BIC:                             1381.\n",
      "Date:                seg, 12 ago 2024                                         \n",
      "Time:                        17:55:31                                         \n",
      "No. Observations:                 643                                         \n",
      "Df Residuals:                     635                                         \n",
      "Df Model:                           8                                         \n",
      "==============================================================================\n",
      "                 coef    std err          z      P>|z|      [0.025      0.975]\n",
      "------------------------------------------------------------------------------\n",
      "age            0.0082      0.005      1.516      0.130      -0.002       0.019\n",
      "male          -0.0059      0.177     -0.033      0.974      -0.353       0.341\n",
      "nonwhite      -0.1346      0.202     -0.668      0.504      -0.530       0.260\n",
      "site2          0.1249      0.186      0.670      0.503      -0.241       0.490\n",
      "site3          0.6250      0.197      3.172      0.002       0.239       1.011\n",
      "-1/0          -2.5515      0.336     -7.602      0.000      -3.209      -1.894\n",
      "0/1            1.1059      0.064     17.306      0.000       0.981       1.231\n",
      "1/2            1.0050      0.057     17.560      0.000       0.893       1.117\n",
      "==============================================================================\n"
     ]
    },
    {
     "name": "stderr",
     "output_type": "stream",
     "text": [
      "c:\\Users\\danie\\AppData\\Local\\Programs\\Python\\Python311\\Lib\\site-packages\\statsmodels\\base\\optimizer.py:728: RuntimeWarning: Maximum number of iterations has been exceeded.\n",
      "  retvals = optimize.fmin(f, start_params, args=fargs, xtol=xtol,\n",
      "c:\\Users\\danie\\AppData\\Local\\Programs\\Python\\Python311\\Lib\\site-packages\\statsmodels\\base\\model.py:604: ConvergenceWarning: Maximum Likelihood optimization failed to converge. Check mle_retvals\n",
      "  warnings.warn(\"Maximum Likelihood optimization failed to \"\n"
     ]
    }
   ],
   "source": [
    "# Assumir que a variável dependente 'insure' está codificada como: Uninsure=0, Prepaid=1, Indemnity=2\n",
    "df2['insure'] = pd.Categorical(df2['insure'], categories=['Prepaid', 'Indemnity', 'Uninsure',], ordered=True)\n",
    "df2['insure'] = df2['insure'].cat.codes\n",
    "\n",
    "# Definir as variáveis de interesse\n",
    "X = df2[['age', 'male', 'nonwhite', 'site2', 'site3']]\n",
    "y = df2['insure']\n",
    "\n",
    "# Concatenar X e y para limpeza\n",
    "data = pd.concat([X, y], axis=1)\n",
    "\n",
    "# Remover linhas com NaN ou Inf\n",
    "data_clean = data.replace([np.inf, -np.inf], np.nan).dropna()\n",
    "\n",
    "# Separar novamente X e y após a limpeza\n",
    "X_clean = data_clean[['age', 'male', 'nonwhite', 'site2', 'site3']]\n",
    "y_clean = data_clean['insure']\n",
    "\n",
    "# Ajustar o modelo ordenado (Ordered Logit) sem adicionar a constante\n",
    "ordered_model = OrderedModel(y_clean, X_clean, distr='logit')\n",
    "ordered_result = ordered_model.fit()\n",
    "\n",
    "# Exibir o resumo do modelo\n",
    "print(ordered_result.summary())\n"
   ]
  },
  {
   "cell_type": "code",
   "execution_count": 57,
   "id": "99fe00f1",
   "metadata": {},
   "outputs": [
    {
     "name": "stdout",
     "output_type": "stream",
     "text": [
      "Probabilidade média de Uninsure: [0.99996395]\n",
      "Probabilidade média de Prepaid: [1.86293802e-05]\n",
      "Probabilidade média de Indemnity: [1.74196827e-05]\n",
      "Efeitos Marginais na Média:\n",
      "Categoria Uninsure: [-3.21376259e-07  7.71467334e-06 -3.27873284e-06 -1.52759916e-05\n",
      " -4.55241955e-06  9.33785882e-05]\n",
      "Categoria Prepaid: [ 1.66072711e-07 -3.98670541e-06  1.69435577e-06  7.89416310e-06\n",
      "  2.35255704e-06 -4.82551998e-05]\n",
      "Categoria Indemnity: [ 1.55303548e-07 -3.72796793e-06  1.58437707e-06  7.38182848e-06\n",
      "  2.19986251e-06 -4.51233884e-05]\n"
     ]
    }
   ],
   "source": [
    "import numpy as np\n",
    "\n",
    "# Obter os coeficientes das variáveis explicativas\n",
    "coef = ordered_result.params[:-2]  # Excluindo os cut points\n",
    "\n",
    "# Adicionar uma constante na matriz X_clean\n",
    "X_clean_const = sm.add_constant(X_clean)\n",
    "\n",
    "# Calcular as probabilidades previstas para as médias das variáveis explicativas\n",
    "X_mean = X_clean_const.mean(axis=0).values.reshape(1, -1)\n",
    "Z_mean = np.dot(X_mean, coef)\n",
    "\n",
    "# Calcular as probabilidades previstas para cada limiar (cut point)\n",
    "cut_points = ordered_result.params[-2:]\n",
    "probs_mean = np.array([\n",
    "    ordered_result.model.cdf(cut_points[0] - Z_mean),\n",
    "    ordered_result.model.cdf(cut_points[1] - Z_mean)\n",
    "])\n",
    "\n",
    "# Calcular as probabilidades para cada categoria (3 categorias no total)\n",
    "P1_mean = probs_mean[0]\n",
    "P2_mean = probs_mean[1] - probs_mean[0]\n",
    "P3_mean = 1 - probs_mean[1]\n",
    "\n",
    "# Mostrar as probabilidades médias\n",
    "print(\"Probabilidade média de Uninsure:\", P1_mean)\n",
    "print(\"Probabilidade média de Prepaid:\", P2_mean)\n",
    "print(\"Probabilidade média de Indemnity:\", P3_mean)\n",
    "\n",
    "# Calcular os efeitos marginais na média\n",
    "effects_at_mean = []\n",
    "\n",
    "delta = 1e-5\n",
    "for i in range(X_clean_const.shape[1]):\n",
    "    X_high = X_mean.copy()\n",
    "    X_low = X_mean.copy()\n",
    "    \n",
    "    X_high[0, i] += delta\n",
    "    X_low[0, i] -= delta\n",
    "    \n",
    "    Z_high = np.dot(X_high, coef)\n",
    "    Z_low = np.dot(X_low, coef)\n",
    "    \n",
    "    probs_high = np.array([\n",
    "        ordered_result.model.cdf(cut_points[0] - Z_high),\n",
    "        ordered_result.model.cdf(cut_points[1] - Z_high)\n",
    "    ])\n",
    "    \n",
    "    probs_low = np.array([\n",
    "        ordered_result.model.cdf(cut_points[0] - Z_low),\n",
    "        ordered_result.model.cdf(cut_points[1] - Z_low)\n",
    "    ])\n",
    "    \n",
    "    P1_high = probs_high[0]\n",
    "    P2_high = probs_high[1] - probs_high[0]\n",
    "    P3_high = 1 - probs_high[1]\n",
    "    \n",
    "    P1_low = probs_low[0]\n",
    "    P2_low = probs_low[1] - probs_low[0]\n",
    "    P3_low = 1 - probs_low[1]\n",
    "    \n",
    "    # Efeitos marginais para cada categoria\n",
    "    marginal_effect_P1 = (P1_high - P1_low) / (2 * delta)\n",
    "    marginal_effect_P2 = (P2_high - P2_low) / (2 * delta)\n",
    "    marginal_effect_P3 = (P3_high - P3_low) / (2 * delta)\n",
    "    \n",
    "    effects_at_mean.append([marginal_effect_P1[0], marginal_effect_P2[0], marginal_effect_P3[0]])\n",
    "\n",
    "effects_at_mean = np.array(effects_at_mean)\n",
    "\n",
    "# Mostrar os efeitos marginais na média para cada categoria\n",
    "print(\"Efeitos Marginais na Média:\")\n",
    "print(\"Categoria Uninsure:\", effects_at_mean[:, 0])\n",
    "print(\"Categoria Prepaid:\", effects_at_mean[:, 1])\n",
    "print(\"Categoria Indemnity:\", effects_at_mean[:, 2])\n",
    "\n"
   ]
  },
  {
   "cell_type": "markdown",
   "id": "72b66110-6ccf-4166-b03f-b01fd88c0900",
   "metadata": {},
   "source": [
    "### Considerações\n",
    "\n",
    "**Angrist and Pischke (2008, pg.70):**\n",
    "\n",
    "**“O fato de uma variável dependente ser limitada deve afetar a prática empírica?”**\n",
    "\n",
    "*Muitos livros de econometria argumentam que sim quanto aplica-se OLS para variáveis dependentes contínuas. Entretanto quando o resultado de interesse for uma variável dependente limitada (limited dependente variable - LDV), os modelos de regressão linear seriam inadequados e os modelos não lineares, de modo que modelos Probit e Tobit seriam preferidos.*\n",
    "\n",
    "*Em contraste, a visão de regressão como **herdando sua legitimidade da função de expectativa condicional** (Conditional Expectation Function – CEF) faz com que a LDV pareça menos central.*\n",
    "\n",
    "\n",
    "**Ou seja, Angrist and Pischke argumentam que a justificativa para o uso de modelos não lineares para LDV é fraca**. Principalmente se o foco for identificação causal. Certo; talvez a LDV não é central para a identificação causal de forma direta (vamos entender isso na segunda parte do curso); **Mas é importante que nós conheçamos esses métodos** porque eles são utilizados tanto como possíveis **estratégias de robustez**, quanto como **passos intermediários** para construção de novas estratégias mais robustas."
   ]
  }
 ],
 "metadata": {
  "kernelspec": {
   "display_name": "Python 3",
   "language": "python",
   "name": "python3"
  },
  "language_info": {
   "codemirror_mode": {
    "name": "ipython",
    "version": 3
   },
   "file_extension": ".py",
   "mimetype": "text/x-python",
   "name": "python",
   "nbconvert_exporter": "python",
   "pygments_lexer": "ipython3",
   "version": "3.11.5"
  }
 },
 "nbformat": 4,
 "nbformat_minor": 5
}
