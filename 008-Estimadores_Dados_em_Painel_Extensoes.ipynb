{
 "cells": [
  {
   "cell_type": "markdown",
   "id": "a5e5aa16",
   "metadata": {},
   "source": [
    "## Extensões dos Modelos de Dados em Painel\n",
    "Prof. Daniel de Abreu Pereira Uhr"
   ]
  },
  {
   "cell_type": "markdown",
   "id": "93196b36",
   "metadata": {},
   "source": [
    "#### Conteúdo\n",
    "\n",
    "* Modelos Estáticos\n",
    "  * IV for LSDV\n",
    "  * IV for First-Differences Model\n",
    "  * Within IV Estimator\n",
    "* Modelos Dinâmicos\n",
    "  * Dynamic Panel Data (Arellano-Bond estimator)\n",
    "  * System GMM (Blundell-Bond estimator)\n",
    "* Testes de diagnósticos\n",
    "* Aplicações em Python\n",
    "* Aplicação na Literatura\n",
    "* Considerações\n",
    "\n",
    "#### Referências\n",
    "* Wooldridge, J. M. (2002). Econometric analysis of cross section and panel data. MIT press. - Capítulo 11\n",
    "* Cameron, A. C.; Trivedi, P. K. (2005). Microeconometrics: Methods and Applications. Cambridge University Press. - Capítulo 22\n",
    "* Anderson, T. W.; Hsiao, C. Estimation of Dynamic Models with Error Components. Journal of the American Statistical Association, Vol. 76, No. 375 (Sep., 1981), pp. 598-606. https://doi.org/10.2307/2287517\n",
    "* Arellano, M.; Bond, S. Some Tests of Specification for Panel Data: Monte Carlo Evidence and an Application to Employment Equations. The Review of Economic Studies, Vol. 58, No. 2 (Apr., 1991), pp. 277-297. https://doi.org/10.2307/2297968 \n",
    "* Arellano, M.; Bover, O. Another Look at the Instrumental Variable Estimation of Error-Components Models. Journal of Econometrics, Vol. 68, No. 1 (Jul., 1995), pp. 29-51. https://doi.org/10.1016/0304-4076(94)01642-D\n",
    "* Blunder, R.; Bond, S. Initial conditions and moment restrictions in dynamic panel data models. Journal of Econometrics, Vol. 87, No. 1 (Aug., 1998), pp. 115-143. https://doi.org/10.1016/S0304-4076(98)00009-8\n",
    "* Blundell, R.; Bond, S. GMM Estimation with Persistent Panel Data: An Application to Production Functions. Econometric Reviews, Vol. 19, No. 3 (Aug., 2000), pp. 321-340. https://doi.org/10.1080/07474930008800475\n",
    "* Hansen, B.; Lee, S. Inference for Iterated GMM under Misspecification. Econometrica, Vol. 89, Issue 3 (May, 2021), pp. 1419-1447. https://doi.org/10.3982/ECTA16274 \n",
    "* Holtz-Eakin, D.; Newey, W.; Rosen, H. Estimating Vector Autoregressions with Panel Data. Econometrica, Vol. 56, No. 6 (Nov., 1988), pp. 1371-1395. https://doi.org/10.2307/1913103\n",
    "* Windmeijer, F. A finite sample correction for the variance of linear efficient two-step GMM estimators. Journal of Econometrics, Vol. 126, No. 1 (May, 2005), pp. 25-51. https://doi.org/10.1016/j.jeconom.2004.02.005 \n"
   ]
  },
  {
   "cell_type": "markdown",
   "id": "080b421c",
   "metadata": {
    "notebookRunGroups": {
     "groupValue": "1"
    }
   },
   "source": [
    "---"
   ]
  },
  {
   "cell_type": "markdown",
   "id": "76c0fa22-cd7e-4727-9fb2-df9ece1cf899",
   "metadata": {},
   "source": [
    "### Modelos Estáticos\n",
    "\n",
    "O desenvolvimento dos estimadores procurou integrar a ideia da utilização de **variáveis instrumentais** numa estrutura de **dados em painel**. Vimos que na estrutura cross-section, variáveis endógenas são instrumentadas por variáveis que **não aparecem como regressoras na equação de interesse** (variáveis excluídas da relação). Tais variáveis também podem ser utilizadas como instrumentos no caso de Painel.\n",
    "\n",
    "**É possivel obter instrumentos a partir da própria estrutura de Dados em Painel?**\n",
    "\n",
    "* No caso de Dados em Painel, os períodos adicionais dos dados nos proporcionam **condições de momento e instrumentos adicionais** que podem facilmente levar à identificação ou sobreidentificação do coeficiente beta.\n",
    "\n",
    "* O número de condições de momento e instrumentos disponíveis expande-se progressivamente a medida em que hipóteses são feitas sobre a correlação de $u_{it}$ e $Z_{is}$, para $s,t=1,...,T$.\n",
    "\n",
    "* A ênfase está em **utilizar os componentes exógenos dos regressores** como instrumentos mais de uma vez (instrumentos internos), mas é importante destacar que a técnica também se aplica aos instrumentos tradicionais que estejam disponíveis fora (externos/excluídos) da regressão.\n",
    "\n",
    "\n",
    "**Quais os tipos de instrumentos possíveis para utilizarmos em estimadores com Dados em Painel?**\n",
    "\n",
    "* **Instrumentos externo:** Variável correlacionada com a variável de interesse mas não com o termo de erro (visto anteriormente).\n",
    "\n",
    "* **Instrumentos internos:** Uso de regressores exógenos em períodos diferentes que o período corrente (ex. variáveis defasadas). A depender das hipóteses de exogeneidade consideradas.\n"
   ]
  },
  {
   "cell_type": "markdown",
   "id": "dcfd3a99",
   "metadata": {},
   "source": [
    "Sabemos que **é difícil obter variávei instrumentais**. Assim, os econometristas teóricos ao considerarem a própria estrutura da base de dados em painel, tiveram a ideia de **utilizar as defasagens das próprias variáveis explicativas** como instrumentos para variáveis endógenas. A lógica é que eventos passados não afetam diretamente o resultado do presente, entretanto estão relacionados com a variável endógena. Assim:\n",
    "\n",
    "* Se assumirmos que $E[x_{it−1} u_{it}]=0$ então $x_{it−1}$ está disponível como um instrumento adicional.\n",
    "* Haviamos definido anteriormente que $Z_i$ representava a matriz das variáveis exógenas. Então a matriz $Z_i$ será composta tanto pelos **regressores correntes** (exógenos) quanto pelas **defasagens exógenas**.\n",
    "* Se supormos que **todos os regressores são contemporaneamente exógenos**, teremos um modelo exatamente identificado, e implicará no Pooled OLS (ou LSDV).\n",
    "\n",
    "Vejamos quais as hipóteses necessárias para que isso seja possível, e quais as implicações para a estimação dos parâmetros.\n"
   ]
  },
  {
   "cell_type": "markdown",
   "id": "f1c6d56f",
   "metadata": {},
   "source": [
    "**Hipóteses de Exogeneidade**\n",
    "\n",
    "**Hipótese de Exogeneidade Contemporânea**\n",
    "* Os instrumentos são assumidos como contemporaneamente não correlacionados com o termo de erro\n",
    "* $E[Z_{it}u_{it}] = 0$ para $t=1,...,T$\n",
    "\n",
    "**Hipótese de Exogeneidade Fraca**\n",
    "* Também chamada de hipótese de instrumentos predeterminados, considera-se adicionalmente que os valores das defasagens dos instrumentos são não correlacionados com o erro do período corrente. \n",
    "* $ E[Z_{is}u_{it}] = 0$ para $s=1,...,t-1$ e $t=1,...,T$\n",
    "* OBS: Essa condição será mais relevante nos **modelos dinâmicos com variáveis dependentes como regressores**.\n",
    "\n",
    "**Hipótese de Exogeneidade Forte**\n",
    "* Hipótese mais forte que a anterior, onde os valores futuros dos instrumentos são assumidos não correlacionados com o erro corrente. \n",
    "* $E[Z_{is}u_{it}] = 0$ para $s,t$; $t=1,...,T$\n",
    "* Então valores passados, correntes e futuros de Z são instrumentos validos."
   ]
  },
  {
   "cell_type": "markdown",
   "id": "ec4991a2",
   "metadata": {},
   "source": [
    "**Estimadores tradicionais de dados em painel**\n",
    "\n",
    "* POLS\n",
    "* Efeitos Fixos com Variáveis dummies\n",
    "* Estimador de Efeitos Fixos Within\n",
    "* Estimador de Primeira Diferença\n",
    "* Estimador Between\n",
    "* Efeitos Aleatórios\n",
    "\n",
    "Vimos que em ciências sociais aplicadas o controle dos efeitos fixos é fundamental para a obtenção de estimadores consistentes numa estrutura de dados em painel. Entretanto, os teóricos da econometria se questionaram se exisitiria alguma forma de eliminar uma outra fonte de viés além daquela proveniente dos efeitos fixos. Para isso, eles pensaram em uma estratégia que consiste em controlar os efeitos fixos e estimar os modelos empregando o estimador de variáveis instrumentais.\n",
    "\n",
    "Logo, a ideia foi combinar a eliminação/controle dos efeitos fixos com os estimadores IV, 2SLS e GMM.\n",
    "\n",
    "\n"
   ]
  },
  {
   "cell_type": "markdown",
   "id": "ca3f3bea",
   "metadata": {},
   "source": [
    "#### IV for LSDV\n",
    "\n",
    "É o estimador IV, ou 2SLS ou Panel GMM para o modelo de efeitos fixos com variáveis dummies.\n",
    "\n",
    "$$ y_{it} = \\alpha_i + \\beta x_{it} + u_{it}$$\n",
    "\n",
    "para $t=1,...,T$ e $i=1,...,N$.\n",
    "\n",
    "* Sob a **hipótese de exogeneidade fraca**, $E[Z_{is} u_{it}]=0$ para $s≤t$;\n",
    "* Temos um estimador IV consistente para beta."
   ]
  },
  {
   "cell_type": "markdown",
   "id": "1f0d9d2a",
   "metadata": {},
   "source": [
    "#### IV for First-Differences Model\n",
    "\n",
    "É o estimador IV, ou 2SLS ou Panel GMM para o modelo em primeira diferença:\n",
    "\n",
    "$$\\Delta y_{it} = \\Delta x_{it}\\beta + \\Delta u_{it}$$\n",
    "\n",
    "$$ y_{it} - y_{it-1} = (x_{it} - x_{it-1})\\beta + u_{it} - u_{it-1}$$\n",
    "\n",
    "para $t=1,...,T$ e $i=1,...,N$.\n",
    "\n",
    "\n",
    "* Sob a **hipótese de exogeneidade fraca**, $E[Z_{is} (u_{it} − u_{it−1})]=0$ para $s≤t−1$;\n",
    "\n",
    "* Sabemos que a primeira diferença reduz a dimensão temporal do conjunto dos instrumentos disponíveis em um período.\n",
    "\n",
    "* Ao assumirmos exogeneidade fraca temos um estimador IV consistente para beta.\n"
   ]
  },
  {
   "cell_type": "markdown",
   "id": "deacb3db",
   "metadata": {},
   "source": [
    "#### IV for Within or Mean-Defferenced Model (Within IV Estimator)\n",
    "\n",
    "O Within IV Estimator é o estimador IV, 2SLS, ou Painel GMM do modelo:\n",
    "\n",
    "$$y_{it} - \\bar{y}_{i} = (x_{it}-\\bar{x}_{i})'\\beta + (u_{it}-\\bar{u}_{i})$$\n",
    "\n",
    "para $t=1,...,T$ e $i=1,...,N$.\n",
    "\n",
    "* Considerando o modelo de painel Within, $E[Z_{is} u_{𝑖}] \\neq 0$ para todo $s$, porque a média do termo de erro inclui o passado (o presente e o futuro), logo é correlacionado com $Z_{is}$ por construção.\n",
    "\n",
    "* O estimador **IV de modelo Within leva à estimações inconsistentes de beta** se os instrumentos são fracamente exógenos, até mesmo se eles satisfazem as hipóteses de exogeneidade contemporânea. Logo, **a transformação within somente pode ser usada se os instrumentos são realmente fortemente exógenos (ou com Instrumentos Excluídos)**.\n"
   ]
  },
  {
   "cell_type": "markdown",
   "id": "9c37ed5f",
   "metadata": {},
   "source": [
    "Logo, é teoricamente possível utilizar variáveis defasaadas como instrumentos para variáveis endógenas. Entretanto, é preciso lembrar que para controlar corretamente o efeito fixo individual, apenas os modelos LSVD e de primeira diferenças são adequados. O modelo within não é adequado porque a média do termo de erro inclui o passado (o presente e o futuro), logo é correlacionado com $Z_{is}$."
   ]
  },
  {
   "cell_type": "markdown",
   "id": "5566ec60",
   "metadata": {},
   "source": [
    "### Modelos Dinâmicos\n",
    "\n",
    "Em algumas discussões teóricas, argumenta-se que o comportamento econômico pode ser influenciado pelo passado recente. Por exemplo, o consumo pode apresentar padrões devido à razões psicológicas, onde as pessoas não mudam seus hábitos de forma imediata. Além disso, as razões tecnológicas ou institucionais também contam para a natureza dinâmica em uma relação econométrica. Logo, se justificaria o tempo para ajustar o novo padrão de consumo. Ou seja, a variável dependente defasada considerada dentro do modelo de regressão agregaria um peso da história a estimação (modelo dinâmico). \n",
    "\n",
    "Além disso, a estrutura dinâmica permitiria estimação de **efeitos de curto** e **longo prazos**.\n"
   ]
  },
  {
   "cell_type": "markdown",
   "id": "6ad5a770",
   "metadata": {},
   "source": [
    "O modelo dinâmico é dado por:\n",
    "\n",
    "$$y_{it} = \\rho y_{it-1} + x_{it}'\\beta + \\alpha_{i} +u_{it}$$\n",
    "\n",
    "para $t=2,...,T$ e $i=1,...,N$. \n",
    "\n",
    "Repare que estamos modelando a variável dependente como uma função de seu próprio passado e de regressores contemporâneos e os efeitos fixos individuais. Como de costume, o painel é curto com dados independentes em $i$. Também é assumido que $|\\rho|<1$. Mesmo que $\\alpha_{i}$ seja um efeito aleatório, a estimação OLS leva à coeficientes inconsistentes porque a variável dependente defasada é correlacionada com $\\alpha_{i}$, e com o erro composto ($\\alpha_{i} + \\epsilon_{it}$).\n",
    "\n",
    "\n",
    "Para o desenvolvimento dos estimadores, vamos considerar estimações com $\\alpha_{i}$ como efeito-fixo, $|\\rho|<1$, erro $\\epsilon_{it}$ não serialmente correlacionado, e painel curto(estrutura de aplicações microeconômicas).\n",
    "\n"
   ]
  },
  {
   "cell_type": "markdown",
   "id": "43ee5b16",
   "metadata": {},
   "source": [
    "Por simplicidade, seja beta igual a zero, então:\n",
    "\n",
    "$$y_{it} = \\rho y_{it-1} + \\alpha_{i} +u_{it}$$\n",
    "\n",
    "Teoricamente, \n",
    "$$E[y_{it}|y_{it-1},\\alpha_{i}] = \\rho y_{it-1} + \\alpha_{i}$$\n",
    "\n",
    "e, \n",
    "\n",
    "$$corr(y_{it},y_{it-1}) = \\rho$$\n",
    "\n",
    "Entretanto, como $\\alpha_{i}$ é desconhecido, e observamos:\n",
    "\n",
    "$$E[y_{it}|y_{it-1}, \\alpha_{i}] = \\rho y_{it-1} + E[\\alpha_{i}|y_{it-1}]$$\n",
    "\n",
    "Isso implica que\n",
    "\n",
    "$$ corr(y_{it},y_{it-1}) \\neq \\rho$$\n",
    "\n",
    "Porque, para o caso de beta igual a zero (depois de alguma álgebra), teremos:\n",
    "\n",
    "$$corr(y_{it},y_{it-1}) = corr[(\\rho y_{it-1} + \\alpha_{i} + u_{it}),y_{it-1}] = \\rho + \\frac{(1-\\rho)}{1+(1-\\rho)\\sigma_{\\epsilon}^{2}/(1+\\rho)\\sigma_{\\alpha}^{2}}$$\n",
    "\n",
    "Esse resultado mostra que há duas razões para a correlação entre $y_{it}$ e $y_{it-1}$:\n",
    "\n",
    "* **Um verdadeiro estado de dependência** que ocorre quando a correlação no tempo é devido ao mecanismo causal em que o período defasado determina o período atual. Essa dependência é relativamente maior se o efeito individual $\\alpha_{i}$ for aproximadamente zero assim como $corr(y_{it},y_{it-1})$ for aproximadamente igual a $\\rho$. Mais geralmente, isso ocorre quando $\\sigma^{2}_{\\alpha}$ é menor relativo à $\\sigma^{2}_{\\epsilon}$.\n",
    "* **Devido à heterogeneidade não observada**: que surge mesmo se não houver mecanismo causal, $\\rho=0$, mesmo assim há correlação simplificando a relação em $\\frac{1}{1+\\frac{\\sigma^{2}_{\\epsilon}}{\\sigma_{\\alpha}^{2}}}= \\frac{\\sigma^{2}_{\\alpha}}{(\\sigma^{2}_{\\alpha}+\\sigma^{2}_{\\epsilon})}$. "
   ]
  },
  {
   "cell_type": "markdown",
   "id": "e86b39bf",
   "metadata": {},
   "source": [
    "**Inconsistência dos estimadores em Painel Clássicos**\n",
    "\n",
    "Todos os estimadores vistos anteriormente são inconsistentes se a regressão apresentar variável dependente defasada, mesmo no caso do modelo de efeitos aleatórios.\n",
    "\n",
    "* Considere o estimador POLS de $𝑦_𝑖𝑡$ sobre $y_{it−1}$ e $x_{it}$. A variável dependente é correlacionada com o termo de erro conjunto ($\\alpha_𝑖 + \\epsilon_{𝑖𝑡}$).\n",
    "* Considere o estimador Within, o regressor ($𝑦_{𝑖𝑡−1} − \\bar{𝑦}_{𝑖}$) é correlacionado com o erro ($\\epsilon_{𝑖𝑡} − \\bar{\\epsilon}_{𝑖}$) porque é correlacionado com $\\epsilon_{𝑖𝑡−1}$ que está em sua média $\\bar{\\epsilon}_{i}$\n",
    "* E do estimador **Random effects** porque é uma **combinação dos estimadores between e within**.\n"
   ]
  },
  {
   "cell_type": "markdown",
   "id": "d0e8441b",
   "metadata": {},
   "source": [
    "#### Dynamic Panel Data (Arellano-Bond estimator)\n",
    "\n",
    "Considerando a primeira diferença do modelo dinâmico:\n",
    "\n",
    "$$(y_{it}- y_{it-1}) = \\rho (y_{it-1} - y_{it-2}) + (x_{it} - x_{it-1})'\\beta + (\\alpha_{i} - \\alpha_{i}) + (\\epsilon_{it} - \\epsilon_{it-1})$$\n",
    "\n",
    "$i=1,...,N$ e $t=3,...,T$.\n",
    "\n",
    "O estimador OLS é inconsistente porque $y_{it-1}$ é correlacionado com $\\epsilon_{it-1}$, logo o regressor ($y_{it-1} - y_{it-2}$) é correlacionado com o erro ($\\epsilon_{it} - \\epsilon_{it-1}$). Implicando em endogeneidade por construção.\n",
    "\n",
    "**Anderson e Hsiao (1981)** propuseram estimar a equação com $y_{it-2}$ como instrumento para $y_{it-1} - y_{it-2}$. O instrumento é válido porque não está correlacionado com o erro ($\\epsilon_{it} - \\epsilon_{it-1}$), desde que o termo de erro não seja serialmente correlacionado. Outro instrumento proposto foi o $\\Delta y_{it-2}$, como instrumento para $\\Delta y_{it-1}$.\n",
    "\n",
    "**Arellano e Bond (1991)** propuseram um estimador GMM para o modelo dinâmico. **A ideia é adicionar mais defasagens da variável dependente como instrumentos**. Por exemplo, $y_{it-2}, y_{it-3},...,y_{it-s}$, onde $s$ é o número de defasagens da variável dependente. Dessa forma é possivel obter um estimador sobreidentificado, para buscar uma estimação teoricamente mais eficiente. Repare que o número de instrumentos cresce a medida que o tempo se aproxima de $T$. Por exemplo, no período 3 temos somente o instrumento $y_{it-1}$. No período 4 temos $y_{it-1}$ e $y_{it-2}$, no período 5 teremos, $y_{it-1}$, $y_{it-2}$ e $y_{it-3}$, e assim por diante. \n",
    "\n",
    "\n",
    "O estimador GMM de Arellano-Bond é dado por:\n",
    "\n",
    "$$\\hat{\\beta}_{AB} =  \\left [ \\left (  \\sum_{i}^{N} \\tilde{X}_{i}´Z_{i} \\right ) W_{N} \\left (  \\sum_{i}^{N} Z_{i}´\\tilde{X}_{i}\\right )\\right]^{-1} \\left (  \\sum_{i}^{N} \\tilde{X}_{i}´Z_{i} \\right ) W_{N} \\left (  \\sum_{i}^{N} Z_{i}´\\tilde{y}_{i} \\right )$$\n",
    "\n",
    "onde $\\tilde{X}_{i}$ é uma matriz (T-2)x(K+1) com a linha ($\\Delta y_{i,t-1}, \\Delta x_{it}´$), $t=3,...T$, $\\tilde{y}_{i}$ é um vetor (T-2)x1 com a linha ($\\Delta y_{i,t}$), $t=3,...T$, e $Z_{i}$ é uma matriz de instrumentos (T-2)xr \n",
    "\n",
    "$$ Z_{i} = \\begin{bmatrix} \n",
    "z_{i3}´ & 0 & ... & 0 \\\\ \n",
    "0 & z_{i4}´ & ... & 0 \\\\ \n",
    "\\vdots & \\vdots & \\vdots & \\vdots \\\\ \n",
    "0 & 0 & ... & z_{iT}´ \\\\ \n",
    "\\end{bmatrix}$$"
   ]
  },
  {
   "cell_type": "markdown",
   "id": "d110ab2e",
   "metadata": {},
   "source": [
    "No arcabouço de Anderson-Hsiao, as variáveis defasadas em 2 períodos aparecem da seguinte forma na matriz de instrumento(s) (excluído(s)):\n",
    "\n",
    "$$ Z_{i} = \\begin{pmatrix}\n",
    ". \\\\\n",
    "y_{i,1} \\\\\n",
    "\\vdots  \\\\\n",
    "y_{i,T-2} \\\\\n",
    "\\end{pmatrix}\n",
    "$$\n",
    "\n",
    "\n",
    "Onde a primeira linha corresponde à $t=2$, dado que a primeira observação é perdida pela aplicação da primeira diferença. O valor “missing” no instrumento para $t=2$ implica na remoção da observação na estimação. Se também incluirmos a terceira defasagem como um segundo instrumento no arcabouço de Anderson-Hsiao, nós perderemos outra observação no painel:\n",
    "\n",
    "$$\n",
    "Z_{i} = \\begin{pmatrix}\n",
    ". & . \\\\\n",
    "y_{i,1} & . \\\\\n",
    "y_{i,2} &  y_{i,1}\\\\\n",
    "\\vdots & \\vdots \\\\\n",
    "y_{i,T-2} & y_{i,T-3} \\\\\n",
    "\\end{pmatrix}\n",
    "$$ \n",
    "\n",
    "Então a primeira observação disponível para a regressão é para $t=4$; Para lidar com isso, Holtz-Eakin et al. (1988); Construiram um conjunto de instrumentos a partir da segunda defasagem de $y$, de modo que cada instrumento pertence a cada período:\n",
    "\n",
    "$$\n",
    "Z_{i} = \\begin{pmatrix}\n",
    "0 & 0 & 0 & 0 \\\\\n",
    "y_{i,1} & 0 & 0 & 0 \\\\\n",
    "0 & y_{i,2} & 0 & 0 \\\\\n",
    "\\vdots & \\vdots & \\vdots & \\vdots \\\\\n",
    "0 & 0 & 0 & y_{i,T-2} \\\\\n",
    "\\end{pmatrix}\n",
    "$$\n",
    "\n",
    "A inclusão dos zeros no lugar dos valores “missing´s” previne a perda de graus de liberdade, onde todas as observações datadas em t=2 e anteriores podem ser incluídas na regressão. A condição de momento resultante corresponde: $𝐸(𝑦_{𝑖,𝑡−2} \\epsilon_{𝑖𝑡})=0$. A matriz vista anteriormente também deve ser válida se colapsarmos as colunas (“collapse”) de Z em uma única coluna, a qual incorpora a mesma expectativa anterior, produzindo um única condição de momento. Nesse sentido, o conjunto dos instrumentos colapsados será o mesmo que o IV padrão, com zero em substituição aos dados missing.\n",
    "\n",
    "$$\n",
    "Z_{i} = \\begin{pmatrix}\n",
    "0 \\\\\n",
    "y_{i,1} \\\\\n",
    "y_{i,2} \\\\\n",
    "\\vdots \\\\\n",
    "y_{i,T-2} \\\\\n",
    "\\end{pmatrix}\n",
    "$$\n",
    "\n",
    "Por outro lador, poderíamos incluir **todas as variáveis defasadas disponíveis**.\n",
    "\n",
    "$$\n",
    "Z_{i} = \\begin{pmatrix}\n",
    "0 & 0 & 0 & 0 & 0 & 0 & \\vdots \\\\\n",
    "y_{i,1} & 0 & 0 & 0 & 0 & 0 & \\vdots \\\\\n",
    "0 & y_{i,2} & y_{i,1} & 0 & 0 & 0 & \\vdots \\\\\n",
    "0 & 0 & 0 & y_{i,3} & y_{i,2} & y_{i,1} & \\vdots \\\\\n",
    "\\vdots & \\vdots & \\vdots & \\vdots & \\vdots & \\vdots & \\vdots \\\\\n",
    "0 & 0 & 0 & 0 & 0 & 0 & \\vdots \\\\\n",
    "\\end{pmatrix}\n",
    "$$\n",
    "\n",
    "Temos diferentes instrumentos disponíveis para cada período, um para o período $t=2$; dois para o período $t=3$; e assim por diante. Uma **desvantagem dessa estratégia** é que o número de instrumentos produzidos será quadrático em T. Para uma dimensão temporal mais longa (T>10, por exemplo) é necessário restringir o numero de defasagens utilizadas.\n",
    "\n",
    "O estimador em **Painel GMM dinâmico em diferença** com a matriz de instrumentos descrita anteriormente é conhecido como **Difference GMM**. \n",
    "\n",
    "\n",
    "**Quando utilizar o Estimador Arellano-Bond (Diff-GMM)?**\n",
    "\n",
    "* T pequeno, e N Grande.\n",
    "* Relação funcional linear;\n",
    "* Dinâmica da variável dependente;\n",
    "* Existência de variáveis explicativas não estritamente exógenas (podem ser correlacionadas com o passado e, ou, com o termo de erro).\n",
    "* Efeito fixo;\n",
    "* Heterocedasticidade e autocorrelação dentro dos erros das unidades individuais, mas não entre elas.\n",
    "\n",
    "\n",
    "**Situações onde o modelo Diff-GMM não provê boas estimações:**\n",
    "\n",
    "* **Sob heterocedasticidade:** então utilizamos o estimador two-step GMM. Este é robusto à heterocedasticidade, entretanto os erros padrão são enviesados para baixo. Entretanto, este problema foi resolvido por **Windmeijer (2005)**, o qual propôs uma **correção para o estimador two-step GMM**.\n",
    "* **Quando se utiliza regressores invariantes no tempo:** A primeira diferença elimina todas os regressores constantes. (veremos que o System GMM resolve esse problema de forma colateral).\n",
    "* Quando $y$ se aproxima de um passeio aleatório, o Diff-GMM performa fracamente. Porque as defasagens adicionam pouca informação sobre as mudanças futuras, então as defasagens em nível são instrumentos fracos para as variáveis transformadas. \n",
    "* Uma fraqueza adicional do estimador Diff-GMM ocorre quando o painel é desbalanceado, de modo que se perde informação devido aos dados missing. \n",
    "\n",
    "\n",
    "\n",
    "\n",
    "\n"
   ]
  },
  {
   "cell_type": "markdown",
   "id": "589a2ea1",
   "metadata": {},
   "source": [
    "#### System GMM - Blundel-Bond estimator\n",
    "\n",
    "Além de utilizar a equação em diferenças (e suas defasagens em nível como instrumentos), o estimador de Blundel-Bond (1998) também considera a equação em nível utilizando as diferenças defasadas como instrumentos. Implicando em um conjunto adicional de instrumentos. Este estimador é chamado de System GMM.\n",
    "\n",
    "* Assume que $𝐸[\\Delta y_{𝑖𝑡} \\alpha_𝑖 ]=0$ para todo $i$. \n",
    "* Então, $\\Delta 𝑦_{𝑖𝑡}$ é um instrumento válido. A equação em nível é instrumentalizada pelas diferenças. \n",
    "* A hipótese é válida para erros não serialmente correlacionados.\n",
    "\n",
    "\n",
    "**Em suma**:\n",
    "\n",
    "* O estimador **Difference GMM de Arellano e Bond (1991) mostrou ter fracas propriedades para amostra finita** (em termos de viés e imprecisão) no caso em que as séries são altamente persistentes ou se a variância do efeito específico individual é grande em relação à variância do erro (ver Blundell e Bond, 1998). Nesses casos, os níveis defasados ​​da série são apenas fracamente correlacionados com as primeiras diferenças subsequentes, levando a instrumentos fracos. A fraqueza do instrumento, por sua vez, aumenta a variância dos coeficientes e, em amostras relativamente pequenas, é provável que gere estimativas enviesadas. \n",
    "\n",
    "* **A recomendação é o estimador System GMM** de Blundell e Bond (1998). É importante lembrar que uma **proliferação de instrumentos** pode superestimar as variáveis ​​endógenas e levar a uma perda de poder na inferência, mas pode-se **restringir o comprimento máximo dos instrumentos defasados**. \n",
    "\n",
    "* Em geral, os ganhos da estimação SYS-GMM em relação ao estimador de Diff-GMM são mais acentuadas quando as unidades de painel (N) são grandes (>30) e os períodos de tempo (T) são moderadamente pequeno (entre 10 e 20/25).\n",
    "\n"
   ]
  },
  {
   "cell_type": "markdown",
   "id": "21983e8e",
   "metadata": {},
   "source": [
    "#### Testes de Diagnósticos\n",
    "\n",
    "**Teste de autocorrelação de Arellano-Bond**\n",
    "Se os erros são serialmente não correlacionados, esperamos:\n",
    "* **rejeitar a hipótese de não existência de correlação para a primeira ordem, AR(1)**\n",
    "* **Aceitar a hipótese nula para as ordens superiores, AR(2)**. \n",
    "* Isto é, é esperado que o AR(1) seja estatísticamente diferente de zero porque $D.u_{it} = u_{it} – u_{it-1}$ deve se correlacionar com $D.u_{it-1} = u_{it-1} – u_{it-2}$ , porque eles compartilham o termo $u_{it-1}$.\n",
    "\n",
    "**Teste de sobreidentificação de Hansen/Sargan** (Validação dos instrumentos)\n",
    "\n",
    "Testa-se se os instrumentos, como um grupo/conjunto, são exógenos.\n",
    "\n",
    "* Sargan (one-step, non-robust)\n",
    "* Hansen (two-step, robust)\n",
    "* Difference in Hansen/Sargan test: Testa se as condições de momento adicionais do SYS-GMM são ortogonais ao erro. (Ho: os instrumentos adicionais são válidos)"
   ]
  },
  {
   "cell_type": "markdown",
   "id": "3a264b96",
   "metadata": {},
   "source": [
    "Antes de realizar as aplicações, vejamos nossas opções para regressão dos modelos dinâmicos em painel.\n",
    "\n",
    "Lembre que o estimador **one-step** GMM assume uma matriz de pesos $W=(Z´Z)^{-1}$ , tornando-se no 2SLS. Já o Two-Step GMM assume $W=\\hat{S}^{-1}$ onde $\\hat{S}=\\frac{1}{n}\\sum Z_{i}´\\hat{u}_{i}\\hat{u}_{i}´Z_{i}$. É chamado de Two-step GMM porque no primeiro estágio obtem-se os resíduos por 2SLS para compor $\\hat{S}$, e no segundo estágio utiliza-se $\\hat{S}$ para obter o estimador GMM. \n",
    "\n",
    "Então, podemos aplicar o One-step e o Two-Step GMM para o modelo em diferença (Difference GMM - Arellano-Bond) e para o sistema (nível e diferença) (System GMM - Blundel-Bond)."
   ]
  },
  {
   "cell_type": "markdown",
   "id": "a50b7bbd",
   "metadata": {},
   "source": [
    "#### Aplicação em Python\n",
    "\n",
    "O pacote para aplicação de painel dinâmico no no Python pode ser encontrado aqui: https://pypi.org/project/pydynpd/ . O pacote reporta erros padrão robustos para estimadores one-step e two-step (corrigidos conforme Windmeijer, 2005 ).\n",
    "\n",
    "Vamos utilizar os dados empregados no exemplo do próprio pacote. São os dados do artigo de Arellano e Bond (1991). É um painel desbalanceado com 140 empresas ao longo de 9 anos (1976-1984).\n",
    "\n",
    "$$ n_{it} = \\rho n_{i,t-1} + \\rho n_{it-2} + \\beta w_{it} + \\delta k_{it} + \\alpha_{i} + \\epsilon_{it}$$\n",
    "\n",
    "onde, $n$, $w$, e $k$ são o ln do emprego, salário e capital, respectivamente. $\\alpha_{i}$ é o efeito fixo individual, e $\\epsilon_{it}$ é o erro idiocincrático.\n",
    "\n",
    "Hipóteses:\n",
    "\n",
    "* Vamos supor que $w$ e $k$ são variáveis estritamente exógena (independentes das demais).\n",
    "* É possivel classificar as variáveis como predeterminadas (valor é conhecido ou determinado antes do período de análise; são aquelas que não são influenciadas pelas outras variáveis do modelo no período em análise).\n",
    "\n",
    "Para estimar o modelo importamos os dados."
   ]
  },
  {
   "cell_type": "code",
   "execution_count": 57,
   "id": "42a59ed4",
   "metadata": {},
   "outputs": [
    {
     "name": "stdout",
     "output_type": "stream",
     "text": [
      "   Unnamed: 0   c1  ind  year    emp     wage     cap    indoutpt         n  \\\n",
      "0           1  1-1    7  1977  5.041  13.1516  0.5894   95.707199  1.617604   \n",
      "1           2  2-1    7  1978  5.600  12.3018  0.6318   97.356903  1.722767   \n",
      "2           3  3-1    7  1979  5.015  12.8395  0.6771   99.608299  1.612433   \n",
      "3           4  4-1    7  1980  4.715  13.8039  0.6171  100.550102  1.550749   \n",
      "4           5  5-1    7  1981  4.093  14.2897  0.5076   99.558098  1.409278   \n",
      "\n",
      "          w  ...      ysL2  yr1976  yr1977  yr1978  yr1979  yr1980  yr1981  \\\n",
      "0  2.576543  ...       NaN       0       1       0       0       0       0   \n",
      "1  2.509746  ...       NaN       0       0       1       0       0       0   \n",
      "2  2.552526  ...  4.561294       0       0       0       1       0       0   \n",
      "3  2.624951  ...  4.578383       0       0       0       0       1       0   \n",
      "4  2.659539  ...  4.601245       0       0       0       0       0       1   \n",
      "\n",
      "   yr1982  yr1983  yr1984  \n",
      "0       0       0       0  \n",
      "1       0       0       0  \n",
      "2       0       0       0  \n",
      "3       0       0       0  \n",
      "4       0       0       0  \n",
      "\n",
      "[5 rows x 31 columns]\n"
     ]
    }
   ],
   "source": [
    "# pacotes\n",
    "import pandas as pd\n",
    "from  pydynpd import regression\n",
    "# dados\n",
    "df = pd.read_csv(\"data.csv\")\n",
    "print(df.head())"
   ]
  },
  {
   "cell_type": "markdown",
   "id": "69bfb13e",
   "metadata": {},
   "source": [
    "Vamos entender os componentes do comando que será empregado.\n",
    "\n",
    "* Na primeira parte teremos a indicação da regressão dinâmica, onde o primeiro termo é a variável dependente e os lags das variáveis dependentes (defasagens) são indicados por L1.n e L2.n, que são as defasagens de n em 1 e 2 períodos, respectivamente, além das demais variáveis explicativas.\n",
    "\n",
    "* Na segunda parte indicamos como os instrumentos são criados. Podemos usar o segundo e o terceiro lag da variável dependente (por exemplo, L2.n e L3.n) como instrumentos, então incluímos a lista gmm: $gmm(n, 2:3)$. Ou apenas indicar a variável endógena (endo(n)). Se acreditamos que a variável $w$ é predeterminada e usamos o primeiro e os lags subsequentes como instrumentos (por exemplo, L1.w, L2.W, ...), Assim, incluímos uma segunda lista gmm: $gmm(w, 1:.)$ o ponto significa que não há restrição com respeito ao máximo de lags que podem ser incluídos. Entretanto, se supormos que ela seja predeterminada, indicamos pred(w), por exemplo. Se supomos que $k$ é estritamente exógeno, então na lista de IV, indicamos $iv(k)$. Isso mostra ao pacote para usar $k$ como instrumento para si mesmo.\n",
    "* A terceira parte do comando é indicada as opções para estimação:\n",
    "  * **one-step**: performa o estimador One-step GMM.\n",
    "  * **nolevel**: performa somente o difference GMM.\n",
    "  * **iterated**: performa a estimação GMM iterativa (Iterated Efficient GMM - usa o two-step efficient GMM estimator, O processo é repetido (iterado) até que as estimativas de $\\hat{g}(\\hat{S}^{-1}(\\hat{W}))$ não mudem significativamente de uma iteração para outra. Pesquisas recentes aprofundam o estimador: Econometrica, Vol.89, No.3 (May,2021), 1419–1447).\n",
    "  * **timedumm**: inclui automaticamente variáveis dummies na primeira parte, e a declaração iv na segunda.\n",
    "  * **hqic**: se houver vários modelos concorrentes, classifique-os por hqic em vez de pelo bic padrão.\n",
    "  * **collapse**: colapse os instrumentos para reduzir o problema de muitos instrumentos.\n",
    "  \n",
    "* Finalmente, colocamos todos juntos."
   ]
  },
  {
   "cell_type": "code",
   "execution_count": 59,
   "id": "5a3249e6",
   "metadata": {},
   "outputs": [
    {
     "name": "stdout",
     "output_type": "stream",
     "text": [
      " Dynamic panel-data estimation, one-step difference GMM\n",
      " Group variable: id                              Number of obs = 751     \n",
      " Time variable: year                             Min obs per group: 5    \n",
      " Number of instruments = 9                       Max obs per group: 7    \n",
      " Number of groups = 140                          Avg obs per group: 5.36 \n",
      "+------+------------+---------------------+------------+-----------+-----+\n",
      "|  n   |   coef.    | Corrected Std. Err. |     z      |   P>|z|   |     |\n",
      "+------+------------+---------------------+------------+-----------+-----+\n",
      "| L1.n | 0.8436831  |      0.1399704      | 6.0275826  | 0.0000000 | *** |\n",
      "|  w   | -0.6277566 |      0.1972370      | -3.1827528 | 0.0014588 |  ** |\n",
      "|  k   | 0.2224798  |      0.0560811      | 3.9671102  | 0.0000727 | *** |\n",
      "+------+------------+---------------------+------------+-----------+-----+\n",
      "Hansen test of overid. restrictions: chi(6) = 21.428 Prob > Chi2 = 0.002\n",
      "Arellano-Bond test for AR(1) in first differences: z = -3.36 Pr > z =0.001\n",
      "Arellano-Bond test for AR(2) in first differences: z = -1.27 Pr > z =0.206\n",
      "\n"
     ]
    }
   ],
   "source": [
    "# One-Step Difference GMM\n",
    "One_Step_Diff_GMM = regression.abond('n L1.n w k | endo(n) iv(w k) | onestep nolevel collapse', df, ['id', 'year'])"
   ]
  },
  {
   "cell_type": "code",
   "execution_count": 60,
   "id": "c26de609",
   "metadata": {},
   "outputs": [
    {
     "data": {
      "text/html": [
       "<div>\n",
       "<style scoped>\n",
       "    .dataframe tbody tr th:only-of-type {\n",
       "        vertical-align: middle;\n",
       "    }\n",
       "\n",
       "    .dataframe tbody tr th {\n",
       "        vertical-align: top;\n",
       "    }\n",
       "\n",
       "    .dataframe thead th {\n",
       "        text-align: right;\n",
       "    }\n",
       "</style>\n",
       "<table border=\"1\" class=\"dataframe\">\n",
       "  <thead>\n",
       "    <tr style=\"text-align: right;\">\n",
       "      <th></th>\n",
       "      <th>variable</th>\n",
       "      <th>coefficient</th>\n",
       "      <th>std_err</th>\n",
       "      <th>z_value</th>\n",
       "      <th>p_value</th>\n",
       "      <th>sig</th>\n",
       "    </tr>\n",
       "  </thead>\n",
       "  <tbody>\n",
       "    <tr>\n",
       "      <th>0</th>\n",
       "      <td>L1.n</td>\n",
       "      <td>0.843683</td>\n",
       "      <td>0.139970</td>\n",
       "      <td>6.027583</td>\n",
       "      <td>1.664302e-09</td>\n",
       "      <td>***</td>\n",
       "    </tr>\n",
       "    <tr>\n",
       "      <th>1</th>\n",
       "      <td>w</td>\n",
       "      <td>-0.627757</td>\n",
       "      <td>0.197237</td>\n",
       "      <td>-3.182753</td>\n",
       "      <td>1.458821e-03</td>\n",
       "      <td>**</td>\n",
       "    </tr>\n",
       "    <tr>\n",
       "      <th>2</th>\n",
       "      <td>k</td>\n",
       "      <td>0.222480</td>\n",
       "      <td>0.056081</td>\n",
       "      <td>3.967110</td>\n",
       "      <td>7.274936e-05</td>\n",
       "      <td>***</td>\n",
       "    </tr>\n",
       "  </tbody>\n",
       "</table>\n",
       "</div>"
      ],
      "text/plain": [
       "  variable  coefficient   std_err   z_value       p_value  sig\n",
       "0     L1.n     0.843683  0.139970  6.027583  1.664302e-09  ***\n",
       "1        w    -0.627757  0.197237 -3.182753  1.458821e-03   **\n",
       "2        k     0.222480  0.056081  3.967110  7.274936e-05  ***"
      ]
     },
     "execution_count": 60,
     "metadata": {},
     "output_type": "execute_result"
    }
   ],
   "source": [
    "One_Step_Diff_GMM.models[0].regression_table"
   ]
  },
  {
   "cell_type": "code",
   "execution_count": 61,
   "id": "bbef3b76",
   "metadata": {},
   "outputs": [
    {
     "name": "stdout",
     "output_type": "stream",
     "text": [
      "-4.015923039631502\n",
      "6.027582550565978\n",
      "-8.432994982004542\n"
     ]
    }
   ],
   "source": [
    "rho = One_Step_Diff_GMM.models[0].regression_table.iloc[0]['coefficient']\n",
    "w_beta = One_Step_Diff_GMM.models[0].regression_table.iloc[1]['coefficient']\n",
    "lr_w_beta = w_beta / (1 - rho)\n",
    "print(lr_w_beta)\n",
    "\n",
    "erro_padrao_rho = One_Step_Diff_GMM.models[0].regression_table.iloc[0]['std_err']\n",
    "estatistica_z = rho / erro_padrao_rho\n",
    "estatistica_z\n",
    "print(estatistica_z)\n",
    "\n",
    "erro_padrao_w = One_Step_Diff_GMM.models[0].regression_table.iloc[1]['std_err']\n",
    "erro_padrao_longo_prazo_w = erro_padrao_w / ((1 - w_beta) ** 2)\n",
    "estatistica_z_w = w_beta / erro_padrao_longo_prazo_w\n",
    "print(estatistica_z_w)"
   ]
  },
  {
   "cell_type": "code",
   "execution_count": 62,
   "id": "9d2d9c4d",
   "metadata": {},
   "outputs": [
    {
     "name": "stdout",
     "output_type": "stream",
     "text": [
      " Dynamic panel-data estimation, two-step difference GMM\n",
      " Group variable: id                              Number of obs = 751     \n",
      " Time variable: year                             Min obs per group: 5    \n",
      " Number of instruments = 9                       Max obs per group: 7    \n",
      " Number of groups = 140                          Avg obs per group: 5.36 \n",
      "+------+------------+---------------------+------------+-----------+-----+\n",
      "|  n   |   coef.    | Corrected Std. Err. |     z      |   P>|z|   |     |\n",
      "+------+------------+---------------------+------------+-----------+-----+\n",
      "| L1.n | 0.6989810  |      0.1282409      | 5.4505313  | 0.0000001 | *** |\n",
      "|  w   | -0.7691985 |      0.1041913      | -7.3825596 | 0.0000000 | *** |\n",
      "|  k   | 0.2408001  |      0.0659494      | 3.6512839  | 0.0002609 | *** |\n",
      "+------+------------+---------------------+------------+-----------+-----+\n",
      "Hansen test of overid. restrictions: chi(6) = 21.428 Prob > Chi2 = 0.002\n",
      "Arellano-Bond test for AR(1) in first differences: z = -2.77 Pr > z =0.006\n",
      "Arellano-Bond test for AR(2) in first differences: z = -1.39 Pr > z =0.166\n",
      "\n"
     ]
    }
   ],
   "source": [
    "# Two-Step Diff GMM\n",
    "Two_Step_Diff_GMM = regression.abond('n L1.n w k | endo(n) iv(w k)| nolevel collapse', df, ['id', 'year'])"
   ]
  },
  {
   "cell_type": "code",
   "execution_count": 63,
   "id": "5ca2a7fd",
   "metadata": {},
   "outputs": [
    {
     "name": "stdout",
     "output_type": "stream",
     "text": [
      " Dynamic panel-data estimation, one-step system GMM\n",
      " Group variable: id                               Number of obs = 751     \n",
      " Time variable: year                              Min obs per group: 5    \n",
      " Number of instruments = 11                       Max obs per group: 7    \n",
      " Number of groups = 140                           Avg obs per group: 5.36 \n",
      "+------+------------+---------------------+------------+-----------+----+\n",
      "|  n   |   coef.    | Corrected Std. Err. |     z      |   P>|z|   |    |\n",
      "+------+------------+---------------------+------------+-----------+----+\n",
      "| L1.n | 0.5607060  |      0.1789877      | 3.1326509  | 0.0017324 | ** |\n",
      "|  w   | -0.2440339 |      0.1038804      | -2.3491803 | 0.0188148 | *  |\n",
      "|  k   | 0.3595693  |      0.1390491      | 2.5859162  | 0.0097121 | ** |\n",
      "| _con | 1.3593874  |      0.4831933      | 2.8133406  | 0.0049030 | ** |\n",
      "+------+------------+---------------------+------------+-----------+----+\n",
      "Hansen test of overid. restrictions: chi(7) = 29.449 Prob > Chi2 = 0.000\n",
      "Arellano-Bond test for AR(1) in first differences: z = -1.50 Pr > z =0.133\n",
      "Arellano-Bond test for AR(2) in first differences: z = -0.39 Pr > z =0.694\n",
      "\n"
     ]
    }
   ],
   "source": [
    "# One-Step System GMM\n",
    "One_Step_Sys_GMM = regression.abond('n L1.n w k | endo(n) iv(w k) | onestep collapse', df, ['id', 'year'])"
   ]
  },
  {
   "cell_type": "code",
   "execution_count": 64,
   "id": "25b9d7b6",
   "metadata": {},
   "outputs": [
    {
     "name": "stdout",
     "output_type": "stream",
     "text": [
      " Dynamic panel-data estimation, two-step system GMM\n",
      " Group variable: id                               Number of obs = 751     \n",
      " Time variable: year                              Min obs per group: 5    \n",
      " Number of instruments = 11                       Max obs per group: 7    \n",
      " Number of groups = 140                           Avg obs per group: 5.36 \n",
      "+------+------------+---------------------+------------+-----------+-----+\n",
      "|  n   |   coef.    | Corrected Std. Err. |     z      |   P>|z|   |     |\n",
      "+------+------------+---------------------+------------+-----------+-----+\n",
      "| L1.n | 0.5103802  |      0.1481366      | 3.4453352  | 0.0005704 | *** |\n",
      "|  w   | -0.3683856 |      0.1544791      | -2.3846950 | 0.0170933 |  *  |\n",
      "|  k   | 0.4036385  |      0.1164868      | 3.4651001  | 0.0005300 | *** |\n",
      "| _con | 1.8120008  |      0.6299040      | 2.8766298  | 0.0040195 |  ** |\n",
      "+------+------------+---------------------+------------+-----------+-----+\n",
      "Hansen test of overid. restrictions: chi(7) = 29.449 Prob > Chi2 = 0.000\n",
      "Arellano-Bond test for AR(1) in first differences: z = -1.81 Pr > z =0.070\n",
      "Arellano-Bond test for AR(2) in first differences: z = -0.51 Pr > z =0.611\n",
      "\n"
     ]
    }
   ],
   "source": [
    "# Two-Step System GMM\n",
    "Two_Step_Sys_GMM1 = regression.abond('n L1.n w k | endo(n) iv(w k) | collapse', df, ['id', 'year'])"
   ]
  },
  {
   "cell_type": "markdown",
   "id": "adc26546",
   "metadata": {},
   "source": [
    "Vamos restringir o número de lags para a variável dependente defasada de 2 a 3."
   ]
  },
  {
   "cell_type": "code",
   "execution_count": 65,
   "id": "05b468ee",
   "metadata": {},
   "outputs": [
    {
     "name": "stdout",
     "output_type": "stream",
     "text": [
      " Dynamic panel-data estimation, two-step system GMM\n",
      " Group variable: id                              Number of obs = 751     \n",
      " Time variable: year                             Min obs per group: 5    \n",
      " Number of instruments = 6                       Max obs per group: 7    \n",
      " Number of groups = 140                          Avg obs per group: 5.36 \n",
      "+------+------------+---------------------+------------+-----------+-----+\n",
      "|  n   |   coef.    | Corrected Std. Err. |     z      |   P>|z|   |     |\n",
      "+------+------------+---------------------+------------+-----------+-----+\n",
      "| L1.n | 0.8693642  |      0.1208382      | 7.1944474  | 0.0000000 | *** |\n",
      "|  w   | -0.3023662 |      0.1404797      | -2.1523843 | 0.0313671 |  *  |\n",
      "|  k   | 0.1251722  |      0.0986176      | 1.2692690  | 0.2043451 |     |\n",
      "| _con | 1.0985217  |      0.5594399      | 1.9636099  | 0.0495753 |  *  |\n",
      "+------+------------+---------------------+------------+-----------+-----+\n",
      "Hansen test of overid. restrictions: chi(2) = 15.879 Prob > Chi2 = 0.000\n",
      "Arellano-Bond test for AR(1) in first differences: z = -2.03 Pr > z =0.043\n",
      "Arellano-Bond test for AR(2) in first differences: z = -1.33 Pr > z =0.184\n",
      "\n"
     ]
    }
   ],
   "source": [
    "# Two-Step System GMM - lag (2-3)\n",
    "Two_Step_Sys_GMM2 = regression.abond('n L1.n w k | gmm(n, 2:3) iv(w k) | collapse', df, ['id', 'year'])"
   ]
  },
  {
   "cell_type": "markdown",
   "id": "e9852a7e",
   "metadata": {},
   "source": [
    "Permitindo todas as defasagens como instrumento."
   ]
  },
  {
   "cell_type": "code",
   "execution_count": 66,
   "id": "3bfbd350",
   "metadata": {},
   "outputs": [
    {
     "name": "stdout",
     "output_type": "stream",
     "text": [
      " Dynamic panel-data estimation, two-step system GMM\n",
      " Group variable: id                               Number of obs = 751     \n",
      " Time variable: year                              Min obs per group: 5    \n",
      " Number of instruments = 11                       Max obs per group: 7    \n",
      " Number of groups = 140                           Avg obs per group: 5.36 \n",
      "+------+------------+---------------------+------------+-----------+-----+\n",
      "|  n   |   coef.    | Corrected Std. Err. |     z      |   P>|z|   |     |\n",
      "+------+------------+---------------------+------------+-----------+-----+\n",
      "| L1.n | 0.5103802  |      0.1481366      | 3.4453352  | 0.0005704 | *** |\n",
      "|  w   | -0.3683856 |      0.1544791      | -2.3846950 | 0.0170933 |  *  |\n",
      "|  k   | 0.4036385  |      0.1164868      | 3.4651001  | 0.0005300 | *** |\n",
      "| _con | 1.8120008  |      0.6299040      | 2.8766298  | 0.0040195 |  ** |\n",
      "+------+------------+---------------------+------------+-----------+-----+\n",
      "Hansen test of overid. restrictions: chi(7) = 29.449 Prob > Chi2 = 0.000\n",
      "Arellano-Bond test for AR(1) in first differences: z = -1.81 Pr > z =0.070\n",
      "Arellano-Bond test for AR(2) in first differences: z = -0.51 Pr > z =0.611\n",
      "\n"
     ]
    }
   ],
   "source": [
    "# Two-Step System GMM - lag (2-...)\n",
    "Two_Step_Sys_GMM3 = regression.abond('n L1.n w k | gmm(n, 2:.) iv(w k) | collapse', df, ['id', 'year'])"
   ]
  },
  {
   "cell_type": "markdown",
   "id": "62f9e364",
   "metadata": {},
   "source": [
    "Adicionando efeitos fixos de ano"
   ]
  },
  {
   "cell_type": "code",
   "execution_count": 67,
   "id": "f00b0cc3",
   "metadata": {},
   "outputs": [
    {
     "name": "stdout",
     "output_type": "stream",
     "text": [
      " Dynamic panel-data estimation, two-step system GMM\n",
      " Group variable: id                               Number of obs = 751     \n",
      " Time variable: year                              Min obs per group: 5    \n",
      " Number of instruments = 18                       Max obs per group: 7    \n",
      " Number of groups = 140                           Avg obs per group: 5.36 \n",
      "+-----------+------------+---------------------+------------+-----------+-----+\n",
      "|     n     |   coef.    | Corrected Std. Err. |     z      |   P>|z|   |     |\n",
      "+-----------+------------+---------------------+------------+-----------+-----+\n",
      "|    L1.n   | 0.5621990  |      0.1871391      | 3.0041768  | 0.0026630 |  ** |\n",
      "|     w     | -0.2413994 |      0.1115897      | -2.1632763 | 0.0305199 |  *  |\n",
      "|     k     | 0.3547180  |      0.1462262      | 2.4258160  | 0.0152740 |  *  |\n",
      "| year_1978 | -0.0262823 |      0.0187601      | -1.4009676 | 0.1612237 |     |\n",
      "| year_1979 | -0.0365280 |      0.0217959      | -1.6759069 | 0.0937564 |     |\n",
      "| year_1980 | -0.0694300 |      0.0208031      | -3.3374766 | 0.0008454 | *** |\n",
      "| year_1981 | -0.1252760 |      0.0209755      | -5.9724866 | 0.0000000 | *** |\n",
      "| year_1982 | -0.1104323 |      0.0215343      | -5.1282021 | 0.0000003 | *** |\n",
      "| year_1983 | -0.0805166 |      0.0284794      | -2.8271917 | 0.0046958 |  ** |\n",
      "| year_1984 | -0.1197852 |      0.0421315      | -2.8431289 | 0.0044673 |  ** |\n",
      "|    _con   | 1.4183891  |      0.5753392      | 2.4653093  | 0.0136895 |  *  |\n",
      "+-----------+------------+---------------------+------------+-----------+-----+\n",
      "Hansen test of overid. restrictions: chi(7) = 9.331 Prob > Chi2 = 0.230\n",
      "Arellano-Bond test for AR(1) in first differences: z = -1.75 Pr > z =0.080\n",
      "Arellano-Bond test for AR(2) in first differences: z = -0.28 Pr > z =0.782\n",
      "\n"
     ]
    }
   ],
   "source": [
    "# Two-Step System GMM - Time fixed effects\n",
    "Two_Step_Sys_GMM4 = regression.abond('n L1.n w k | gmm(n, 2:.) iv(w k) | timedumm collapse', df, ['id', 'year'])"
   ]
  },
  {
   "cell_type": "markdown",
   "id": "4a3a5f76",
   "metadata": {},
   "source": [
    "Modelo Iterativo e considerando as covariáveis como predeterminadas.\n"
   ]
  },
  {
   "cell_type": "code",
   "execution_count": 68,
   "id": "b03eb589",
   "metadata": {},
   "outputs": [
    {
     "name": "stdout",
     "output_type": "stream",
     "text": [
      " Dynamic panel-data estimation, 18-step system GMM\n",
      " Group variable: id                               Number of obs = 751     \n",
      " Time variable: year                              Min obs per group: 5    \n",
      " Number of instruments = 34                       Max obs per group: 7    \n",
      " Number of groups = 140                           Avg obs per group: 5.36 \n",
      "+-----------+------------+---------------------+------------+-----------+-----+\n",
      "|     n     |   coef.    | Corrected Std. Err. |     z      |   P>|z|   |     |\n",
      "+-----------+------------+---------------------+------------+-----------+-----+\n",
      "|    L1.n   | 0.9851469  |      0.0750937      | 13.1188973 | 0.0000000 | *** |\n",
      "|     w     | -0.3715333 |      0.1473139      | -2.5220530 | 0.0116672 |  *  |\n",
      "|     k     | 0.1539436  |      0.0563663      | 2.7311291  | 0.0063118 |  ** |\n",
      "| year_1978 | -0.0333228 |      0.0178837      | -1.8633021 | 0.0624198 |     |\n",
      "| year_1979 | -0.0510517 |      0.0210822      | -2.4215521 | 0.0154544 |  *  |\n",
      "| year_1980 | -0.0715263 |      0.0209086      | -3.4208984 | 0.0006241 | *** |\n",
      "| year_1981 | -0.1383246 |      0.0238932      | -5.7892908 | 0.0000000 | *** |\n",
      "| year_1982 | -0.0852978 |      0.0217390      | -3.9237152 | 0.0000872 | *** |\n",
      "| year_1983 | -0.0011446 |      0.0282671      | -0.0404917 | 0.9677011 |     |\n",
      "| year_1984 | -0.0103706 |      0.0293842      | -0.3529293 | 0.7241415 |     |\n",
      "|    _con   | 1.2663369  |      0.4775710      | 2.6516203  | 0.0080107 |  ** |\n",
      "+-----------+------------+---------------------+------------+-----------+-----+\n",
      "Hansen test of overid. restrictions: chi(23) = 30.791 Prob > Chi2 = 0.128\n",
      "Arellano-Bond test for AR(1) in first differences: z = -2.60 Pr > z =0.009\n",
      "Arellano-Bond test for AR(2) in first differences: z = -1.09 Pr > z =0.276\n",
      "\n"
     ]
    }
   ],
   "source": [
    "# Two-Step System GMM - Iterative e Time fixed effects\n",
    "Iterated_Sys_GMM = regression.abond('n L1.n w k | gmm(n, 2:.) pred(w k) | iterated timedumm collapse', df, ['id', 'year'])"
   ]
  },
  {
   "cell_type": "markdown",
   "id": "9987be7b",
   "metadata": {},
   "source": [
    "**Alguém poderia perguntar**:\n",
    "\n",
    "* E caso eu queira utilizar as defasagens como instrumentos internos para outra variável endógena? Vamos assumir que desconfiamos que $k$ seja endógena. Então, podemos utilizar as defasagens de $k$ como instrumentos para $k$."
   ]
  },
  {
   "cell_type": "code",
   "execution_count": 69,
   "id": "78d39fc1",
   "metadata": {},
   "outputs": [
    {
     "name": "stdout",
     "output_type": "stream",
     "text": [
      " Dynamic panel-data estimation, two-step system GMM\n",
      " Group variable: id                               Number of obs = 751     \n",
      " Time variable: year                              Min obs per group: 5    \n",
      " Number of instruments = 21                       Max obs per group: 7    \n",
      " Number of groups = 140                           Avg obs per group: 5.36 \n",
      "+-----------+------------+---------------------+------------+-----------+-----+\n",
      "|     n     |   coef.    | Corrected Std. Err. |     z      |   P>|z|   |     |\n",
      "+-----------+------------+---------------------+------------+-----------+-----+\n",
      "|    L1.n   | 0.7702054  |      0.1530545      | 5.0322294  | 0.0000005 | *** |\n",
      "|     w     | -0.1741308 |      0.0538857      | -3.2314868 | 0.0012315 |  ** |\n",
      "|     k     | 0.2331483  |      0.0714535      | 3.2629388  | 0.0011026 |  ** |\n",
      "| year_1978 | -0.0173987 |      0.0177855      | -0.9782516 | 0.3279499 |     |\n",
      "| year_1979 | -0.0283925 |      0.0204651      | -1.3873609 | 0.1653317 |     |\n",
      "| year_1980 | -0.0588412 |      0.0210461      | -2.7958291 | 0.0051767 |  ** |\n",
      "| year_1981 | -0.1266768 |      0.0239713      | -5.2845276 | 0.0000001 | *** |\n",
      "| year_1982 | -0.0982542 |      0.0282233      | -3.4813092 | 0.0004990 | *** |\n",
      "| year_1983 | -0.0541587 |      0.0378049      | -1.4325844 | 0.1519766 |     |\n",
      "| year_1984 | -0.0653906 |      0.0563273      | -1.1609054 | 0.2456804 |     |\n",
      "|    _con   | 0.9207441  |      0.2803546      | 3.2842122  | 0.0010227 |  ** |\n",
      "+-----------+------------+---------------------+------------+-----------+-----+\n",
      "Hansen test of overid. restrictions: chi(10) = 16.843 Prob > Chi2 = 0.078\n",
      "Arellano-Bond test for AR(1) in first differences: z = -2.20 Pr > z =0.028\n",
      "Arellano-Bond test for AR(2) in first differences: z = -0.51 Pr > z =0.613\n",
      "\n"
     ]
    }
   ],
   "source": [
    "# Two-Step System GMM - com Time fixed effects\n",
    "TS_Sys_GMM_TFE = regression.abond('n L1.n w k | gmm(n, 2:.) gmm(k, 2:4) iv(w) | timedumm collapse', df, ['id', 'year'])"
   ]
  },
  {
   "cell_type": "markdown",
   "id": "656a6ef6",
   "metadata": {},
   "source": [
    "**Como calcular o efeito de longo prazo de k?**\n",
    "\n",
    "Vejamos a partir da última regressão"
   ]
  },
  {
   "cell_type": "code",
   "execution_count": 70,
   "id": "5bb6a6d2",
   "metadata": {},
   "outputs": [
    {
     "data": {
      "text/html": [
       "<div>\n",
       "<style scoped>\n",
       "    .dataframe tbody tr th:only-of-type {\n",
       "        vertical-align: middle;\n",
       "    }\n",
       "\n",
       "    .dataframe tbody tr th {\n",
       "        vertical-align: top;\n",
       "    }\n",
       "\n",
       "    .dataframe thead th {\n",
       "        text-align: right;\n",
       "    }\n",
       "</style>\n",
       "<table border=\"1\" class=\"dataframe\">\n",
       "  <thead>\n",
       "    <tr style=\"text-align: right;\">\n",
       "      <th></th>\n",
       "      <th>variable</th>\n",
       "      <th>coefficient</th>\n",
       "      <th>std_err</th>\n",
       "      <th>z_value</th>\n",
       "      <th>p_value</th>\n",
       "      <th>sig</th>\n",
       "    </tr>\n",
       "  </thead>\n",
       "  <tbody>\n",
       "    <tr>\n",
       "      <th>0</th>\n",
       "      <td>L1.n</td>\n",
       "      <td>0.770205</td>\n",
       "      <td>0.153055</td>\n",
       "      <td>5.032229</td>\n",
       "      <td>4.848088e-07</td>\n",
       "      <td>***</td>\n",
       "    </tr>\n",
       "    <tr>\n",
       "      <th>1</th>\n",
       "      <td>w</td>\n",
       "      <td>-0.174131</td>\n",
       "      <td>0.053886</td>\n",
       "      <td>-3.231487</td>\n",
       "      <td>1.231480e-03</td>\n",
       "      <td>**</td>\n",
       "    </tr>\n",
       "    <tr>\n",
       "      <th>2</th>\n",
       "      <td>k</td>\n",
       "      <td>0.233148</td>\n",
       "      <td>0.071453</td>\n",
       "      <td>3.262939</td>\n",
       "      <td>1.102633e-03</td>\n",
       "      <td>**</td>\n",
       "    </tr>\n",
       "    <tr>\n",
       "      <th>3</th>\n",
       "      <td>year_1978</td>\n",
       "      <td>-0.017399</td>\n",
       "      <td>0.017786</td>\n",
       "      <td>-0.978252</td>\n",
       "      <td>3.279499e-01</td>\n",
       "      <td></td>\n",
       "    </tr>\n",
       "    <tr>\n",
       "      <th>4</th>\n",
       "      <td>year_1979</td>\n",
       "      <td>-0.028393</td>\n",
       "      <td>0.020465</td>\n",
       "      <td>-1.387361</td>\n",
       "      <td>1.653317e-01</td>\n",
       "      <td></td>\n",
       "    </tr>\n",
       "    <tr>\n",
       "      <th>5</th>\n",
       "      <td>year_1980</td>\n",
       "      <td>-0.058841</td>\n",
       "      <td>0.021046</td>\n",
       "      <td>-2.795829</td>\n",
       "      <td>5.176677e-03</td>\n",
       "      <td>**</td>\n",
       "    </tr>\n",
       "    <tr>\n",
       "      <th>6</th>\n",
       "      <td>year_1981</td>\n",
       "      <td>-0.126677</td>\n",
       "      <td>0.023971</td>\n",
       "      <td>-5.284528</td>\n",
       "      <td>1.260295e-07</td>\n",
       "      <td>***</td>\n",
       "    </tr>\n",
       "    <tr>\n",
       "      <th>7</th>\n",
       "      <td>year_1982</td>\n",
       "      <td>-0.098254</td>\n",
       "      <td>0.028223</td>\n",
       "      <td>-3.481309</td>\n",
       "      <td>4.989691e-04</td>\n",
       "      <td>***</td>\n",
       "    </tr>\n",
       "    <tr>\n",
       "      <th>8</th>\n",
       "      <td>year_1983</td>\n",
       "      <td>-0.054159</td>\n",
       "      <td>0.037805</td>\n",
       "      <td>-1.432584</td>\n",
       "      <td>1.519766e-01</td>\n",
       "      <td></td>\n",
       "    </tr>\n",
       "    <tr>\n",
       "      <th>9</th>\n",
       "      <td>year_1984</td>\n",
       "      <td>-0.065391</td>\n",
       "      <td>0.056327</td>\n",
       "      <td>-1.160905</td>\n",
       "      <td>2.456804e-01</td>\n",
       "      <td></td>\n",
       "    </tr>\n",
       "    <tr>\n",
       "      <th>10</th>\n",
       "      <td>_con</td>\n",
       "      <td>0.920744</td>\n",
       "      <td>0.280355</td>\n",
       "      <td>3.284212</td>\n",
       "      <td>1.022679e-03</td>\n",
       "      <td>**</td>\n",
       "    </tr>\n",
       "  </tbody>\n",
       "</table>\n",
       "</div>"
      ],
      "text/plain": [
       "     variable  coefficient   std_err   z_value       p_value  sig\n",
       "0        L1.n     0.770205  0.153055  5.032229  4.848088e-07  ***\n",
       "1           w    -0.174131  0.053886 -3.231487  1.231480e-03   **\n",
       "2           k     0.233148  0.071453  3.262939  1.102633e-03   **\n",
       "3   year_1978    -0.017399  0.017786 -0.978252  3.279499e-01     \n",
       "4   year_1979    -0.028393  0.020465 -1.387361  1.653317e-01     \n",
       "5   year_1980    -0.058841  0.021046 -2.795829  5.176677e-03   **\n",
       "6   year_1981    -0.126677  0.023971 -5.284528  1.260295e-07  ***\n",
       "7   year_1982    -0.098254  0.028223 -3.481309  4.989691e-04  ***\n",
       "8   year_1983    -0.054159  0.037805 -1.432584  1.519766e-01     \n",
       "9   year_1984    -0.065391  0.056327 -1.160905  2.456804e-01     \n",
       "10       _con     0.920744  0.280355  3.284212  1.022679e-03   **"
      ]
     },
     "execution_count": 70,
     "metadata": {},
     "output_type": "execute_result"
    }
   ],
   "source": [
    "TS_Sys_GMM_TFE.models[0].regression_table"
   ]
  },
  {
   "cell_type": "code",
   "execution_count": 71,
   "id": "61456274",
   "metadata": {},
   "outputs": [
    {
     "name": "stdout",
     "output_type": "stream",
     "text": [
      "1.0145939508350157\n"
     ]
    }
   ],
   "source": [
    "# Calculando o efeito de longo prazo para k\n",
    "rho = TS_Sys_GMM_TFE.models[0].regression_table.iloc[0]['coefficient']\n",
    "k_beta = TS_Sys_GMM_TFE.models[0].regression_table.iloc[2]['coefficient']\n",
    "lr_k_beta = k_beta / (1 - rho)\n",
    "print(lr_k_beta)\n"
   ]
  },
  {
   "cell_type": "code",
   "execution_count": 72,
   "id": "960115e6",
   "metadata": {},
   "outputs": [
    {
     "name": "stdout",
     "output_type": "stream",
     "text": [
      "2.544379059344379\n"
     ]
    },
    {
     "ename": "",
     "evalue": "",
     "output_type": "error",
     "traceback": [
      "\u001b[1;31mThe Kernel crashed while executing code in the the current cell or a previous cell. Please review the code in the cell(s) to identify a possible cause of the failure. Click <a href='https://aka.ms/vscodeJupyterKernelCrash'>here</a> for more info. View Jupyter <a href='command:jupyter.viewOutput'>log</a> for further details."
     ]
    }
   ],
   "source": [
    "# Estatística de teste\n",
    "erro_padrao_k = TS_Sys_GMM_TFE.models[0].regression_table.iloc[1]['std_err']\n",
    "erro_padrao_longo_prazo_k = erro_padrao_k / ((1 - k_beta) ** 2)\n",
    "estatistica_z_k = k_beta / erro_padrao_longo_prazo_k\n",
    "print(estatistica_z_k)"
   ]
  },
  {
   "cell_type": "markdown",
   "id": "29553ad6",
   "metadata": {},
   "source": [
    "#### Aplicação na Literatura\n",
    "\n",
    "**RBE - Revista Brasileira de Economia**: https://periodicos.fgv.br/rbe/article/view/77642 (2020)\n",
    "\n",
    "\n",
    "<div style=\"text-align:center;\">\n",
    "    <img src=\"images/RBE1.png\"  alt=\"Imagem\" style=\"width: 500px;\"/>\n",
    "</div>\n",
    "\n",
    "\n",
    "<div style=\"text-align:center;\">\n",
    "    <img src=\"images/RBE2.png\"  alt=\"Imagem\" style=\"width: 500px;\"/>\n",
    "</div>\n"
   ]
  },
  {
   "cell_type": "markdown",
   "id": "04c28194",
   "metadata": {},
   "source": [
    "#### Considerações\n",
    "\n",
    "* As críticas à esse tipo de estimador recaem principalmente à **dependência da escolha dos instrumentos por parte dos pesquidor**. Assim, o pesquisador pode ajustar o numero de defasagens serão utilizadas como instrumento, gerando uma arbitrariedade sobre a escolha do modelo e dos prováveis resultados.\n",
    "* Os **instrumentos internos** são teóricamente válidos, entretanto há críticas sobre sua relação teórica com a variável endógena."
   ]
  }
 ],
 "metadata": {
  "kernelspec": {
   "display_name": "Python 3",
   "language": "python",
   "name": "python3"
  },
  "language_info": {
   "codemirror_mode": {
    "name": "ipython",
    "version": 3
   },
   "file_extension": ".py",
   "mimetype": "text/x-python",
   "name": "python",
   "nbconvert_exporter": "python",
   "pygments_lexer": "ipython3",
   "version": "3.11.5"
  }
 },
 "nbformat": 4,
 "nbformat_minor": 5
}
